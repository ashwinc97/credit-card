{
  "nbformat": 4,
  "nbformat_minor": 0,
  "metadata": {
    "colab": {
      "name": "Capstone_Project_Credit_Card_Fraud_Detection.ipynb",
      "provenance": [],
      "collapsed_sections": [
        "tD9JuERnnQRI"
      ]
    },
    "kernelspec": {
      "display_name": "Python 3",
      "language": "python",
      "name": "python3"
    },
    "language_info": {
      "codemirror_mode": {
        "name": "ipython",
        "version": 3
      },
      "file_extension": ".py",
      "mimetype": "text/x-python",
      "name": "python",
      "nbconvert_exporter": "python",
      "pygments_lexer": "ipython3",
      "version": "3.8.3"
    }
  },
  "cells": [
    {
      "cell_type": "markdown",
      "metadata": {
        "id": "2HaNXVm2nQQJ"
      },
      "source": [
        "# Capstone Project: Credit Card Fraud Detection"
      ]
    },
    {
      "cell_type": "markdown",
      "metadata": {
        "id": "Vo81qtGVnQQc"
      },
      "source": [
        "## Problem Statement"
      ]
    },
    {
      "cell_type": "markdown",
      "metadata": {
        "id": "EcKjnAG5nQQe"
      },
      "source": [
        "The problem statement chosen for this project is to predict fraudulent credit card transactions with the help of machine learning models.\n",
        "\n",
        "In this project, you will analyse customer-level data which has been collected and analysed during a research collaboration of Worldline and the Machine Learning Group.\n",
        "\n",
        "The dataset is taken from the Kaggle website and it has a total of 2,84,807 transactions, out of which 492 are fraudulent. Since the dataset is highly imbalanced, so it needs to be handled before model building."
      ]
    },
    {
      "cell_type": "markdown",
      "metadata": {
        "id": "m953kFOinQQh"
      },
      "source": [
        "## Business Problem Overview"
      ]
    },
    {
      "cell_type": "markdown",
      "metadata": {
        "id": "Fb_sqjWrnQQj"
      },
      "source": [
        "For many banks, retaining high profitable customers is the number one business goal. Banking fraud, however, poses a significant threat to this goal for different banks. In terms of substantial financial losses, trust and credibility, this is a concerning issue to both banks and customers alike.\n",
        "\n",
        "It has been estimated by Nilson report that by 2020 the banking frauds would account to $30 billion worldwide. With the rise in digital payment channels, the number of fraudulent transactions is also increasing with new and different ways.\n",
        "\n",
        "In the banking industry, credit card fraud detection using machine learning is not just a trend but a necessity for them to put proactive monitoring and fraud prevention mechanisms in place. Machine learning is helping these institutions to reduce time-consuming manual reviews, costly chargebacks and fees, and denials of legitimate transactions."
      ]
    },
    {
      "cell_type": "markdown",
      "metadata": {
        "id": "OzxmaAMZnQQm"
      },
      "source": [
        "### Project Pipeline"
      ]
    },
    {
      "cell_type": "markdown",
      "metadata": {
        "id": "ouK90qf7nQQo"
      },
      "source": [
        "The project pipeline can be briefly summarized in the following four steps:\n",
        "\n",
        "Data Understanding: Here, you need to load the data and understand the features present in it. This would help you choose the features that you will need for your final model.\n",
        "\n",
        "Exploratory data analytics (EDA): Normally, in this step, you need to perform univariate and bivariate analyses of the data, followed by feature transformations, if necessary. For the current data set, because Gaussian variables are used, you do not need to perform Z-scaling. However, you can check if there is any skewness in the data and try to mitigate it, as it might cause problems during the model-building phase.\n",
        "\n",
        "Train/Test Split: Now you are familiar with the train/test split, which you can perform in order to check the performance of your models with unseen data. Here, for validation, you can use the k-fold cross-validation method. You need to choose an appropriate k value so that the minority class is correctly represented in the test folds.\n",
        "\n",
        "Model-Building/Hyperparameter Tuning: This is the final step at which you can try different models and fine-tune their hyperparameters until you get the desired level of performance on the given dataset. You should try and see if you get a better model by the various sampling techniques.\n",
        "\n",
        "Model Evaluation: Evaluate the models using appropriate evaluation metrics. Note that since the data is imbalanced it is is more important to identify which are fraudulent transactions accurately than the non-fraudulent. Choose an appropriate evaluation metric which reflects this business goal."
      ]
    },
    {
      "cell_type": "markdown",
      "metadata": {
        "id": "S3kSPT_gnQQt"
      },
      "source": [
        "### Below are the steps which we will be basically following:"
      ]
    },
    {
      "cell_type": "markdown",
      "metadata": {
        "id": "hwLgQ28HnQQy"
      },
      "source": [
        "- Step 1: Reading and Understanding the Data\n",
        "- Step 2: Data Cleansing\n",
        "   - Null Check\n",
        "   - Data type check\n",
        "- Step 3: Data Visualization\n",
        "  - Imbalanced Data check\n",
        "  - Data Distribution Plots\n",
        "- Step 4: Splitting the Data into Training and Testing Sets\n",
        "  - Stratified Train Test Split\n",
        "  - Skewness Check and Fix\n",
        "- Step 5: Building a Logistic Model\n",
        "  - Logistic Regression on Imbalanced Data\n",
        "  - Random Forest on Imbalanced Data\n",
        "  \n",
        "  - Logistic Regression on Balanced Data (Random Over Sampling,SMOTE,ADASYN)\n",
        "  - Random Forest on Balanced Data (Random Over Sampling,SMOTE,ADASYN)\n",
        "  \n",
        "  - Stratified K-Fold and Hyperparameter Tuning\n",
        "  - Classification Report\n",
        "  - Confusion Matrix\n",
        "  - ROC AUC Curve\n",
        "- Step 6: Final Analysis\n",
        "  - Best Model Selection\n",
        "  - Features Importance\n",
        "- Step 7: Closing Statement"
      ]
    },
    {
      "cell_type": "markdown",
      "metadata": {
        "id": "fR0kT9P7nQQ3"
      },
      "source": [
        "### Step 1: Reading and Understanding the Data"
      ]
    },
    {
      "cell_type": "code",
      "metadata": {
        "colab": {
          "background_save": true
        },
        "id": "6Kl9MAJunQQ6"
      },
      "source": [
        "# Importing the libraries \n",
        "import pandas as pd\n",
        "import numpy as np\n",
        "import matplotlib.pyplot as plt\n",
        "import seaborn as sns\n",
        "import warnings\n",
        "warnings.filterwarnings('ignore')\n",
        "from google.colab import files\n",
        "import io\n",
        "from sklearn.metrics import accuracy_score, f1_score, precision_score, recall_score, classification_report, confusion_matrix, roc_auc_score\n"
      ],
      "execution_count": null,
      "outputs": []
    },
    {
      "cell_type": "code",
      "metadata": {
        "colab": {
          "background_save": true
        },
        "id": "U8dijPOgp188",
        "outputId": "f2f971db-7844-48bc-cb5d-90d99a4529f3"
      },
      "source": [
        "from google.colab import drive\n",
        "drive.mount('/content/drive')"
      ],
      "execution_count": null,
      "outputs": [
        {
          "name": "stdout",
          "output_type": "stream",
          "text": [
            "Drive already mounted at /content/drive; to attempt to forcibly remount, call drive.mount(\"/content/drive\", force_remount=True).\n"
          ]
        }
      ]
    },
    {
      "cell_type": "code",
      "metadata": {
        "colab": {
          "base_uri": "https://localhost:8080/",
          "height": 521
        },
        "id": "zxtEPJu-nQQ-",
        "outputId": "b965f9a5-8acf-4caa-809f-51a402bdd94e"
      },
      "source": [
        "df_train=pd.read_csv('/content/drive/MyDrive/Colab Notebooks/fraud detection case study/fraudTrain.csv')\n",
        "df_train.head()"
      ],
      "execution_count": null,
      "outputs": [
        {
          "data": {
            "text/html": [
              "<div>\n",
              "<style scoped>\n",
              "    .dataframe tbody tr th:only-of-type {\n",
              "        vertical-align: middle;\n",
              "    }\n",
              "\n",
              "    .dataframe tbody tr th {\n",
              "        vertical-align: top;\n",
              "    }\n",
              "\n",
              "    .dataframe thead th {\n",
              "        text-align: right;\n",
              "    }\n",
              "</style>\n",
              "<table border=\"1\" class=\"dataframe\">\n",
              "  <thead>\n",
              "    <tr style=\"text-align: right;\">\n",
              "      <th></th>\n",
              "      <th>Unnamed: 0</th>\n",
              "      <th>trans_date_trans_time</th>\n",
              "      <th>cc_num</th>\n",
              "      <th>merchant</th>\n",
              "      <th>category</th>\n",
              "      <th>amt</th>\n",
              "      <th>first</th>\n",
              "      <th>last</th>\n",
              "      <th>gender</th>\n",
              "      <th>street</th>\n",
              "      <th>city</th>\n",
              "      <th>state</th>\n",
              "      <th>zip</th>\n",
              "      <th>lat</th>\n",
              "      <th>long</th>\n",
              "      <th>city_pop</th>\n",
              "      <th>job</th>\n",
              "      <th>dob</th>\n",
              "      <th>trans_num</th>\n",
              "      <th>unix_time</th>\n",
              "      <th>merch_lat</th>\n",
              "      <th>merch_long</th>\n",
              "      <th>is_fraud</th>\n",
              "    </tr>\n",
              "  </thead>\n",
              "  <tbody>\n",
              "    <tr>\n",
              "      <th>0</th>\n",
              "      <td>0</td>\n",
              "      <td>2019-01-01 00:00:18</td>\n",
              "      <td>2703186189652095</td>\n",
              "      <td>fraud_Rippin, Kub and Mann</td>\n",
              "      <td>misc_net</td>\n",
              "      <td>4.97</td>\n",
              "      <td>Jennifer</td>\n",
              "      <td>Banks</td>\n",
              "      <td>F</td>\n",
              "      <td>561 Perry Cove</td>\n",
              "      <td>Moravian Falls</td>\n",
              "      <td>NC</td>\n",
              "      <td>28654</td>\n",
              "      <td>36.0788</td>\n",
              "      <td>-81.1781</td>\n",
              "      <td>3495</td>\n",
              "      <td>Psychologist, counselling</td>\n",
              "      <td>1988-03-09</td>\n",
              "      <td>0b242abb623afc578575680df30655b9</td>\n",
              "      <td>1325376018</td>\n",
              "      <td>36.011293</td>\n",
              "      <td>-82.048315</td>\n",
              "      <td>0</td>\n",
              "    </tr>\n",
              "    <tr>\n",
              "      <th>1</th>\n",
              "      <td>1</td>\n",
              "      <td>2019-01-01 00:00:44</td>\n",
              "      <td>630423337322</td>\n",
              "      <td>fraud_Heller, Gutmann and Zieme</td>\n",
              "      <td>grocery_pos</td>\n",
              "      <td>107.23</td>\n",
              "      <td>Stephanie</td>\n",
              "      <td>Gill</td>\n",
              "      <td>F</td>\n",
              "      <td>43039 Riley Greens Suite 393</td>\n",
              "      <td>Orient</td>\n",
              "      <td>WA</td>\n",
              "      <td>99160</td>\n",
              "      <td>48.8878</td>\n",
              "      <td>-118.2105</td>\n",
              "      <td>149</td>\n",
              "      <td>Special educational needs teacher</td>\n",
              "      <td>1978-06-21</td>\n",
              "      <td>1f76529f8574734946361c461b024d99</td>\n",
              "      <td>1325376044</td>\n",
              "      <td>49.159047</td>\n",
              "      <td>-118.186462</td>\n",
              "      <td>0</td>\n",
              "    </tr>\n",
              "    <tr>\n",
              "      <th>2</th>\n",
              "      <td>2</td>\n",
              "      <td>2019-01-01 00:00:51</td>\n",
              "      <td>38859492057661</td>\n",
              "      <td>fraud_Lind-Buckridge</td>\n",
              "      <td>entertainment</td>\n",
              "      <td>220.11</td>\n",
              "      <td>Edward</td>\n",
              "      <td>Sanchez</td>\n",
              "      <td>M</td>\n",
              "      <td>594 White Dale Suite 530</td>\n",
              "      <td>Malad City</td>\n",
              "      <td>ID</td>\n",
              "      <td>83252</td>\n",
              "      <td>42.1808</td>\n",
              "      <td>-112.2620</td>\n",
              "      <td>4154</td>\n",
              "      <td>Nature conservation officer</td>\n",
              "      <td>1962-01-19</td>\n",
              "      <td>a1a22d70485983eac12b5b88dad1cf95</td>\n",
              "      <td>1325376051</td>\n",
              "      <td>43.150704</td>\n",
              "      <td>-112.154481</td>\n",
              "      <td>0</td>\n",
              "    </tr>\n",
              "    <tr>\n",
              "      <th>3</th>\n",
              "      <td>3</td>\n",
              "      <td>2019-01-01 00:01:16</td>\n",
              "      <td>3534093764340240</td>\n",
              "      <td>fraud_Kutch, Hermiston and Farrell</td>\n",
              "      <td>gas_transport</td>\n",
              "      <td>45.00</td>\n",
              "      <td>Jeremy</td>\n",
              "      <td>White</td>\n",
              "      <td>M</td>\n",
              "      <td>9443 Cynthia Court Apt. 038</td>\n",
              "      <td>Boulder</td>\n",
              "      <td>MT</td>\n",
              "      <td>59632</td>\n",
              "      <td>46.2306</td>\n",
              "      <td>-112.1138</td>\n",
              "      <td>1939</td>\n",
              "      <td>Patent attorney</td>\n",
              "      <td>1967-01-12</td>\n",
              "      <td>6b849c168bdad6f867558c3793159a81</td>\n",
              "      <td>1325376076</td>\n",
              "      <td>47.034331</td>\n",
              "      <td>-112.561071</td>\n",
              "      <td>0</td>\n",
              "    </tr>\n",
              "    <tr>\n",
              "      <th>4</th>\n",
              "      <td>4</td>\n",
              "      <td>2019-01-01 00:03:06</td>\n",
              "      <td>375534208663984</td>\n",
              "      <td>fraud_Keeling-Crist</td>\n",
              "      <td>misc_pos</td>\n",
              "      <td>41.96</td>\n",
              "      <td>Tyler</td>\n",
              "      <td>Garcia</td>\n",
              "      <td>M</td>\n",
              "      <td>408 Bradley Rest</td>\n",
              "      <td>Doe Hill</td>\n",
              "      <td>VA</td>\n",
              "      <td>24433</td>\n",
              "      <td>38.4207</td>\n",
              "      <td>-79.4629</td>\n",
              "      <td>99</td>\n",
              "      <td>Dance movement psychotherapist</td>\n",
              "      <td>1986-03-28</td>\n",
              "      <td>a41d7549acf90789359a9aa5346dcb46</td>\n",
              "      <td>1325376186</td>\n",
              "      <td>38.674999</td>\n",
              "      <td>-78.632459</td>\n",
              "      <td>0</td>\n",
              "    </tr>\n",
              "  </tbody>\n",
              "</table>\n",
              "</div>"
            ],
            "text/plain": [
              "   Unnamed: 0 trans_date_trans_time  ...  merch_long is_fraud\n",
              "0           0   2019-01-01 00:00:18  ...  -82.048315        0\n",
              "1           1   2019-01-01 00:00:44  ... -118.186462        0\n",
              "2           2   2019-01-01 00:00:51  ... -112.154481        0\n",
              "3           3   2019-01-01 00:01:16  ... -112.561071        0\n",
              "4           4   2019-01-01 00:03:06  ...  -78.632459        0\n",
              "\n",
              "[5 rows x 23 columns]"
            ]
          },
          "execution_count": 3,
          "metadata": {},
          "output_type": "execute_result"
        }
      ]
    },
    {
      "cell_type": "code",
      "metadata": {
        "colab": {
          "base_uri": "https://localhost:8080/",
          "height": 452
        },
        "id": "4VLq3mCUnQRD",
        "outputId": "275b4dc5-aaff-4a02-aefd-f32562457b71"
      },
      "source": [
        "df_test=pd.read_csv('/content/drive/MyDrive/Colab Notebooks/fraud detection case study/fraudTest.csv')\n",
        "df_test.head()"
      ],
      "execution_count": null,
      "outputs": [
        {
          "data": {
            "text/html": [
              "<div>\n",
              "<style scoped>\n",
              "    .dataframe tbody tr th:only-of-type {\n",
              "        vertical-align: middle;\n",
              "    }\n",
              "\n",
              "    .dataframe tbody tr th {\n",
              "        vertical-align: top;\n",
              "    }\n",
              "\n",
              "    .dataframe thead th {\n",
              "        text-align: right;\n",
              "    }\n",
              "</style>\n",
              "<table border=\"1\" class=\"dataframe\">\n",
              "  <thead>\n",
              "    <tr style=\"text-align: right;\">\n",
              "      <th></th>\n",
              "      <th>Unnamed: 0</th>\n",
              "      <th>trans_date_trans_time</th>\n",
              "      <th>cc_num</th>\n",
              "      <th>merchant</th>\n",
              "      <th>category</th>\n",
              "      <th>amt</th>\n",
              "      <th>first</th>\n",
              "      <th>last</th>\n",
              "      <th>gender</th>\n",
              "      <th>street</th>\n",
              "      <th>city</th>\n",
              "      <th>state</th>\n",
              "      <th>zip</th>\n",
              "      <th>lat</th>\n",
              "      <th>long</th>\n",
              "      <th>city_pop</th>\n",
              "      <th>job</th>\n",
              "      <th>dob</th>\n",
              "      <th>trans_num</th>\n",
              "      <th>unix_time</th>\n",
              "      <th>merch_lat</th>\n",
              "      <th>merch_long</th>\n",
              "      <th>is_fraud</th>\n",
              "    </tr>\n",
              "  </thead>\n",
              "  <tbody>\n",
              "    <tr>\n",
              "      <th>0</th>\n",
              "      <td>0</td>\n",
              "      <td>2020-06-21 12:14:25</td>\n",
              "      <td>2291163933867244</td>\n",
              "      <td>fraud_Kirlin and Sons</td>\n",
              "      <td>personal_care</td>\n",
              "      <td>2.86</td>\n",
              "      <td>Jeff</td>\n",
              "      <td>Elliott</td>\n",
              "      <td>M</td>\n",
              "      <td>351 Darlene Green</td>\n",
              "      <td>Columbia</td>\n",
              "      <td>SC</td>\n",
              "      <td>29209</td>\n",
              "      <td>33.9659</td>\n",
              "      <td>-80.9355</td>\n",
              "      <td>333497</td>\n",
              "      <td>Mechanical engineer</td>\n",
              "      <td>1968-03-19</td>\n",
              "      <td>2da90c7d74bd46a0caf3777415b3ebd3</td>\n",
              "      <td>1371816865</td>\n",
              "      <td>33.986391</td>\n",
              "      <td>-81.200714</td>\n",
              "      <td>0</td>\n",
              "    </tr>\n",
              "    <tr>\n",
              "      <th>1</th>\n",
              "      <td>1</td>\n",
              "      <td>2020-06-21 12:14:33</td>\n",
              "      <td>3573030041201292</td>\n",
              "      <td>fraud_Sporer-Keebler</td>\n",
              "      <td>personal_care</td>\n",
              "      <td>29.84</td>\n",
              "      <td>Joanne</td>\n",
              "      <td>Williams</td>\n",
              "      <td>F</td>\n",
              "      <td>3638 Marsh Union</td>\n",
              "      <td>Altonah</td>\n",
              "      <td>UT</td>\n",
              "      <td>84002</td>\n",
              "      <td>40.3207</td>\n",
              "      <td>-110.4360</td>\n",
              "      <td>302</td>\n",
              "      <td>Sales professional, IT</td>\n",
              "      <td>1990-01-17</td>\n",
              "      <td>324cc204407e99f51b0d6ca0055005e7</td>\n",
              "      <td>1371816873</td>\n",
              "      <td>39.450498</td>\n",
              "      <td>-109.960431</td>\n",
              "      <td>0</td>\n",
              "    </tr>\n",
              "    <tr>\n",
              "      <th>2</th>\n",
              "      <td>2</td>\n",
              "      <td>2020-06-21 12:14:53</td>\n",
              "      <td>3598215285024754</td>\n",
              "      <td>fraud_Swaniawski, Nitzsche and Welch</td>\n",
              "      <td>health_fitness</td>\n",
              "      <td>41.28</td>\n",
              "      <td>Ashley</td>\n",
              "      <td>Lopez</td>\n",
              "      <td>F</td>\n",
              "      <td>9333 Valentine Point</td>\n",
              "      <td>Bellmore</td>\n",
              "      <td>NY</td>\n",
              "      <td>11710</td>\n",
              "      <td>40.6729</td>\n",
              "      <td>-73.5365</td>\n",
              "      <td>34496</td>\n",
              "      <td>Librarian, public</td>\n",
              "      <td>1970-10-21</td>\n",
              "      <td>c81755dbbbea9d5c77f094348a7579be</td>\n",
              "      <td>1371816893</td>\n",
              "      <td>40.495810</td>\n",
              "      <td>-74.196111</td>\n",
              "      <td>0</td>\n",
              "    </tr>\n",
              "    <tr>\n",
              "      <th>3</th>\n",
              "      <td>3</td>\n",
              "      <td>2020-06-21 12:15:15</td>\n",
              "      <td>3591919803438423</td>\n",
              "      <td>fraud_Haley Group</td>\n",
              "      <td>misc_pos</td>\n",
              "      <td>60.05</td>\n",
              "      <td>Brian</td>\n",
              "      <td>Williams</td>\n",
              "      <td>M</td>\n",
              "      <td>32941 Krystal Mill Apt. 552</td>\n",
              "      <td>Titusville</td>\n",
              "      <td>FL</td>\n",
              "      <td>32780</td>\n",
              "      <td>28.5697</td>\n",
              "      <td>-80.8191</td>\n",
              "      <td>54767</td>\n",
              "      <td>Set designer</td>\n",
              "      <td>1987-07-25</td>\n",
              "      <td>2159175b9efe66dc301f149d3d5abf8c</td>\n",
              "      <td>1371816915</td>\n",
              "      <td>28.812398</td>\n",
              "      <td>-80.883061</td>\n",
              "      <td>0</td>\n",
              "    </tr>\n",
              "    <tr>\n",
              "      <th>4</th>\n",
              "      <td>4</td>\n",
              "      <td>2020-06-21 12:15:17</td>\n",
              "      <td>3526826139003047</td>\n",
              "      <td>fraud_Johnston-Casper</td>\n",
              "      <td>travel</td>\n",
              "      <td>3.19</td>\n",
              "      <td>Nathan</td>\n",
              "      <td>Massey</td>\n",
              "      <td>M</td>\n",
              "      <td>5783 Evan Roads Apt. 465</td>\n",
              "      <td>Falmouth</td>\n",
              "      <td>MI</td>\n",
              "      <td>49632</td>\n",
              "      <td>44.2529</td>\n",
              "      <td>-85.0170</td>\n",
              "      <td>1126</td>\n",
              "      <td>Furniture designer</td>\n",
              "      <td>1955-07-06</td>\n",
              "      <td>57ff021bd3f328f8738bb535c302a31b</td>\n",
              "      <td>1371816917</td>\n",
              "      <td>44.959148</td>\n",
              "      <td>-85.884734</td>\n",
              "      <td>0</td>\n",
              "    </tr>\n",
              "  </tbody>\n",
              "</table>\n",
              "</div>"
            ],
            "text/plain": [
              "   Unnamed: 0 trans_date_trans_time  ...  merch_long is_fraud\n",
              "0           0   2020-06-21 12:14:25  ...  -81.200714        0\n",
              "1           1   2020-06-21 12:14:33  ... -109.960431        0\n",
              "2           2   2020-06-21 12:14:53  ...  -74.196111        0\n",
              "3           3   2020-06-21 12:15:15  ...  -80.883061        0\n",
              "4           4   2020-06-21 12:15:17  ...  -85.884734        0\n",
              "\n",
              "[5 rows x 23 columns]"
            ]
          },
          "execution_count": 4,
          "metadata": {},
          "output_type": "execute_result"
        }
      ]
    },
    {
      "cell_type": "code",
      "metadata": {
        "colab": {
          "base_uri": "https://localhost:8080/"
        },
        "id": "zslw3wobnQRF",
        "outputId": "81fdc43b-645f-4bbd-ed2b-fb2619b17432"
      },
      "source": [
        "df_train.shape"
      ],
      "execution_count": null,
      "outputs": [
        {
          "data": {
            "text/plain": [
              "(1296675, 23)"
            ]
          },
          "execution_count": 5,
          "metadata": {},
          "output_type": "execute_result"
        }
      ]
    },
    {
      "cell_type": "code",
      "metadata": {
        "colab": {
          "base_uri": "https://localhost:8080/"
        },
        "id": "Y6OVleZ-nQRG",
        "outputId": "8cdb2e08-4dac-4ef8-e3b2-ee27df9606ac"
      },
      "source": [
        "df_test.shape"
      ],
      "execution_count": null,
      "outputs": [
        {
          "data": {
            "text/plain": [
              "(555719, 23)"
            ]
          },
          "execution_count": 6,
          "metadata": {},
          "output_type": "execute_result"
        }
      ]
    },
    {
      "cell_type": "markdown",
      "metadata": {
        "id": "tD9JuERnnQRI"
      },
      "source": [
        "### Step 2: Data Cleansing"
      ]
    },
    {
      "cell_type": "code",
      "metadata": {
        "colab": {
          "base_uri": "https://localhost:8080/"
        },
        "id": "xv5kzvXcnQRJ",
        "outputId": "51e9f40d-a73c-4296-9b22-6b05720e76f5"
      },
      "source": [
        "df_train.info()"
      ],
      "execution_count": null,
      "outputs": [
        {
          "name": "stdout",
          "output_type": "stream",
          "text": [
            "<class 'pandas.core.frame.DataFrame'>\n",
            "RangeIndex: 1296675 entries, 0 to 1296674\n",
            "Data columns (total 23 columns):\n",
            " #   Column                 Non-Null Count    Dtype  \n",
            "---  ------                 --------------    -----  \n",
            " 0   Unnamed: 0             1296675 non-null  int64  \n",
            " 1   trans_date_trans_time  1296675 non-null  object \n",
            " 2   cc_num                 1296675 non-null  int64  \n",
            " 3   merchant               1296675 non-null  object \n",
            " 4   category               1296675 non-null  object \n",
            " 5   amt                    1296675 non-null  float64\n",
            " 6   first                  1296675 non-null  object \n",
            " 7   last                   1296675 non-null  object \n",
            " 8   gender                 1296675 non-null  object \n",
            " 9   street                 1296675 non-null  object \n",
            " 10  city                   1296675 non-null  object \n",
            " 11  state                  1296675 non-null  object \n",
            " 12  zip                    1296675 non-null  int64  \n",
            " 13  lat                    1296675 non-null  float64\n",
            " 14  long                   1296675 non-null  float64\n",
            " 15  city_pop               1296675 non-null  int64  \n",
            " 16  job                    1296675 non-null  object \n",
            " 17  dob                    1296675 non-null  object \n",
            " 18  trans_num              1296675 non-null  object \n",
            " 19  unix_time              1296675 non-null  int64  \n",
            " 20  merch_lat              1296675 non-null  float64\n",
            " 21  merch_long             1296675 non-null  float64\n",
            " 22  is_fraud               1296675 non-null  int64  \n",
            "dtypes: float64(5), int64(6), object(12)\n",
            "memory usage: 227.5+ MB\n"
          ]
        }
      ]
    },
    {
      "cell_type": "code",
      "metadata": {
        "colab": {
          "base_uri": "https://localhost:8080/"
        },
        "id": "bGQSbtpunQRL",
        "outputId": "66b9cfb0-6648-48a5-a665-4c381c5b1bec"
      },
      "source": [
        "df_test.info()"
      ],
      "execution_count": null,
      "outputs": [
        {
          "name": "stdout",
          "output_type": "stream",
          "text": [
            "<class 'pandas.core.frame.DataFrame'>\n",
            "RangeIndex: 555719 entries, 0 to 555718\n",
            "Data columns (total 23 columns):\n",
            " #   Column                 Non-Null Count   Dtype  \n",
            "---  ------                 --------------   -----  \n",
            " 0   Unnamed: 0             555719 non-null  int64  \n",
            " 1   trans_date_trans_time  555719 non-null  object \n",
            " 2   cc_num                 555719 non-null  int64  \n",
            " 3   merchant               555719 non-null  object \n",
            " 4   category               555719 non-null  object \n",
            " 5   amt                    555719 non-null  float64\n",
            " 6   first                  555719 non-null  object \n",
            " 7   last                   555719 non-null  object \n",
            " 8   gender                 555719 non-null  object \n",
            " 9   street                 555719 non-null  object \n",
            " 10  city                   555719 non-null  object \n",
            " 11  state                  555719 non-null  object \n",
            " 12  zip                    555719 non-null  int64  \n",
            " 13  lat                    555719 non-null  float64\n",
            " 14  long                   555719 non-null  float64\n",
            " 15  city_pop               555719 non-null  int64  \n",
            " 16  job                    555719 non-null  object \n",
            " 17  dob                    555719 non-null  object \n",
            " 18  trans_num              555719 non-null  object \n",
            " 19  unix_time              555719 non-null  int64  \n",
            " 20  merch_lat              555719 non-null  float64\n",
            " 21  merch_long             555719 non-null  float64\n",
            " 22  is_fraud               555719 non-null  int64  \n",
            "dtypes: float64(5), int64(6), object(12)\n",
            "memory usage: 97.5+ MB\n"
          ]
        }
      ]
    },
    {
      "cell_type": "markdown",
      "metadata": {
        "id": "H7ylDvW7nQRM"
      },
      "source": [
        "- There are no null values "
      ]
    },
    {
      "cell_type": "code",
      "metadata": {
        "colab": {
          "base_uri": "https://localhost:8080/"
        },
        "id": "IOa2lrksnQRN",
        "outputId": "3a8e57d1-b619-4136-f49d-74c272a12626"
      },
      "source": [
        "df_train['trans_date_trans_time']=pd.to_datetime(df_train['trans_date_trans_time'])\n",
        "df_train['date']=df_train['trans_date_trans_time'].dt.strftime('%Y-%m-%d')\n",
        "df_train['date']=pd.to_datetime(df_train['date'])\n",
        "df_train['dob']=pd.to_datetime(df_train['dob'])\n",
        "\n",
        "df_test['trans_date_trans_time']=pd.to_datetime(df_test['trans_date_trans_time'])\n",
        "df_test['date']=df_test['trans_date_trans_time'].dt.strftime('%Y-%m-%d')\n",
        "df_test['date']=pd.to_datetime(df_test['date'])\n",
        "df_test['dob']=pd.to_datetime(df_test['dob'])\n",
        "\n",
        "df_train.head()"
      ],
      "execution_count": null,
      "outputs": [
        {
          "data": {
            "text/html": [
              "<div>\n",
              "<style scoped>\n",
              "    .dataframe tbody tr th:only-of-type {\n",
              "        vertical-align: middle;\n",
              "    }\n",
              "\n",
              "    .dataframe tbody tr th {\n",
              "        vertical-align: top;\n",
              "    }\n",
              "\n",
              "    .dataframe thead th {\n",
              "        text-align: right;\n",
              "    }\n",
              "</style>\n",
              "<table border=\"1\" class=\"dataframe\">\n",
              "  <thead>\n",
              "    <tr style=\"text-align: right;\">\n",
              "      <th></th>\n",
              "      <th>Unnamed: 0</th>\n",
              "      <th>trans_date_trans_time</th>\n",
              "      <th>cc_num</th>\n",
              "      <th>merchant</th>\n",
              "      <th>category</th>\n",
              "      <th>amt</th>\n",
              "      <th>first</th>\n",
              "      <th>last</th>\n",
              "      <th>gender</th>\n",
              "      <th>street</th>\n",
              "      <th>city</th>\n",
              "      <th>state</th>\n",
              "      <th>zip</th>\n",
              "      <th>lat</th>\n",
              "      <th>long</th>\n",
              "      <th>city_pop</th>\n",
              "      <th>job</th>\n",
              "      <th>dob</th>\n",
              "      <th>trans_num</th>\n",
              "      <th>unix_time</th>\n",
              "      <th>merch_lat</th>\n",
              "      <th>merch_long</th>\n",
              "      <th>is_fraud</th>\n",
              "      <th>date</th>\n",
              "    </tr>\n",
              "  </thead>\n",
              "  <tbody>\n",
              "    <tr>\n",
              "      <th>0</th>\n",
              "      <td>0</td>\n",
              "      <td>2019-01-01 00:00:18</td>\n",
              "      <td>2703186189652095</td>\n",
              "      <td>fraud_Rippin, Kub and Mann</td>\n",
              "      <td>misc_net</td>\n",
              "      <td>4.97</td>\n",
              "      <td>Jennifer</td>\n",
              "      <td>Banks</td>\n",
              "      <td>F</td>\n",
              "      <td>561 Perry Cove</td>\n",
              "      <td>Moravian Falls</td>\n",
              "      <td>NC</td>\n",
              "      <td>28654</td>\n",
              "      <td>36.0788</td>\n",
              "      <td>-81.1781</td>\n",
              "      <td>3495</td>\n",
              "      <td>Psychologist, counselling</td>\n",
              "      <td>1988-03-09</td>\n",
              "      <td>0b242abb623afc578575680df30655b9</td>\n",
              "      <td>1325376018</td>\n",
              "      <td>36.011293</td>\n",
              "      <td>-82.048315</td>\n",
              "      <td>0</td>\n",
              "      <td>2019-01-01</td>\n",
              "    </tr>\n",
              "    <tr>\n",
              "      <th>1</th>\n",
              "      <td>1</td>\n",
              "      <td>2019-01-01 00:00:44</td>\n",
              "      <td>630423337322</td>\n",
              "      <td>fraud_Heller, Gutmann and Zieme</td>\n",
              "      <td>grocery_pos</td>\n",
              "      <td>107.23</td>\n",
              "      <td>Stephanie</td>\n",
              "      <td>Gill</td>\n",
              "      <td>F</td>\n",
              "      <td>43039 Riley Greens Suite 393</td>\n",
              "      <td>Orient</td>\n",
              "      <td>WA</td>\n",
              "      <td>99160</td>\n",
              "      <td>48.8878</td>\n",
              "      <td>-118.2105</td>\n",
              "      <td>149</td>\n",
              "      <td>Special educational needs teacher</td>\n",
              "      <td>1978-06-21</td>\n",
              "      <td>1f76529f8574734946361c461b024d99</td>\n",
              "      <td>1325376044</td>\n",
              "      <td>49.159047</td>\n",
              "      <td>-118.186462</td>\n",
              "      <td>0</td>\n",
              "      <td>2019-01-01</td>\n",
              "    </tr>\n",
              "    <tr>\n",
              "      <th>2</th>\n",
              "      <td>2</td>\n",
              "      <td>2019-01-01 00:00:51</td>\n",
              "      <td>38859492057661</td>\n",
              "      <td>fraud_Lind-Buckridge</td>\n",
              "      <td>entertainment</td>\n",
              "      <td>220.11</td>\n",
              "      <td>Edward</td>\n",
              "      <td>Sanchez</td>\n",
              "      <td>M</td>\n",
              "      <td>594 White Dale Suite 530</td>\n",
              "      <td>Malad City</td>\n",
              "      <td>ID</td>\n",
              "      <td>83252</td>\n",
              "      <td>42.1808</td>\n",
              "      <td>-112.2620</td>\n",
              "      <td>4154</td>\n",
              "      <td>Nature conservation officer</td>\n",
              "      <td>1962-01-19</td>\n",
              "      <td>a1a22d70485983eac12b5b88dad1cf95</td>\n",
              "      <td>1325376051</td>\n",
              "      <td>43.150704</td>\n",
              "      <td>-112.154481</td>\n",
              "      <td>0</td>\n",
              "      <td>2019-01-01</td>\n",
              "    </tr>\n",
              "    <tr>\n",
              "      <th>3</th>\n",
              "      <td>3</td>\n",
              "      <td>2019-01-01 00:01:16</td>\n",
              "      <td>3534093764340240</td>\n",
              "      <td>fraud_Kutch, Hermiston and Farrell</td>\n",
              "      <td>gas_transport</td>\n",
              "      <td>45.00</td>\n",
              "      <td>Jeremy</td>\n",
              "      <td>White</td>\n",
              "      <td>M</td>\n",
              "      <td>9443 Cynthia Court Apt. 038</td>\n",
              "      <td>Boulder</td>\n",
              "      <td>MT</td>\n",
              "      <td>59632</td>\n",
              "      <td>46.2306</td>\n",
              "      <td>-112.1138</td>\n",
              "      <td>1939</td>\n",
              "      <td>Patent attorney</td>\n",
              "      <td>1967-01-12</td>\n",
              "      <td>6b849c168bdad6f867558c3793159a81</td>\n",
              "      <td>1325376076</td>\n",
              "      <td>47.034331</td>\n",
              "      <td>-112.561071</td>\n",
              "      <td>0</td>\n",
              "      <td>2019-01-01</td>\n",
              "    </tr>\n",
              "    <tr>\n",
              "      <th>4</th>\n",
              "      <td>4</td>\n",
              "      <td>2019-01-01 00:03:06</td>\n",
              "      <td>375534208663984</td>\n",
              "      <td>fraud_Keeling-Crist</td>\n",
              "      <td>misc_pos</td>\n",
              "      <td>41.96</td>\n",
              "      <td>Tyler</td>\n",
              "      <td>Garcia</td>\n",
              "      <td>M</td>\n",
              "      <td>408 Bradley Rest</td>\n",
              "      <td>Doe Hill</td>\n",
              "      <td>VA</td>\n",
              "      <td>24433</td>\n",
              "      <td>38.4207</td>\n",
              "      <td>-79.4629</td>\n",
              "      <td>99</td>\n",
              "      <td>Dance movement psychotherapist</td>\n",
              "      <td>1986-03-28</td>\n",
              "      <td>a41d7549acf90789359a9aa5346dcb46</td>\n",
              "      <td>1325376186</td>\n",
              "      <td>38.674999</td>\n",
              "      <td>-78.632459</td>\n",
              "      <td>0</td>\n",
              "      <td>2019-01-01</td>\n",
              "    </tr>\n",
              "  </tbody>\n",
              "</table>\n",
              "</div>"
            ],
            "text/plain": [
              "   Unnamed: 0 trans_date_trans_time  ...  is_fraud       date\n",
              "0           0   2019-01-01 00:00:18  ...         0 2019-01-01\n",
              "1           1   2019-01-01 00:00:44  ...         0 2019-01-01\n",
              "2           2   2019-01-01 00:00:51  ...         0 2019-01-01\n",
              "3           3   2019-01-01 00:01:16  ...         0 2019-01-01\n",
              "4           4   2019-01-01 00:03:06  ...         0 2019-01-01\n",
              "\n",
              "[5 rows x 24 columns]"
            ]
          },
          "execution_count": 9,
          "metadata": {},
          "output_type": "execute_result"
        }
      ]
    },
    {
      "cell_type": "code",
      "metadata": {
        "colab": {
          "base_uri": "https://localhost:8080/"
        },
        "id": "9QoCXj6znQRS",
        "outputId": "a8d49f51-a324-44df-915b-bd04785faffd"
      },
      "source": [
        "df_train.info()"
      ],
      "execution_count": null,
      "outputs": [
        {
          "name": "stdout",
          "output_type": "stream",
          "text": [
            "<class 'pandas.core.frame.DataFrame'>\n",
            "RangeIndex: 1296675 entries, 0 to 1296674\n",
            "Data columns (total 24 columns):\n",
            " #   Column                 Non-Null Count    Dtype         \n",
            "---  ------                 --------------    -----         \n",
            " 0   Unnamed: 0             1296675 non-null  int64         \n",
            " 1   trans_date_trans_time  1296675 non-null  datetime64[ns]\n",
            " 2   cc_num                 1296675 non-null  int64         \n",
            " 3   merchant               1296675 non-null  object        \n",
            " 4   category               1296675 non-null  object        \n",
            " 5   amt                    1296675 non-null  float64       \n",
            " 6   first                  1296675 non-null  object        \n",
            " 7   last                   1296675 non-null  object        \n",
            " 8   gender                 1296675 non-null  object        \n",
            " 9   street                 1296675 non-null  object        \n",
            " 10  city                   1296675 non-null  object        \n",
            " 11  state                  1296675 non-null  object        \n",
            " 12  zip                    1296675 non-null  int64         \n",
            " 13  lat                    1296675 non-null  float64       \n",
            " 14  long                   1296675 non-null  float64       \n",
            " 15  city_pop               1296675 non-null  int64         \n",
            " 16  job                    1296675 non-null  object        \n",
            " 17  dob                    1296675 non-null  datetime64[ns]\n",
            " 18  trans_num              1296675 non-null  object        \n",
            " 19  unix_time              1296675 non-null  int64         \n",
            " 20  merch_lat              1296675 non-null  float64       \n",
            " 21  merch_long             1296675 non-null  float64       \n",
            " 22  is_fraud               1296675 non-null  int64         \n",
            " 23  date                   1296675 non-null  datetime64[ns]\n",
            "dtypes: datetime64[ns](3), float64(5), int64(6), object(10)\n",
            "memory usage: 237.4+ MB\n"
          ]
        }
      ]
    },
    {
      "cell_type": "code",
      "metadata": {
        "id": "TqTq8-E3nQRU"
      },
      "source": [
        ""
      ],
      "execution_count": null,
      "outputs": []
    },
    {
      "cell_type": "code",
      "metadata": {
        "id": "xiq19ykPnQRV"
      },
      "source": [
        "df_train=df_train.drop(['trans_date_trans_time','Unnamed: 0','first','last','cc_num','street','lat','long','trans_num','unix_time','merch_lat','merch_long'],axis=1)\n",
        "df_test=df_test.drop(['trans_date_trans_time','Unnamed: 0','first','last','cc_num','street','lat','long','trans_num','unix_time','merch_lat','merch_long'],axis=1)"
      ],
      "execution_count": null,
      "outputs": []
    },
    {
      "cell_type": "code",
      "metadata": {
        "colab": {
          "base_uri": "https://localhost:8080/"
        },
        "id": "qjahMxHcnQRW",
        "outputId": "4ee23264-8606-4f57-de67-20eb298b1168"
      },
      "source": [
        "df_train.head()"
      ],
      "execution_count": null,
      "outputs": [
        {
          "data": {
            "text/html": [
              "<div>\n",
              "<style scoped>\n",
              "    .dataframe tbody tr th:only-of-type {\n",
              "        vertical-align: middle;\n",
              "    }\n",
              "\n",
              "    .dataframe tbody tr th {\n",
              "        vertical-align: top;\n",
              "    }\n",
              "\n",
              "    .dataframe thead th {\n",
              "        text-align: right;\n",
              "    }\n",
              "</style>\n",
              "<table border=\"1\" class=\"dataframe\">\n",
              "  <thead>\n",
              "    <tr style=\"text-align: right;\">\n",
              "      <th></th>\n",
              "      <th>merchant</th>\n",
              "      <th>category</th>\n",
              "      <th>amt</th>\n",
              "      <th>gender</th>\n",
              "      <th>city</th>\n",
              "      <th>state</th>\n",
              "      <th>zip</th>\n",
              "      <th>city_pop</th>\n",
              "      <th>job</th>\n",
              "      <th>dob</th>\n",
              "      <th>is_fraud</th>\n",
              "      <th>date</th>\n",
              "    </tr>\n",
              "  </thead>\n",
              "  <tbody>\n",
              "    <tr>\n",
              "      <th>0</th>\n",
              "      <td>fraud_Rippin, Kub and Mann</td>\n",
              "      <td>misc_net</td>\n",
              "      <td>4.97</td>\n",
              "      <td>F</td>\n",
              "      <td>Moravian Falls</td>\n",
              "      <td>NC</td>\n",
              "      <td>28654</td>\n",
              "      <td>3495</td>\n",
              "      <td>Psychologist, counselling</td>\n",
              "      <td>1988-03-09</td>\n",
              "      <td>0</td>\n",
              "      <td>2019-01-01</td>\n",
              "    </tr>\n",
              "    <tr>\n",
              "      <th>1</th>\n",
              "      <td>fraud_Heller, Gutmann and Zieme</td>\n",
              "      <td>grocery_pos</td>\n",
              "      <td>107.23</td>\n",
              "      <td>F</td>\n",
              "      <td>Orient</td>\n",
              "      <td>WA</td>\n",
              "      <td>99160</td>\n",
              "      <td>149</td>\n",
              "      <td>Special educational needs teacher</td>\n",
              "      <td>1978-06-21</td>\n",
              "      <td>0</td>\n",
              "      <td>2019-01-01</td>\n",
              "    </tr>\n",
              "    <tr>\n",
              "      <th>2</th>\n",
              "      <td>fraud_Lind-Buckridge</td>\n",
              "      <td>entertainment</td>\n",
              "      <td>220.11</td>\n",
              "      <td>M</td>\n",
              "      <td>Malad City</td>\n",
              "      <td>ID</td>\n",
              "      <td>83252</td>\n",
              "      <td>4154</td>\n",
              "      <td>Nature conservation officer</td>\n",
              "      <td>1962-01-19</td>\n",
              "      <td>0</td>\n",
              "      <td>2019-01-01</td>\n",
              "    </tr>\n",
              "    <tr>\n",
              "      <th>3</th>\n",
              "      <td>fraud_Kutch, Hermiston and Farrell</td>\n",
              "      <td>gas_transport</td>\n",
              "      <td>45.00</td>\n",
              "      <td>M</td>\n",
              "      <td>Boulder</td>\n",
              "      <td>MT</td>\n",
              "      <td>59632</td>\n",
              "      <td>1939</td>\n",
              "      <td>Patent attorney</td>\n",
              "      <td>1967-01-12</td>\n",
              "      <td>0</td>\n",
              "      <td>2019-01-01</td>\n",
              "    </tr>\n",
              "    <tr>\n",
              "      <th>4</th>\n",
              "      <td>fraud_Keeling-Crist</td>\n",
              "      <td>misc_pos</td>\n",
              "      <td>41.96</td>\n",
              "      <td>M</td>\n",
              "      <td>Doe Hill</td>\n",
              "      <td>VA</td>\n",
              "      <td>24433</td>\n",
              "      <td>99</td>\n",
              "      <td>Dance movement psychotherapist</td>\n",
              "      <td>1986-03-28</td>\n",
              "      <td>0</td>\n",
              "      <td>2019-01-01</td>\n",
              "    </tr>\n",
              "  </tbody>\n",
              "</table>\n",
              "</div>"
            ],
            "text/plain": [
              "                             merchant       category  ...  is_fraud       date\n",
              "0          fraud_Rippin, Kub and Mann       misc_net  ...         0 2019-01-01\n",
              "1     fraud_Heller, Gutmann and Zieme    grocery_pos  ...         0 2019-01-01\n",
              "2                fraud_Lind-Buckridge  entertainment  ...         0 2019-01-01\n",
              "3  fraud_Kutch, Hermiston and Farrell  gas_transport  ...         0 2019-01-01\n",
              "4                 fraud_Keeling-Crist       misc_pos  ...         0 2019-01-01\n",
              "\n",
              "[5 rows x 12 columns]"
            ]
          },
          "execution_count": 12,
          "metadata": {},
          "output_type": "execute_result"
        }
      ]
    },
    {
      "cell_type": "code",
      "metadata": {
        "colab": {
          "base_uri": "https://localhost:8080/"
        },
        "id": "kY8P84gUnQRY",
        "outputId": "5b218fbd-2a31-400b-8263-72b59a208c92"
      },
      "source": [
        "# Creating field for age on transaction date\n",
        "\n",
        "df_train['age_at_trans'] = df_train['date'] - df_train['dob']\n",
        "df_train['age_at_trans'] = df_train['age_at_trans'].astype('timedelta64[Y]')\n",
        "\n",
        "df_test['age_at_trans'] = df_test['date'] - df_test['dob']\n",
        "df_test['age_at_trans'] = df_test['age_at_trans'].astype('timedelta64[Y]')\n",
        "\n",
        "df_train.head()"
      ],
      "execution_count": null,
      "outputs": [
        {
          "data": {
            "text/html": [
              "<div>\n",
              "<style scoped>\n",
              "    .dataframe tbody tr th:only-of-type {\n",
              "        vertical-align: middle;\n",
              "    }\n",
              "\n",
              "    .dataframe tbody tr th {\n",
              "        vertical-align: top;\n",
              "    }\n",
              "\n",
              "    .dataframe thead th {\n",
              "        text-align: right;\n",
              "    }\n",
              "</style>\n",
              "<table border=\"1\" class=\"dataframe\">\n",
              "  <thead>\n",
              "    <tr style=\"text-align: right;\">\n",
              "      <th></th>\n",
              "      <th>merchant</th>\n",
              "      <th>category</th>\n",
              "      <th>amt</th>\n",
              "      <th>gender</th>\n",
              "      <th>city</th>\n",
              "      <th>state</th>\n",
              "      <th>zip</th>\n",
              "      <th>city_pop</th>\n",
              "      <th>job</th>\n",
              "      <th>dob</th>\n",
              "      <th>is_fraud</th>\n",
              "      <th>date</th>\n",
              "      <th>age_at_trans</th>\n",
              "    </tr>\n",
              "  </thead>\n",
              "  <tbody>\n",
              "    <tr>\n",
              "      <th>0</th>\n",
              "      <td>fraud_Rippin, Kub and Mann</td>\n",
              "      <td>misc_net</td>\n",
              "      <td>4.97</td>\n",
              "      <td>F</td>\n",
              "      <td>Moravian Falls</td>\n",
              "      <td>NC</td>\n",
              "      <td>28654</td>\n",
              "      <td>3495</td>\n",
              "      <td>Psychologist, counselling</td>\n",
              "      <td>1988-03-09</td>\n",
              "      <td>0</td>\n",
              "      <td>2019-01-01</td>\n",
              "      <td>30.0</td>\n",
              "    </tr>\n",
              "    <tr>\n",
              "      <th>1</th>\n",
              "      <td>fraud_Heller, Gutmann and Zieme</td>\n",
              "      <td>grocery_pos</td>\n",
              "      <td>107.23</td>\n",
              "      <td>F</td>\n",
              "      <td>Orient</td>\n",
              "      <td>WA</td>\n",
              "      <td>99160</td>\n",
              "      <td>149</td>\n",
              "      <td>Special educational needs teacher</td>\n",
              "      <td>1978-06-21</td>\n",
              "      <td>0</td>\n",
              "      <td>2019-01-01</td>\n",
              "      <td>40.0</td>\n",
              "    </tr>\n",
              "    <tr>\n",
              "      <th>2</th>\n",
              "      <td>fraud_Lind-Buckridge</td>\n",
              "      <td>entertainment</td>\n",
              "      <td>220.11</td>\n",
              "      <td>M</td>\n",
              "      <td>Malad City</td>\n",
              "      <td>ID</td>\n",
              "      <td>83252</td>\n",
              "      <td>4154</td>\n",
              "      <td>Nature conservation officer</td>\n",
              "      <td>1962-01-19</td>\n",
              "      <td>0</td>\n",
              "      <td>2019-01-01</td>\n",
              "      <td>56.0</td>\n",
              "    </tr>\n",
              "    <tr>\n",
              "      <th>3</th>\n",
              "      <td>fraud_Kutch, Hermiston and Farrell</td>\n",
              "      <td>gas_transport</td>\n",
              "      <td>45.00</td>\n",
              "      <td>M</td>\n",
              "      <td>Boulder</td>\n",
              "      <td>MT</td>\n",
              "      <td>59632</td>\n",
              "      <td>1939</td>\n",
              "      <td>Patent attorney</td>\n",
              "      <td>1967-01-12</td>\n",
              "      <td>0</td>\n",
              "      <td>2019-01-01</td>\n",
              "      <td>51.0</td>\n",
              "    </tr>\n",
              "    <tr>\n",
              "      <th>4</th>\n",
              "      <td>fraud_Keeling-Crist</td>\n",
              "      <td>misc_pos</td>\n",
              "      <td>41.96</td>\n",
              "      <td>M</td>\n",
              "      <td>Doe Hill</td>\n",
              "      <td>VA</td>\n",
              "      <td>24433</td>\n",
              "      <td>99</td>\n",
              "      <td>Dance movement psychotherapist</td>\n",
              "      <td>1986-03-28</td>\n",
              "      <td>0</td>\n",
              "      <td>2019-01-01</td>\n",
              "      <td>32.0</td>\n",
              "    </tr>\n",
              "  </tbody>\n",
              "</table>\n",
              "</div>"
            ],
            "text/plain": [
              "                             merchant       category  ...       date age_at_trans\n",
              "0          fraud_Rippin, Kub and Mann       misc_net  ... 2019-01-01         30.0\n",
              "1     fraud_Heller, Gutmann and Zieme    grocery_pos  ... 2019-01-01         40.0\n",
              "2                fraud_Lind-Buckridge  entertainment  ... 2019-01-01         56.0\n",
              "3  fraud_Kutch, Hermiston and Farrell  gas_transport  ... 2019-01-01         51.0\n",
              "4                 fraud_Keeling-Crist       misc_pos  ... 2019-01-01         32.0\n",
              "\n",
              "[5 rows x 13 columns]"
            ]
          },
          "execution_count": 13,
          "metadata": {},
          "output_type": "execute_result"
        }
      ]
    },
    {
      "cell_type": "markdown",
      "metadata": {
        "id": "mugwAijxnQRa"
      },
      "source": [
        "Grouping age column\n"
      ]
    },
    {
      "cell_type": "code",
      "metadata": {
        "colab": {
          "base_uri": "https://localhost:8080/"
        },
        "id": "9IBCQA0NnQRb",
        "outputId": "c18ab610-b07e-4cc2-b5ff-77cb594a2bed"
      },
      "source": [
        "df_train['age_at_trans'].value_counts()"
      ],
      "execution_count": null,
      "outputs": [
        {
          "data": {
            "text/plain": [
              "47.0    40410\n",
              "34.0    38754\n",
              "35.0    35597\n",
              "46.0    35089\n",
              "43.0    34802\n",
              "        ...  \n",
              "87.0     2492\n",
              "17.0     2387\n",
              "94.0      300\n",
              "95.0      236\n",
              "13.0       81\n",
              "Name: age_at_trans, Length: 83, dtype: int64"
            ]
          },
          "execution_count": 14,
          "metadata": {},
          "output_type": "execute_result"
        }
      ]
    },
    {
      "cell_type": "code",
      "metadata": {
        "id": "XX7WtR_OnQRc"
      },
      "source": [
        "def age_cat(x):\n",
        "    if x <18:\n",
        "        return 'teenager'\n",
        "    if x in range(18,65):\n",
        "        return 'working population'\n",
        "    if x in range(66,95):\n",
        "        return 'senior citizen'\n",
        "    else:\n",
        "        'unknown'"
      ],
      "execution_count": null,
      "outputs": []
    },
    {
      "cell_type": "code",
      "metadata": {
        "id": "u9IbawKanQRd"
      },
      "source": [
        "df_train['age_cat']=df_train['age_at_trans'].apply(age_cat)"
      ],
      "execution_count": null,
      "outputs": []
    },
    {
      "cell_type": "code",
      "metadata": {
        "id": "r0cCuaUonQRe"
      },
      "source": [
        "df_test['age_cat']=df_test['age_at_trans'].apply(age_cat)"
      ],
      "execution_count": null,
      "outputs": []
    },
    {
      "cell_type": "code",
      "metadata": {
        "colab": {
          "base_uri": "https://localhost:8080/"
        },
        "id": "aDXTiSKonQRe",
        "outputId": "303e3a09-026b-4b87-82e8-3311ef0a366b"
      },
      "source": [
        "df_train['age_cat'].value_counts()"
      ],
      "execution_count": null,
      "outputs": [
        {
          "data": {
            "text/plain": [
              "working population    1087399\n",
              "senior citizen         178236\n",
              "teenager                15568\n",
              "Name: age_cat, dtype: int64"
            ]
          },
          "execution_count": 18,
          "metadata": {},
          "output_type": "execute_result"
        }
      ]
    },
    {
      "cell_type": "code",
      "metadata": {
        "colab": {
          "base_uri": "https://localhost:8080/"
        },
        "id": "PD1G9es-nQRg",
        "outputId": "de776abc-5c7d-442b-dda1-d72e8e84d658"
      },
      "source": [
        "df_test['age_cat'].value_counts()"
      ],
      "execution_count": null,
      "outputs": [
        {
          "data": {
            "text/plain": [
              "working population    458374\n",
              "senior citizen         82788\n",
              "teenager                6292\n",
              "Name: age_cat, dtype: int64"
            ]
          },
          "execution_count": 19,
          "metadata": {},
          "output_type": "execute_result"
        }
      ]
    },
    {
      "cell_type": "code",
      "metadata": {
        "colab": {
          "base_uri": "https://localhost:8080/"
        },
        "id": "5VyKWExYnQRh",
        "outputId": "869c42aa-0452-4fe9-d2a3-3ebc259b116d"
      },
      "source": [
        "# Creating month column\n",
        "\n",
        "df_train['trans_month'] = pd.DatetimeIndex(df_train['date']).month\n",
        "df_test['trans_month'] = pd.DatetimeIndex(df_test['date']).month\n",
        "\n",
        "df_train[['date','trans_month']].head()"
      ],
      "execution_count": null,
      "outputs": [
        {
          "data": {
            "text/html": [
              "<div>\n",
              "<style scoped>\n",
              "    .dataframe tbody tr th:only-of-type {\n",
              "        vertical-align: middle;\n",
              "    }\n",
              "\n",
              "    .dataframe tbody tr th {\n",
              "        vertical-align: top;\n",
              "    }\n",
              "\n",
              "    .dataframe thead th {\n",
              "        text-align: right;\n",
              "    }\n",
              "</style>\n",
              "<table border=\"1\" class=\"dataframe\">\n",
              "  <thead>\n",
              "    <tr style=\"text-align: right;\">\n",
              "      <th></th>\n",
              "      <th>date</th>\n",
              "      <th>trans_month</th>\n",
              "    </tr>\n",
              "  </thead>\n",
              "  <tbody>\n",
              "    <tr>\n",
              "      <th>0</th>\n",
              "      <td>2019-01-01</td>\n",
              "      <td>1</td>\n",
              "    </tr>\n",
              "    <tr>\n",
              "      <th>1</th>\n",
              "      <td>2019-01-01</td>\n",
              "      <td>1</td>\n",
              "    </tr>\n",
              "    <tr>\n",
              "      <th>2</th>\n",
              "      <td>2019-01-01</td>\n",
              "      <td>1</td>\n",
              "    </tr>\n",
              "    <tr>\n",
              "      <th>3</th>\n",
              "      <td>2019-01-01</td>\n",
              "      <td>1</td>\n",
              "    </tr>\n",
              "    <tr>\n",
              "      <th>4</th>\n",
              "      <td>2019-01-01</td>\n",
              "      <td>1</td>\n",
              "    </tr>\n",
              "  </tbody>\n",
              "</table>\n",
              "</div>"
            ],
            "text/plain": [
              "        date  trans_month\n",
              "0 2019-01-01            1\n",
              "1 2019-01-01            1\n",
              "2 2019-01-01            1\n",
              "3 2019-01-01            1\n",
              "4 2019-01-01            1"
            ]
          },
          "execution_count": 20,
          "metadata": {},
          "output_type": "execute_result"
        }
      ]
    },
    {
      "cell_type": "code",
      "metadata": {
        "colab": {
          "base_uri": "https://localhost:8080/"
        },
        "id": "JYsJpGLh_0uV",
        "outputId": "5eee5cdf-9f5a-4827-e238-1f75898a9611"
      },
      "source": [
        "df_train['trans_month'] = df_train['date'].dt.month_name()\n",
        "df_train[['date','trans_month']].head()"
      ],
      "execution_count": null,
      "outputs": [
        {
          "data": {
            "text/html": [
              "<div>\n",
              "<style scoped>\n",
              "    .dataframe tbody tr th:only-of-type {\n",
              "        vertical-align: middle;\n",
              "    }\n",
              "\n",
              "    .dataframe tbody tr th {\n",
              "        vertical-align: top;\n",
              "    }\n",
              "\n",
              "    .dataframe thead th {\n",
              "        text-align: right;\n",
              "    }\n",
              "</style>\n",
              "<table border=\"1\" class=\"dataframe\">\n",
              "  <thead>\n",
              "    <tr style=\"text-align: right;\">\n",
              "      <th></th>\n",
              "      <th>date</th>\n",
              "      <th>trans_month</th>\n",
              "    </tr>\n",
              "  </thead>\n",
              "  <tbody>\n",
              "    <tr>\n",
              "      <th>0</th>\n",
              "      <td>2019-01-01</td>\n",
              "      <td>January</td>\n",
              "    </tr>\n",
              "    <tr>\n",
              "      <th>1</th>\n",
              "      <td>2019-01-01</td>\n",
              "      <td>January</td>\n",
              "    </tr>\n",
              "    <tr>\n",
              "      <th>2</th>\n",
              "      <td>2019-01-01</td>\n",
              "      <td>January</td>\n",
              "    </tr>\n",
              "    <tr>\n",
              "      <th>3</th>\n",
              "      <td>2019-01-01</td>\n",
              "      <td>January</td>\n",
              "    </tr>\n",
              "    <tr>\n",
              "      <th>4</th>\n",
              "      <td>2019-01-01</td>\n",
              "      <td>January</td>\n",
              "    </tr>\n",
              "  </tbody>\n",
              "</table>\n",
              "</div>"
            ],
            "text/plain": [
              "        date trans_month\n",
              "0 2019-01-01     January\n",
              "1 2019-01-01     January\n",
              "2 2019-01-01     January\n",
              "3 2019-01-01     January\n",
              "4 2019-01-01     January"
            ]
          },
          "execution_count": 21,
          "metadata": {},
          "output_type": "execute_result"
        }
      ]
    },
    {
      "cell_type": "code",
      "metadata": {
        "colab": {
          "base_uri": "https://localhost:8080/"
        },
        "id": "Q68r67TyQOqf",
        "outputId": "bf90d919-e3d8-48f0-a7fa-8a6eb5b6d898"
      },
      "source": [
        "df_test['trans_month'] = df_test['date'].dt.month_name()\n",
        "df_test[['date','trans_month']].head()"
      ],
      "execution_count": null,
      "outputs": [
        {
          "data": {
            "text/html": [
              "<div>\n",
              "<style scoped>\n",
              "    .dataframe tbody tr th:only-of-type {\n",
              "        vertical-align: middle;\n",
              "    }\n",
              "\n",
              "    .dataframe tbody tr th {\n",
              "        vertical-align: top;\n",
              "    }\n",
              "\n",
              "    .dataframe thead th {\n",
              "        text-align: right;\n",
              "    }\n",
              "</style>\n",
              "<table border=\"1\" class=\"dataframe\">\n",
              "  <thead>\n",
              "    <tr style=\"text-align: right;\">\n",
              "      <th></th>\n",
              "      <th>date</th>\n",
              "      <th>trans_month</th>\n",
              "    </tr>\n",
              "  </thead>\n",
              "  <tbody>\n",
              "    <tr>\n",
              "      <th>0</th>\n",
              "      <td>2020-06-21</td>\n",
              "      <td>June</td>\n",
              "    </tr>\n",
              "    <tr>\n",
              "      <th>1</th>\n",
              "      <td>2020-06-21</td>\n",
              "      <td>June</td>\n",
              "    </tr>\n",
              "    <tr>\n",
              "      <th>2</th>\n",
              "      <td>2020-06-21</td>\n",
              "      <td>June</td>\n",
              "    </tr>\n",
              "    <tr>\n",
              "      <th>3</th>\n",
              "      <td>2020-06-21</td>\n",
              "      <td>June</td>\n",
              "    </tr>\n",
              "    <tr>\n",
              "      <th>4</th>\n",
              "      <td>2020-06-21</td>\n",
              "      <td>June</td>\n",
              "    </tr>\n",
              "  </tbody>\n",
              "</table>\n",
              "</div>"
            ],
            "text/plain": [
              "        date trans_month\n",
              "0 2020-06-21        June\n",
              "1 2020-06-21        June\n",
              "2 2020-06-21        June\n",
              "3 2020-06-21        June\n",
              "4 2020-06-21        June"
            ]
          },
          "execution_count": 22,
          "metadata": {},
          "output_type": "execute_result"
        }
      ]
    },
    {
      "cell_type": "code",
      "metadata": {
        "colab": {
          "base_uri": "https://localhost:8080/"
        },
        "id": "rDF7CJTn2Wsy",
        "outputId": "f7a5be8a-8019-4377-ffde-d962d67f67a5"
      },
      "source": [
        "df_train['trans_month'].value_counts()"
      ],
      "execution_count": null,
      "outputs": [
        {
          "data": {
            "text/plain": [
              "May          146875\n",
              "June         143811\n",
              "March        143789\n",
              "December     141060\n",
              "April        134970\n",
              "January      104727\n",
              "February      97657\n",
              "August        87359\n",
              "July          86596\n",
              "September     70652\n",
              "November      70421\n",
              "October       68758\n",
              "Name: trans_month, dtype: int64"
            ]
          },
          "execution_count": 23,
          "metadata": {},
          "output_type": "execute_result"
        }
      ]
    },
    {
      "cell_type": "code",
      "metadata": {
        "colab": {
          "base_uri": "https://localhost:8080/"
        },
        "id": "ThJclB-iSSxB",
        "outputId": "fcad62dd-f912-4c17-8bfa-c620699b8970"
      },
      "source": [
        "df_test['trans_month'].value_counts()"
      ],
      "execution_count": null,
      "outputs": [
        {
          "data": {
            "text/plain": [
              "December     139538\n",
              "August        88759\n",
              "July          85848\n",
              "November      72635\n",
              "September     69533\n",
              "October       69348\n",
              "June          30058\n",
              "Name: trans_month, dtype: int64"
            ]
          },
          "execution_count": 24,
          "metadata": {},
          "output_type": "execute_result"
        }
      ]
    },
    {
      "cell_type": "code",
      "metadata": {
        "colab": {
          "base_uri": "https://localhost:8080/"
        },
        "id": "mgprpa2rnQRi",
        "outputId": "6487978c-41f3-40f5-8256-58f15c94a5d2"
      },
      "source": [
        "df_train.head()"
      ],
      "execution_count": null,
      "outputs": [
        {
          "data": {
            "text/html": [
              "<div>\n",
              "<style scoped>\n",
              "    .dataframe tbody tr th:only-of-type {\n",
              "        vertical-align: middle;\n",
              "    }\n",
              "\n",
              "    .dataframe tbody tr th {\n",
              "        vertical-align: top;\n",
              "    }\n",
              "\n",
              "    .dataframe thead th {\n",
              "        text-align: right;\n",
              "    }\n",
              "</style>\n",
              "<table border=\"1\" class=\"dataframe\">\n",
              "  <thead>\n",
              "    <tr style=\"text-align: right;\">\n",
              "      <th></th>\n",
              "      <th>merchant</th>\n",
              "      <th>category</th>\n",
              "      <th>amt</th>\n",
              "      <th>gender</th>\n",
              "      <th>city</th>\n",
              "      <th>state</th>\n",
              "      <th>zip</th>\n",
              "      <th>city_pop</th>\n",
              "      <th>job</th>\n",
              "      <th>dob</th>\n",
              "      <th>is_fraud</th>\n",
              "      <th>date</th>\n",
              "      <th>age_at_trans</th>\n",
              "      <th>age_cat</th>\n",
              "      <th>trans_month</th>\n",
              "    </tr>\n",
              "  </thead>\n",
              "  <tbody>\n",
              "    <tr>\n",
              "      <th>0</th>\n",
              "      <td>fraud_Rippin, Kub and Mann</td>\n",
              "      <td>misc_net</td>\n",
              "      <td>4.97</td>\n",
              "      <td>F</td>\n",
              "      <td>Moravian Falls</td>\n",
              "      <td>NC</td>\n",
              "      <td>28654</td>\n",
              "      <td>3495</td>\n",
              "      <td>Psychologist, counselling</td>\n",
              "      <td>1988-03-09</td>\n",
              "      <td>0</td>\n",
              "      <td>2019-01-01</td>\n",
              "      <td>30.0</td>\n",
              "      <td>working population</td>\n",
              "      <td>January</td>\n",
              "    </tr>\n",
              "    <tr>\n",
              "      <th>1</th>\n",
              "      <td>fraud_Heller, Gutmann and Zieme</td>\n",
              "      <td>grocery_pos</td>\n",
              "      <td>107.23</td>\n",
              "      <td>F</td>\n",
              "      <td>Orient</td>\n",
              "      <td>WA</td>\n",
              "      <td>99160</td>\n",
              "      <td>149</td>\n",
              "      <td>Special educational needs teacher</td>\n",
              "      <td>1978-06-21</td>\n",
              "      <td>0</td>\n",
              "      <td>2019-01-01</td>\n",
              "      <td>40.0</td>\n",
              "      <td>working population</td>\n",
              "      <td>January</td>\n",
              "    </tr>\n",
              "    <tr>\n",
              "      <th>2</th>\n",
              "      <td>fraud_Lind-Buckridge</td>\n",
              "      <td>entertainment</td>\n",
              "      <td>220.11</td>\n",
              "      <td>M</td>\n",
              "      <td>Malad City</td>\n",
              "      <td>ID</td>\n",
              "      <td>83252</td>\n",
              "      <td>4154</td>\n",
              "      <td>Nature conservation officer</td>\n",
              "      <td>1962-01-19</td>\n",
              "      <td>0</td>\n",
              "      <td>2019-01-01</td>\n",
              "      <td>56.0</td>\n",
              "      <td>working population</td>\n",
              "      <td>January</td>\n",
              "    </tr>\n",
              "    <tr>\n",
              "      <th>3</th>\n",
              "      <td>fraud_Kutch, Hermiston and Farrell</td>\n",
              "      <td>gas_transport</td>\n",
              "      <td>45.00</td>\n",
              "      <td>M</td>\n",
              "      <td>Boulder</td>\n",
              "      <td>MT</td>\n",
              "      <td>59632</td>\n",
              "      <td>1939</td>\n",
              "      <td>Patent attorney</td>\n",
              "      <td>1967-01-12</td>\n",
              "      <td>0</td>\n",
              "      <td>2019-01-01</td>\n",
              "      <td>51.0</td>\n",
              "      <td>working population</td>\n",
              "      <td>January</td>\n",
              "    </tr>\n",
              "    <tr>\n",
              "      <th>4</th>\n",
              "      <td>fraud_Keeling-Crist</td>\n",
              "      <td>misc_pos</td>\n",
              "      <td>41.96</td>\n",
              "      <td>M</td>\n",
              "      <td>Doe Hill</td>\n",
              "      <td>VA</td>\n",
              "      <td>24433</td>\n",
              "      <td>99</td>\n",
              "      <td>Dance movement psychotherapist</td>\n",
              "      <td>1986-03-28</td>\n",
              "      <td>0</td>\n",
              "      <td>2019-01-01</td>\n",
              "      <td>32.0</td>\n",
              "      <td>working population</td>\n",
              "      <td>January</td>\n",
              "    </tr>\n",
              "  </tbody>\n",
              "</table>\n",
              "</div>"
            ],
            "text/plain": [
              "                             merchant  ... trans_month\n",
              "0          fraud_Rippin, Kub and Mann  ...     January\n",
              "1     fraud_Heller, Gutmann and Zieme  ...     January\n",
              "2                fraud_Lind-Buckridge  ...     January\n",
              "3  fraud_Kutch, Hermiston and Farrell  ...     January\n",
              "4                 fraud_Keeling-Crist  ...     January\n",
              "\n",
              "[5 rows x 15 columns]"
            ]
          },
          "execution_count": 25,
          "metadata": {},
          "output_type": "execute_result"
        }
      ]
    },
    {
      "cell_type": "code",
      "metadata": {
        "colab": {
          "base_uri": "https://localhost:8080/"
        },
        "id": "uR69w7j2nQRj",
        "outputId": "a77a8acf-900e-4b45-c3b8-9a6786a5d4bb"
      },
      "source": [
        "df_train['state'].value_counts()"
      ],
      "execution_count": null,
      "outputs": [
        {
          "data": {
            "text/plain": [
              "TX    94876\n",
              "NY    83501\n",
              "PA    79847\n",
              "CA    56360\n",
              "OH    46480\n",
              "MI    46154\n",
              "IL    43252\n",
              "FL    42671\n",
              "AL    40989\n",
              "MO    38403\n",
              "MN    31714\n",
              "AR    31127\n",
              "NC    30266\n",
              "WI    29368\n",
              "VA    29250\n",
              "SC    29190\n",
              "KY    28475\n",
              "IN    27580\n",
              "IA    26985\n",
              "OK    26671\n",
              "MD    26193\n",
              "GA    26063\n",
              "WV    25691\n",
              "NJ    24603\n",
              "NE    24168\n",
              "KS    22996\n",
              "MS    21188\n",
              "LA    20965\n",
              "WY    19322\n",
              "WA    18924\n",
              "OR    18597\n",
              "TN    17554\n",
              "ME    16505\n",
              "NM    16407\n",
              "ND    14786\n",
              "CO    13880\n",
              "MA    12376\n",
              "SD    12324\n",
              "VT    11768\n",
              "MT    11754\n",
              "AZ    10770\n",
              "UT    10699\n",
              "NH     8278\n",
              "CT     7702\n",
              "NV     5607\n",
              "ID     5545\n",
              "DC     3613\n",
              "HI     2559\n",
              "AK     2120\n",
              "RI      550\n",
              "DE        9\n",
              "Name: state, dtype: int64"
            ]
          },
          "execution_count": 26,
          "metadata": {},
          "output_type": "execute_result"
        }
      ]
    },
    {
      "cell_type": "code",
      "metadata": {
        "colab": {
          "base_uri": "https://localhost:8080/"
        },
        "id": "gZ5-fCD0nQRk",
        "outputId": "54ee453c-388b-4db7-c1b8-31c529b3dae0"
      },
      "source": [
        "df_train['zip'].value_counts()"
      ],
      "execution_count": null,
      "outputs": [
        {
          "data": {
            "text/plain": [
              "73754    3646\n",
              "34112    3613\n",
              "48088    3597\n",
              "82514    3527\n",
              "49628    3123\n",
              "         ... \n",
              "78208       7\n",
              "38915       7\n",
              "37411       7\n",
              "10018       7\n",
              "61364       7\n",
              "Name: zip, Length: 970, dtype: int64"
            ]
          },
          "execution_count": 27,
          "metadata": {},
          "output_type": "execute_result"
        }
      ]
    },
    {
      "cell_type": "code",
      "metadata": {
        "colab": {
          "base_uri": "https://localhost:8080/"
        },
        "id": "C7_lpmhpnQRl",
        "outputId": "8288c012-2de8-47e6-ba10-b421f0524434"
      },
      "source": [
        "df_train['state'].value_counts()"
      ],
      "execution_count": null,
      "outputs": [
        {
          "data": {
            "text/plain": [
              "TX    94876\n",
              "NY    83501\n",
              "PA    79847\n",
              "CA    56360\n",
              "OH    46480\n",
              "MI    46154\n",
              "IL    43252\n",
              "FL    42671\n",
              "AL    40989\n",
              "MO    38403\n",
              "MN    31714\n",
              "AR    31127\n",
              "NC    30266\n",
              "WI    29368\n",
              "VA    29250\n",
              "SC    29190\n",
              "KY    28475\n",
              "IN    27580\n",
              "IA    26985\n",
              "OK    26671\n",
              "MD    26193\n",
              "GA    26063\n",
              "WV    25691\n",
              "NJ    24603\n",
              "NE    24168\n",
              "KS    22996\n",
              "MS    21188\n",
              "LA    20965\n",
              "WY    19322\n",
              "WA    18924\n",
              "OR    18597\n",
              "TN    17554\n",
              "ME    16505\n",
              "NM    16407\n",
              "ND    14786\n",
              "CO    13880\n",
              "MA    12376\n",
              "SD    12324\n",
              "VT    11768\n",
              "MT    11754\n",
              "AZ    10770\n",
              "UT    10699\n",
              "NH     8278\n",
              "CT     7702\n",
              "NV     5607\n",
              "ID     5545\n",
              "DC     3613\n",
              "HI     2559\n",
              "AK     2120\n",
              "RI      550\n",
              "DE        9\n",
              "Name: state, dtype: int64"
            ]
          },
          "execution_count": 28,
          "metadata": {},
          "output_type": "execute_result"
        }
      ]
    },
    {
      "cell_type": "code",
      "metadata": {
        "colab": {
          "base_uri": "https://localhost:8080/"
        },
        "id": "oaPWS8BInQRm",
        "outputId": "8853cd0e-f72c-48fc-bb84-bc9be2316d67"
      },
      "source": [
        "df_train['category'].value_counts()"
      ],
      "execution_count": null,
      "outputs": [
        {
          "data": {
            "text/plain": [
              "gas_transport     131659\n",
              "grocery_pos       123638\n",
              "home              123115\n",
              "shopping_pos      116672\n",
              "kids_pets         113035\n",
              "shopping_net       97543\n",
              "entertainment      94014\n",
              "food_dining        91461\n",
              "personal_care      90758\n",
              "health_fitness     85879\n",
              "misc_pos           79655\n",
              "misc_net           63287\n",
              "grocery_net        45452\n",
              "travel             40507\n",
              "Name: category, dtype: int64"
            ]
          },
          "execution_count": 29,
          "metadata": {},
          "output_type": "execute_result"
        }
      ]
    },
    {
      "cell_type": "code",
      "metadata": {
        "colab": {
          "base_uri": "https://localhost:8080/"
        },
        "id": "hiu9ZZyonQRn",
        "outputId": "f6c62b85-b191-4ae6-d99f-53e36acaf879"
      },
      "source": [
        "df_train['merchant'].value_counts()"
      ],
      "execution_count": null,
      "outputs": [
        {
          "data": {
            "text/plain": [
              "fraud_Kilback LLC                       4403\n",
              "fraud_Cormier LLC                       3649\n",
              "fraud_Schumm PLC                        3634\n",
              "fraud_Kuhn LLC                          3510\n",
              "fraud_Boyer PLC                         3493\n",
              "                                        ... \n",
              "fraud_Douglas, DuBuque and McKenzie      775\n",
              "fraud_Treutel-King                       775\n",
              "fraud_Medhurst, Labadie and Gottlieb     759\n",
              "fraud_Reichert-Weissnat                  753\n",
              "fraud_Hahn, Douglas and Schowalter       727\n",
              "Name: merchant, Length: 693, dtype: int64"
            ]
          },
          "execution_count": 30,
          "metadata": {},
          "output_type": "execute_result"
        }
      ]
    },
    {
      "cell_type": "code",
      "metadata": {
        "colab": {
          "base_uri": "https://localhost:8080/"
        },
        "id": "COXvnb8ZnQRo",
        "outputId": "f67ac464-3cd4-4ca2-a869-841370d56e90"
      },
      "source": [
        "df_train['city_pop'].value_counts()"
      ],
      "execution_count": null,
      "outputs": [
        {
          "data": {
            "text/plain": [
              "606        5496\n",
              "1595797    5130\n",
              "1312922    5075\n",
              "1766       4574\n",
              "241        4533\n",
              "           ... \n",
              "4046          7\n",
              "1888          7\n",
              "3631          7\n",
              "198659        7\n",
              "242803        7\n",
              "Name: city_pop, Length: 879, dtype: int64"
            ]
          },
          "execution_count": 31,
          "metadata": {},
          "output_type": "execute_result"
        }
      ]
    },
    {
      "cell_type": "code",
      "metadata": {
        "colab": {
          "base_uri": "https://localhost:8080/"
        },
        "id": "-yCBgVl6nQRp",
        "outputId": "6210a16c-65fe-4191-defe-064264c87c1b"
      },
      "source": [
        "df_train['job'].value_counts()"
      ],
      "execution_count": null,
      "outputs": [
        {
          "data": {
            "text/plain": [
              "Film/video editor                 9779\n",
              "Exhibition designer               9199\n",
              "Naval architect                   8684\n",
              "Surveyor, land/geomatics          8680\n",
              "Materials engineer                8270\n",
              "                                  ... \n",
              "Armed forces technical officer       8\n",
              "Information officer                  8\n",
              "Contracting civil engineer           7\n",
              "Ship broker                          7\n",
              "Warehouse manager                    7\n",
              "Name: job, Length: 494, dtype: int64"
            ]
          },
          "execution_count": 32,
          "metadata": {},
          "output_type": "execute_result"
        }
      ]
    },
    {
      "cell_type": "code",
      "metadata": {
        "id": "l_jNF-xInQRq"
      },
      "source": [
        "df_train=df_train.drop(['merchant','city','zip','job','dob','age_at_trans','date'],axis=1)\n",
        "df_test=df_test.drop(['merchant','city','zip','job','dob','age_at_trans','date'],axis=1)\n"
      ],
      "execution_count": null,
      "outputs": []
    },
    {
      "cell_type": "code",
      "metadata": {
        "colab": {
          "base_uri": "https://localhost:8080/"
        },
        "id": "0zjsGoqMnQRr",
        "outputId": "1d334aea-9af3-4ddf-e5d4-ef1818d58579"
      },
      "source": [
        "print(df_train.head())\n",
        "print(df_test.head())\n"
      ],
      "execution_count": null,
      "outputs": [
        {
          "name": "stdout",
          "output_type": "stream",
          "text": [
            "        category     amt gender  ... is_fraud             age_cat  trans_month\n",
            "0       misc_net    4.97      F  ...        0  working population      January\n",
            "1    grocery_pos  107.23      F  ...        0  working population      January\n",
            "2  entertainment  220.11      M  ...        0  working population      January\n",
            "3  gas_transport   45.00      M  ...        0  working population      January\n",
            "4       misc_pos   41.96      M  ...        0  working population      January\n",
            "\n",
            "[5 rows x 8 columns]\n",
            "         category    amt gender  ... is_fraud             age_cat  trans_month\n",
            "0   personal_care   2.86      M  ...        0  working population         June\n",
            "1   personal_care  29.84      F  ...        0  working population         June\n",
            "2  health_fitness  41.28      F  ...        0  working population         June\n",
            "3        misc_pos  60.05      M  ...        0  working population         June\n",
            "4          travel   3.19      M  ...        0  working population         June\n",
            "\n",
            "[5 rows x 8 columns]\n"
          ]
        }
      ]
    },
    {
      "cell_type": "code",
      "metadata": {
        "colab": {
          "base_uri": "https://localhost:8080/"
        },
        "id": "yj2ycdjCnQRr",
        "outputId": "5248f4d4-905d-4dda-e4fa-bac7260af3c3"
      },
      "source": [
        "df_train['gender'] = df_train['gender'].map({'M': 1, 'F': 0})\n",
        "df_test['gender'] = df_test['gender'].map({'M': 1, 'F': 0})\n",
        "df_train.head()"
      ],
      "execution_count": null,
      "outputs": [
        {
          "data": {
            "text/html": [
              "<div>\n",
              "<style scoped>\n",
              "    .dataframe tbody tr th:only-of-type {\n",
              "        vertical-align: middle;\n",
              "    }\n",
              "\n",
              "    .dataframe tbody tr th {\n",
              "        vertical-align: top;\n",
              "    }\n",
              "\n",
              "    .dataframe thead th {\n",
              "        text-align: right;\n",
              "    }\n",
              "</style>\n",
              "<table border=\"1\" class=\"dataframe\">\n",
              "  <thead>\n",
              "    <tr style=\"text-align: right;\">\n",
              "      <th></th>\n",
              "      <th>category</th>\n",
              "      <th>amt</th>\n",
              "      <th>gender</th>\n",
              "      <th>state</th>\n",
              "      <th>city_pop</th>\n",
              "      <th>is_fraud</th>\n",
              "      <th>age_cat</th>\n",
              "      <th>trans_month</th>\n",
              "    </tr>\n",
              "  </thead>\n",
              "  <tbody>\n",
              "    <tr>\n",
              "      <th>0</th>\n",
              "      <td>misc_net</td>\n",
              "      <td>4.97</td>\n",
              "      <td>0</td>\n",
              "      <td>NC</td>\n",
              "      <td>3495</td>\n",
              "      <td>0</td>\n",
              "      <td>working population</td>\n",
              "      <td>January</td>\n",
              "    </tr>\n",
              "    <tr>\n",
              "      <th>1</th>\n",
              "      <td>grocery_pos</td>\n",
              "      <td>107.23</td>\n",
              "      <td>0</td>\n",
              "      <td>WA</td>\n",
              "      <td>149</td>\n",
              "      <td>0</td>\n",
              "      <td>working population</td>\n",
              "      <td>January</td>\n",
              "    </tr>\n",
              "    <tr>\n",
              "      <th>2</th>\n",
              "      <td>entertainment</td>\n",
              "      <td>220.11</td>\n",
              "      <td>1</td>\n",
              "      <td>ID</td>\n",
              "      <td>4154</td>\n",
              "      <td>0</td>\n",
              "      <td>working population</td>\n",
              "      <td>January</td>\n",
              "    </tr>\n",
              "    <tr>\n",
              "      <th>3</th>\n",
              "      <td>gas_transport</td>\n",
              "      <td>45.00</td>\n",
              "      <td>1</td>\n",
              "      <td>MT</td>\n",
              "      <td>1939</td>\n",
              "      <td>0</td>\n",
              "      <td>working population</td>\n",
              "      <td>January</td>\n",
              "    </tr>\n",
              "    <tr>\n",
              "      <th>4</th>\n",
              "      <td>misc_pos</td>\n",
              "      <td>41.96</td>\n",
              "      <td>1</td>\n",
              "      <td>VA</td>\n",
              "      <td>99</td>\n",
              "      <td>0</td>\n",
              "      <td>working population</td>\n",
              "      <td>January</td>\n",
              "    </tr>\n",
              "  </tbody>\n",
              "</table>\n",
              "</div>"
            ],
            "text/plain": [
              "        category     amt  gender  ... is_fraud             age_cat  trans_month\n",
              "0       misc_net    4.97       0  ...        0  working population      January\n",
              "1    grocery_pos  107.23       0  ...        0  working population      January\n",
              "2  entertainment  220.11       1  ...        0  working population      January\n",
              "3  gas_transport   45.00       1  ...        0  working population      January\n",
              "4       misc_pos   41.96       1  ...        0  working population      January\n",
              "\n",
              "[5 rows x 8 columns]"
            ]
          },
          "execution_count": 35,
          "metadata": {},
          "output_type": "execute_result"
        }
      ]
    },
    {
      "cell_type": "markdown",
      "metadata": {
        "id": "W5gUet2knQRs"
      },
      "source": [
        "## EDA"
      ]
    },
    {
      "cell_type": "code",
      "metadata": {
        "colab": {
          "base_uri": "https://localhost:8080/",
          "height": 308
        },
        "id": "DcMCv1jtnQRt",
        "outputId": "44730629-a44d-4955-bf7d-c1a10e1073e9"
      },
      "source": [
        "# Data imbalance check\n",
        "sns.countplot(x='is_fraud',data=df_train)"
      ],
      "execution_count": null,
      "outputs": [
        {
          "data": {
            "text/plain": [
              "<matplotlib.axes._subplots.AxesSubplot at 0x7f7e40b494d0>"
            ]
          },
          "execution_count": 36,
          "metadata": {},
          "output_type": "execute_result"
        },
        {
          "data": {
            "image/png": "[encoded data removed]",
            "text/plain": [
              "<Figure size 432x288 with 1 Axes>"
            ]
          },
          "metadata": {},
          "output_type": "display_data"
        }
      ]
    },
    {
      "cell_type": "code",
      "metadata": {
        "colab": {
          "base_uri": "https://localhost:8080/",
          "height": 297
        },
        "id": "URvbrTKNnQRu",
        "outputId": "42adc2ab-8929-4dff-eaf8-cd3e28db10ad"
      },
      "source": [
        "# Data imbalance check\n",
        "sns.countplot(x='is_fraud',data=df_test)"
      ],
      "execution_count": null,
      "outputs": [
        {
          "data": {
            "text/plain": [
              "<matplotlib.axes._subplots.AxesSubplot at 0x7f7e40aec390>"
            ]
          },
          "execution_count": 37,
          "metadata": {},
          "output_type": "execute_result"
        },
        {
          "data": {
            "image/png": "[encoded data removed]",
            "text/plain": [
              "<Figure size 432x288 with 1 Axes>"
            ]
          },
          "metadata": {},
          "output_type": "display_data"
        }
      ]
    },
    {
      "cell_type": "code",
      "metadata": {
        "colab": {
          "base_uri": "https://localhost:8080/"
        },
        "id": "sRnn2PYDnQRv",
        "outputId": "50fd627e-35bf-4736-d370-7799f58341ee"
      },
      "source": [
        "(df_train['is_fraud'].value_counts()/len(df_train))*100"
      ],
      "execution_count": null,
      "outputs": [
        {
          "data": {
            "text/plain": [
              "0    99.421135\n",
              "1     0.578865\n",
              "Name: is_fraud, dtype: float64"
            ]
          },
          "execution_count": 38,
          "metadata": {},
          "output_type": "execute_result"
        }
      ]
    },
    {
      "cell_type": "code",
      "metadata": {
        "colab": {
          "base_uri": "https://localhost:8080/"
        },
        "id": "tzFHRoYRnQRw",
        "outputId": "53002f3d-afe7-4a2a-b26c-61448e592e3a"
      },
      "source": [
        "(df_test['is_fraud'].value_counts()/len(df_test))*100"
      ],
      "execution_count": null,
      "outputs": [
        {
          "data": {
            "text/plain": [
              "0    99.614014\n",
              "1     0.385986\n",
              "Name: is_fraud, dtype: float64"
            ]
          },
          "execution_count": 39,
          "metadata": {},
          "output_type": "execute_result"
        }
      ]
    },
    {
      "cell_type": "markdown",
      "metadata": {
        "id": "9c5Cdg-nnQRx"
      },
      "source": [
        "As we can see here, this is a case of imbalance data"
      ]
    },
    {
      "cell_type": "code",
      "metadata": {
        "colab": {
          "base_uri": "https://localhost:8080/",
          "height": 828
        },
        "id": "7kafs-osnQRz",
        "outputId": "565d8b7f-e4ca-4c2e-c897-b1082866a95a"
      },
      "source": [
        "plt.figure(figsize=(12,12))\n",
        "sns.countplot(x='age_cat',hue='is_fraud',data=df_train)\n",
        "plt.xticks(rotation=90)"
      ],
      "execution_count": null,
      "outputs": [
        {
          "data": {
            "text/plain": [
              "(array([0, 1, 2]), <a list of 3 Text major ticklabel objects>)"
            ]
          },
          "execution_count": 40,
          "metadata": {},
          "output_type": "execute_result"
        },
        {
          "data": {
            "image/png": "[encoded data removed]",
            "text/plain": [
              "<Figure size 864x864 with 1 Axes>"
            ]
          },
          "metadata": {},
          "output_type": "display_data"
        }
      ]
    },
    {
      "cell_type": "code",
      "metadata": {
        "colab": {
          "base_uri": "https://localhost:8080/",
          "height": 810
        },
        "id": "gDb7K2E1nQR0",
        "outputId": "c7708f0b-bb97-4c31-f898-e51198ab0f72"
      },
      "source": [
        "plt.figure(figsize=(12,12))\n",
        "sns.countplot(x='category',hue='is_fraud',data=df_train)\n",
        "plt.xticks(rotation=90)"
      ],
      "execution_count": null,
      "outputs": [
        {
          "data": {
            "text/plain": [
              "(array([ 0,  1,  2,  3,  4,  5,  6,  7,  8,  9, 10, 11, 12, 13]),\n",
              " <a list of 14 Text major ticklabel objects>)"
            ]
          },
          "execution_count": 41,
          "metadata": {},
          "output_type": "execute_result"
        },
        {
          "data": {
            "image/png": "[encoded data removed]",
            "text/plain": [
              "<Figure size 864x864 with 1 Axes>"
            ]
          },
          "metadata": {},
          "output_type": "display_data"
        }
      ]
    },
    {
      "cell_type": "code",
      "metadata": {
        "colab": {
          "base_uri": "https://localhost:8080/",
          "height": 790
        },
        "id": "LHVWMe0VnQR1",
        "outputId": "d472f8dd-04a1-4fef-aedc-4876a767fdfb"
      },
      "source": [
        "plt.figure(figsize=(12,12))\n",
        "sns.countplot(x='state',hue='is_fraud',data=df_train)\n",
        "plt.xticks(rotation=90)"
      ],
      "execution_count": null,
      "outputs": [
        {
          "data": {
            "text/plain": [
              "(array([ 0,  1,  2,  3,  4,  5,  6,  7,  8,  9, 10, 11, 12, 13, 14, 15, 16,\n",
              "        17, 18, 19, 20, 21, 22, 23, 24, 25, 26, 27, 28, 29, 30, 31, 32, 33,\n",
              "        34, 35, 36, 37, 38, 39, 40, 41, 42, 43, 44, 45, 46, 47, 48, 49, 50]),\n",
              " <a list of 51 Text major ticklabel objects>)"
            ]
          },
          "execution_count": 42,
          "metadata": {},
          "output_type": "execute_result"
        },
        {
          "data": {
            "image/png": "[encoded data removed]",
            "text/plain": [
              "<Figure size 864x864 with 1 Axes>"
            ]
          },
          "metadata": {},
          "output_type": "display_data"
        }
      ]
    },
    {
      "cell_type": "code",
      "metadata": {
        "colab": {
          "base_uri": "https://localhost:8080/",
          "height": 174
        },
        "id": "TxbdXiV_nQR2",
        "outputId": "880df53c-3840-4a73-cc02-6a697dfb9ae2"
      },
      "source": [
        "cor=df_train.corr()\n",
        "cor"
      ],
      "execution_count": null,
      "outputs": [
        {
          "data": {
            "text/html": [
              "<div>\n",
              "<style scoped>\n",
              "    .dataframe tbody tr th:only-of-type {\n",
              "        vertical-align: middle;\n",
              "    }\n",
              "\n",
              "    .dataframe tbody tr th {\n",
              "        vertical-align: top;\n",
              "    }\n",
              "\n",
              "    .dataframe thead th {\n",
              "        text-align: right;\n",
              "    }\n",
              "</style>\n",
              "<table border=\"1\" class=\"dataframe\">\n",
              "  <thead>\n",
              "    <tr style=\"text-align: right;\">\n",
              "      <th></th>\n",
              "      <th>amt</th>\n",
              "      <th>gender</th>\n",
              "      <th>city_pop</th>\n",
              "      <th>is_fraud</th>\n",
              "    </tr>\n",
              "  </thead>\n",
              "  <tbody>\n",
              "    <tr>\n",
              "      <th>amt</th>\n",
              "      <td>1.000000</td>\n",
              "      <td>0.001034</td>\n",
              "      <td>0.005818</td>\n",
              "      <td>0.219404</td>\n",
              "    </tr>\n",
              "    <tr>\n",
              "      <th>gender</th>\n",
              "      <td>0.001034</td>\n",
              "      <td>1.000000</td>\n",
              "      <td>-0.028649</td>\n",
              "      <td>0.007642</td>\n",
              "    </tr>\n",
              "    <tr>\n",
              "      <th>city_pop</th>\n",
              "      <td>0.005818</td>\n",
              "      <td>-0.028649</td>\n",
              "      <td>1.000000</td>\n",
              "      <td>0.002136</td>\n",
              "    </tr>\n",
              "    <tr>\n",
              "      <th>is_fraud</th>\n",
              "      <td>0.219404</td>\n",
              "      <td>0.007642</td>\n",
              "      <td>0.002136</td>\n",
              "      <td>1.000000</td>\n",
              "    </tr>\n",
              "  </tbody>\n",
              "</table>\n",
              "</div>"
            ],
            "text/plain": [
              "               amt    gender  city_pop  is_fraud\n",
              "amt       1.000000  0.001034  0.005818  0.219404\n",
              "gender    0.001034  1.000000 -0.028649  0.007642\n",
              "city_pop  0.005818 -0.028649  1.000000  0.002136\n",
              "is_fraud  0.219404  0.007642  0.002136  1.000000"
            ]
          },
          "execution_count": 43,
          "metadata": {},
          "output_type": "execute_result"
        }
      ]
    },
    {
      "cell_type": "code",
      "metadata": {
        "colab": {
          "base_uri": "https://localhost:8080/",
          "height": 501
        },
        "id": "smGpHkqMnQR3",
        "outputId": "10ef722c-ab12-4733-84e8-638bf1b2a488"
      },
      "source": [
        "plt.figure(figsize=(8,8))\n",
        "sns.heatmap(cor,cmap=\"YlOrRd_r\", center=0.8, square=True, annot=True,\n",
        "                 annot_kws={\"size\": 12, \"va\": \"center_baseline\", \"color\": \"white\"}, fmt=\".2f\", \n",
        "                  linewidth=1, linecolor=\"grey\", vmin=0.5, vmax=1, cbar=False)\n",
        "plt.yticks(rotation=45)"
      ],
      "execution_count": null,
      "outputs": [
        {
          "data": {
            "text/plain": [
              "(array([0.5, 1.5, 2.5, 3.5]), <a list of 4 Text major ticklabel objects>)"
            ]
          },
          "execution_count": 44,
          "metadata": {},
          "output_type": "execute_result"
        },
        {
          "data": {
            "image/png": "[encoded data removed]",
            "text/plain": [
              "<Figure size 576x576 with 1 Axes>"
            ]
          },
          "metadata": {},
          "output_type": "display_data"
        }
      ]
    },
    {
      "cell_type": "code",
      "metadata": {
        "colab": {
          "base_uri": "https://localhost:8080/"
        },
        "id": "1lgzVTOinQR4",
        "outputId": "5906ac89-2b44-4bfd-a47a-ca3a1b9766de"
      },
      "source": [
        "df_train.nunique()"
      ],
      "execution_count": null,
      "outputs": [
        {
          "data": {
            "text/plain": [
              "category          14\n",
              "amt            52928\n",
              "gender             2\n",
              "state             51\n",
              "city_pop         879\n",
              "is_fraud           2\n",
              "age_cat            3\n",
              "trans_month       12\n",
              "dtype: int64"
            ]
          },
          "execution_count": 45,
          "metadata": {},
          "output_type": "execute_result"
        }
      ]
    },
    {
      "cell_type": "code",
      "metadata": {
        "colab": {
          "base_uri": "https://localhost:8080/"
        },
        "id": "6B_mmxLfnQR5",
        "outputId": "5d599566-8447-4eb1-9009-a6ae7cd4b2fa"
      },
      "source": [
        "df_test.nunique()"
      ],
      "execution_count": null,
      "outputs": [
        {
          "data": {
            "text/plain": [
              "category          14\n",
              "amt            37256\n",
              "gender             2\n",
              "state             50\n",
              "city_pop         835\n",
              "is_fraud           2\n",
              "age_cat            3\n",
              "trans_month        7\n",
              "dtype: int64"
            ]
          },
          "execution_count": 46,
          "metadata": {},
          "output_type": "execute_result"
        }
      ]
    },
    {
      "cell_type": "code",
      "metadata": {
        "id": "4OQZFiV4yWSB"
      },
      "source": [
        "dum_cols=['category','state','age_cat','trans_month']"
      ],
      "execution_count": null,
      "outputs": []
    },
    {
      "cell_type": "code",
      "metadata": {
        "colab": {
          "base_uri": "https://localhost:8080/"
        },
        "id": "chFjbOjCnQR6",
        "outputId": "c7a9eb08-abf8-4fee-bd80-c477e4c765c6"
      },
      "source": [
        "# treating categorical values\n",
        "df_train_dum = pd.get_dummies(df_train[dum_cols],drop_first=True)\n",
        "df_test_dum = pd.get_dummies(df_test[dum_cols],drop_first=True)\n",
        "\n",
        "df_train_dum.info()"
      ],
      "execution_count": null,
      "outputs": [
        {
          "name": "stdout",
          "output_type": "stream",
          "text": [
            "<class 'pandas.core.frame.DataFrame'>\n",
            "RangeIndex: 1296675 entries, 0 to 1296674\n",
            "Data columns (total 76 columns):\n",
            " #   Column                      Non-Null Count    Dtype\n",
            "---  ------                      --------------    -----\n",
            " 0   category_food_dining        1296675 non-null  uint8\n",
            " 1   category_gas_transport      1296675 non-null  uint8\n",
            " 2   category_grocery_net        1296675 non-null  uint8\n",
            " 3   category_grocery_pos        1296675 non-null  uint8\n",
            " 4   category_health_fitness     1296675 non-null  uint8\n",
            " 5   category_home               1296675 non-null  uint8\n",
            " 6   category_kids_pets          1296675 non-null  uint8\n",
            " 7   category_misc_net           1296675 non-null  uint8\n",
            " 8   category_misc_pos           1296675 non-null  uint8\n",
            " 9   category_personal_care      1296675 non-null  uint8\n",
            " 10  category_shopping_net       1296675 non-null  uint8\n",
            " 11  category_shopping_pos       1296675 non-null  uint8\n",
            " 12  category_travel             1296675 non-null  uint8\n",
            " 13  state_AL                    1296675 non-null  uint8\n",
            " 14  state_AR                    1296675 non-null  uint8\n",
            " 15  state_AZ                    1296675 non-null  uint8\n",
            " 16  state_CA                    1296675 non-null  uint8\n",
            " 17  state_CO                    1296675 non-null  uint8\n",
            " 18  state_CT                    1296675 non-null  uint8\n",
            " 19  state_DC                    1296675 non-null  uint8\n",
            " 20  state_DE                    1296675 non-null  uint8\n",
            " 21  state_FL                    1296675 non-null  uint8\n",
            " 22  state_GA                    1296675 non-null  uint8\n",
            " 23  state_HI                    1296675 non-null  uint8\n",
            " 24  state_IA                    1296675 non-null  uint8\n",
            " 25  state_ID                    1296675 non-null  uint8\n",
            " 26  state_IL                    1296675 non-null  uint8\n",
            " 27  state_IN                    1296675 non-null  uint8\n",
            " 28  state_KS                    1296675 non-null  uint8\n",
            " 29  state_KY                    1296675 non-null  uint8\n",
            " 30  state_LA                    1296675 non-null  uint8\n",
            " 31  state_MA                    1296675 non-null  uint8\n",
            " 32  state_MD                    1296675 non-null  uint8\n",
            " 33  state_ME                    1296675 non-null  uint8\n",
            " 34  state_MI                    1296675 non-null  uint8\n",
            " 35  state_MN                    1296675 non-null  uint8\n",
            " 36  state_MO                    1296675 non-null  uint8\n",
            " 37  state_MS                    1296675 non-null  uint8\n",
            " 38  state_MT                    1296675 non-null  uint8\n",
            " 39  state_NC                    1296675 non-null  uint8\n",
            " 40  state_ND                    1296675 non-null  uint8\n",
            " 41  state_NE                    1296675 non-null  uint8\n",
            " 42  state_NH                    1296675 non-null  uint8\n",
            " 43  state_NJ                    1296675 non-null  uint8\n",
            " 44  state_NM                    1296675 non-null  uint8\n",
            " 45  state_NV                    1296675 non-null  uint8\n",
            " 46  state_NY                    1296675 non-null  uint8\n",
            " 47  state_OH                    1296675 non-null  uint8\n",
            " 48  state_OK                    1296675 non-null  uint8\n",
            " 49  state_OR                    1296675 non-null  uint8\n",
            " 50  state_PA                    1296675 non-null  uint8\n",
            " 51  state_RI                    1296675 non-null  uint8\n",
            " 52  state_SC                    1296675 non-null  uint8\n",
            " 53  state_SD                    1296675 non-null  uint8\n",
            " 54  state_TN                    1296675 non-null  uint8\n",
            " 55  state_TX                    1296675 non-null  uint8\n",
            " 56  state_UT                    1296675 non-null  uint8\n",
            " 57  state_VA                    1296675 non-null  uint8\n",
            " 58  state_VT                    1296675 non-null  uint8\n",
            " 59  state_WA                    1296675 non-null  uint8\n",
            " 60  state_WI                    1296675 non-null  uint8\n",
            " 61  state_WV                    1296675 non-null  uint8\n",
            " 62  state_WY                    1296675 non-null  uint8\n",
            " 63  age_cat_teenager            1296675 non-null  uint8\n",
            " 64  age_cat_working population  1296675 non-null  uint8\n",
            " 65  trans_month_August          1296675 non-null  uint8\n",
            " 66  trans_month_December        1296675 non-null  uint8\n",
            " 67  trans_month_February        1296675 non-null  uint8\n",
            " 68  trans_month_January         1296675 non-null  uint8\n",
            " 69  trans_month_July            1296675 non-null  uint8\n",
            " 70  trans_month_June            1296675 non-null  uint8\n",
            " 71  trans_month_March           1296675 non-null  uint8\n",
            " 72  trans_month_May             1296675 non-null  uint8\n",
            " 73  trans_month_November        1296675 non-null  uint8\n",
            " 74  trans_month_October         1296675 non-null  uint8\n",
            " 75  trans_month_September       1296675 non-null  uint8\n",
            "dtypes: uint8(76)\n",
            "memory usage: 94.0 MB\n"
          ]
        }
      ]
    },
    {
      "cell_type": "code",
      "metadata": {
        "colab": {
          "base_uri": "https://localhost:8080/"
        },
        "id": "BmtpHwT1wLgr",
        "outputId": "9f49753c-569b-46a1-ef83-672f089350de"
      },
      "source": [
        "df_test_dum.info()"
      ],
      "execution_count": null,
      "outputs": [
        {
          "name": "stdout",
          "output_type": "stream",
          "text": [
            "<class 'pandas.core.frame.DataFrame'>\n",
            "RangeIndex: 555719 entries, 0 to 555718\n",
            "Data columns (total 70 columns):\n",
            " #   Column                      Non-Null Count   Dtype\n",
            "---  ------                      --------------   -----\n",
            " 0   category_food_dining        555719 non-null  uint8\n",
            " 1   category_gas_transport      555719 non-null  uint8\n",
            " 2   category_grocery_net        555719 non-null  uint8\n",
            " 3   category_grocery_pos        555719 non-null  uint8\n",
            " 4   category_health_fitness     555719 non-null  uint8\n",
            " 5   category_home               555719 non-null  uint8\n",
            " 6   category_kids_pets          555719 non-null  uint8\n",
            " 7   category_misc_net           555719 non-null  uint8\n",
            " 8   category_misc_pos           555719 non-null  uint8\n",
            " 9   category_personal_care      555719 non-null  uint8\n",
            " 10  category_shopping_net       555719 non-null  uint8\n",
            " 11  category_shopping_pos       555719 non-null  uint8\n",
            " 12  category_travel             555719 non-null  uint8\n",
            " 13  state_AL                    555719 non-null  uint8\n",
            " 14  state_AR                    555719 non-null  uint8\n",
            " 15  state_AZ                    555719 non-null  uint8\n",
            " 16  state_CA                    555719 non-null  uint8\n",
            " 17  state_CO                    555719 non-null  uint8\n",
            " 18  state_CT                    555719 non-null  uint8\n",
            " 19  state_DC                    555719 non-null  uint8\n",
            " 20  state_FL                    555719 non-null  uint8\n",
            " 21  state_GA                    555719 non-null  uint8\n",
            " 22  state_HI                    555719 non-null  uint8\n",
            " 23  state_IA                    555719 non-null  uint8\n",
            " 24  state_ID                    555719 non-null  uint8\n",
            " 25  state_IL                    555719 non-null  uint8\n",
            " 26  state_IN                    555719 non-null  uint8\n",
            " 27  state_KS                    555719 non-null  uint8\n",
            " 28  state_KY                    555719 non-null  uint8\n",
            " 29  state_LA                    555719 non-null  uint8\n",
            " 30  state_MA                    555719 non-null  uint8\n",
            " 31  state_MD                    555719 non-null  uint8\n",
            " 32  state_ME                    555719 non-null  uint8\n",
            " 33  state_MI                    555719 non-null  uint8\n",
            " 34  state_MN                    555719 non-null  uint8\n",
            " 35  state_MO                    555719 non-null  uint8\n",
            " 36  state_MS                    555719 non-null  uint8\n",
            " 37  state_MT                    555719 non-null  uint8\n",
            " 38  state_NC                    555719 non-null  uint8\n",
            " 39  state_ND                    555719 non-null  uint8\n",
            " 40  state_NE                    555719 non-null  uint8\n",
            " 41  state_NH                    555719 non-null  uint8\n",
            " 42  state_NJ                    555719 non-null  uint8\n",
            " 43  state_NM                    555719 non-null  uint8\n",
            " 44  state_NV                    555719 non-null  uint8\n",
            " 45  state_NY                    555719 non-null  uint8\n",
            " 46  state_OH                    555719 non-null  uint8\n",
            " 47  state_OK                    555719 non-null  uint8\n",
            " 48  state_OR                    555719 non-null  uint8\n",
            " 49  state_PA                    555719 non-null  uint8\n",
            " 50  state_RI                    555719 non-null  uint8\n",
            " 51  state_SC                    555719 non-null  uint8\n",
            " 52  state_SD                    555719 non-null  uint8\n",
            " 53  state_TN                    555719 non-null  uint8\n",
            " 54  state_TX                    555719 non-null  uint8\n",
            " 55  state_UT                    555719 non-null  uint8\n",
            " 56  state_VA                    555719 non-null  uint8\n",
            " 57  state_VT                    555719 non-null  uint8\n",
            " 58  state_WA                    555719 non-null  uint8\n",
            " 59  state_WI                    555719 non-null  uint8\n",
            " 60  state_WV                    555719 non-null  uint8\n",
            " 61  state_WY                    555719 non-null  uint8\n",
            " 62  age_cat_teenager            555719 non-null  uint8\n",
            " 63  age_cat_working population  555719 non-null  uint8\n",
            " 64  trans_month_December        555719 non-null  uint8\n",
            " 65  trans_month_July            555719 non-null  uint8\n",
            " 66  trans_month_June            555719 non-null  uint8\n",
            " 67  trans_month_November        555719 non-null  uint8\n",
            " 68  trans_month_October         555719 non-null  uint8\n",
            " 69  trans_month_September       555719 non-null  uint8\n",
            "dtypes: uint8(70)\n",
            "memory usage: 37.1 MB\n"
          ]
        }
      ]
    },
    {
      "cell_type": "code",
      "metadata": {
        "id": "mWszKSPDzlpu"
      },
      "source": [
        "df_train=df_train.drop(dum_cols,axis=1)\n",
        "df_test=df_test.drop(dum_cols,axis=1)"
      ],
      "execution_count": null,
      "outputs": []
    },
    {
      "cell_type": "code",
      "metadata": {
        "colab": {
          "base_uri": "https://localhost:8080/"
        },
        "id": "9zD8TyH70A07",
        "outputId": "3cf38c73-29f4-4905-cf07-742dc4c9f50b"
      },
      "source": [
        "df_train=pd.concat([df_train,df_train_dum],axis=1)\n",
        "df_train.shape"
      ],
      "execution_count": null,
      "outputs": [
        {
          "data": {
            "text/plain": [
              "(1296675, 80)"
            ]
          },
          "execution_count": 51,
          "metadata": {},
          "output_type": "execute_result"
        }
      ]
    },
    {
      "cell_type": "code",
      "metadata": {
        "colab": {
          "base_uri": "https://localhost:8080/"
        },
        "id": "Kxvo0bGy1mcK",
        "outputId": "5b31c89b-722a-4b26-8f4e-6ee4719f98b8"
      },
      "source": [
        "df_test=pd.concat([df_test,df_test_dum],axis=1)\n",
        "df_test.shape"
      ],
      "execution_count": null,
      "outputs": [
        {
          "data": {
            "text/plain": [
              "(555719, 74)"
            ]
          },
          "execution_count": 52,
          "metadata": {},
          "output_type": "execute_result"
        }
      ]
    },
    {
      "cell_type": "code",
      "metadata": {
        "id": "CObgk7q7Sw_P"
      },
      "source": [
        "df_train=df_train.drop(['trans_month_August','trans_month_February','trans_month_January','trans_month_March','trans_month_May','state_DE'],axis=1)"
      ],
      "execution_count": null,
      "outputs": []
    },
    {
      "cell_type": "code",
      "metadata": {
        "colab": {
          "base_uri": "https://localhost:8080/"
        },
        "id": "kYhmIGJ-1YvQ",
        "outputId": "35ae7d48-f793-4da7-9a6d-beae104a00d5"
      },
      "source": [
        "df_train.info()"
      ],
      "execution_count": null,
      "outputs": [
        {
          "name": "stdout",
          "output_type": "stream",
          "text": [
            "<class 'pandas.core.frame.DataFrame'>\n",
            "RangeIndex: 1296675 entries, 0 to 1296674\n",
            "Data columns (total 74 columns):\n",
            " #   Column                      Non-Null Count    Dtype  \n",
            "---  ------                      --------------    -----  \n",
            " 0   amt                         1296675 non-null  float64\n",
            " 1   gender                      1296675 non-null  int64  \n",
            " 2   city_pop                    1296675 non-null  int64  \n",
            " 3   is_fraud                    1296675 non-null  int64  \n",
            " 4   category_food_dining        1296675 non-null  uint8  \n",
            " 5   category_gas_transport      1296675 non-null  uint8  \n",
            " 6   category_grocery_net        1296675 non-null  uint8  \n",
            " 7   category_grocery_pos        1296675 non-null  uint8  \n",
            " 8   category_health_fitness     1296675 non-null  uint8  \n",
            " 9   category_home               1296675 non-null  uint8  \n",
            " 10  category_kids_pets          1296675 non-null  uint8  \n",
            " 11  category_misc_net           1296675 non-null  uint8  \n",
            " 12  category_misc_pos           1296675 non-null  uint8  \n",
            " 13  category_personal_care      1296675 non-null  uint8  \n",
            " 14  category_shopping_net       1296675 non-null  uint8  \n",
            " 15  category_shopping_pos       1296675 non-null  uint8  \n",
            " 16  category_travel             1296675 non-null  uint8  \n",
            " 17  state_AL                    1296675 non-null  uint8  \n",
            " 18  state_AR                    1296675 non-null  uint8  \n",
            " 19  state_AZ                    1296675 non-null  uint8  \n",
            " 20  state_CA                    1296675 non-null  uint8  \n",
            " 21  state_CO                    1296675 non-null  uint8  \n",
            " 22  state_CT                    1296675 non-null  uint8  \n",
            " 23  state_DC                    1296675 non-null  uint8  \n",
            " 24  state_FL                    1296675 non-null  uint8  \n",
            " 25  state_GA                    1296675 non-null  uint8  \n",
            " 26  state_HI                    1296675 non-null  uint8  \n",
            " 27  state_IA                    1296675 non-null  uint8  \n",
            " 28  state_ID                    1296675 non-null  uint8  \n",
            " 29  state_IL                    1296675 non-null  uint8  \n",
            " 30  state_IN                    1296675 non-null  uint8  \n",
            " 31  state_KS                    1296675 non-null  uint8  \n",
            " 32  state_KY                    1296675 non-null  uint8  \n",
            " 33  state_LA                    1296675 non-null  uint8  \n",
            " 34  state_MA                    1296675 non-null  uint8  \n",
            " 35  state_MD                    1296675 non-null  uint8  \n",
            " 36  state_ME                    1296675 non-null  uint8  \n",
            " 37  state_MI                    1296675 non-null  uint8  \n",
            " 38  state_MN                    1296675 non-null  uint8  \n",
            " 39  state_MO                    1296675 non-null  uint8  \n",
            " 40  state_MS                    1296675 non-null  uint8  \n",
            " 41  state_MT                    1296675 non-null  uint8  \n",
            " 42  state_NC                    1296675 non-null  uint8  \n",
            " 43  state_ND                    1296675 non-null  uint8  \n",
            " 44  state_NE                    1296675 non-null  uint8  \n",
            " 45  state_NH                    1296675 non-null  uint8  \n",
            " 46  state_NJ                    1296675 non-null  uint8  \n",
            " 47  state_NM                    1296675 non-null  uint8  \n",
            " 48  state_NV                    1296675 non-null  uint8  \n",
            " 49  state_NY                    1296675 non-null  uint8  \n",
            " 50  state_OH                    1296675 non-null  uint8  \n",
            " 51  state_OK                    1296675 non-null  uint8  \n",
            " 52  state_OR                    1296675 non-null  uint8  \n",
            " 53  state_PA                    1296675 non-null  uint8  \n",
            " 54  state_RI                    1296675 non-null  uint8  \n",
            " 55  state_SC                    1296675 non-null  uint8  \n",
            " 56  state_SD                    1296675 non-null  uint8  \n",
            " 57  state_TN                    1296675 non-null  uint8  \n",
            " 58  state_TX                    1296675 non-null  uint8  \n",
            " 59  state_UT                    1296675 non-null  uint8  \n",
            " 60  state_VA                    1296675 non-null  uint8  \n",
            " 61  state_VT                    1296675 non-null  uint8  \n",
            " 62  state_WA                    1296675 non-null  uint8  \n",
            " 63  state_WI                    1296675 non-null  uint8  \n",
            " 64  state_WV                    1296675 non-null  uint8  \n",
            " 65  state_WY                    1296675 non-null  uint8  \n",
            " 66  age_cat_teenager            1296675 non-null  uint8  \n",
            " 67  age_cat_working population  1296675 non-null  uint8  \n",
            " 68  trans_month_December        1296675 non-null  uint8  \n",
            " 69  trans_month_July            1296675 non-null  uint8  \n",
            " 70  trans_month_June            1296675 non-null  uint8  \n",
            " 71  trans_month_November        1296675 non-null  uint8  \n",
            " 72  trans_month_October         1296675 non-null  uint8  \n",
            " 73  trans_month_September       1296675 non-null  uint8  \n",
            "dtypes: float64(1), int64(3), uint8(70)\n",
            "memory usage: 126.1 MB\n"
          ]
        }
      ]
    },
    {
      "cell_type": "code",
      "metadata": {
        "colab": {
          "base_uri": "https://localhost:8080/"
        },
        "id": "5Ihdh5wdRd4y",
        "outputId": "20234f80-b622-4687-f0c7-62fd5653b48b"
      },
      "source": [
        "df_test.info()"
      ],
      "execution_count": null,
      "outputs": [
        {
          "name": "stdout",
          "output_type": "stream",
          "text": [
            "<class 'pandas.core.frame.DataFrame'>\n",
            "RangeIndex: 555719 entries, 0 to 555718\n",
            "Data columns (total 74 columns):\n",
            " #   Column                      Non-Null Count   Dtype  \n",
            "---  ------                      --------------   -----  \n",
            " 0   amt                         555719 non-null  float64\n",
            " 1   gender                      555719 non-null  int64  \n",
            " 2   city_pop                    555719 non-null  int64  \n",
            " 3   is_fraud                    555719 non-null  int64  \n",
            " 4   category_food_dining        555719 non-null  uint8  \n",
            " 5   category_gas_transport      555719 non-null  uint8  \n",
            " 6   category_grocery_net        555719 non-null  uint8  \n",
            " 7   category_grocery_pos        555719 non-null  uint8  \n",
            " 8   category_health_fitness     555719 non-null  uint8  \n",
            " 9   category_home               555719 non-null  uint8  \n",
            " 10  category_kids_pets          555719 non-null  uint8  \n",
            " 11  category_misc_net           555719 non-null  uint8  \n",
            " 12  category_misc_pos           555719 non-null  uint8  \n",
            " 13  category_personal_care      555719 non-null  uint8  \n",
            " 14  category_shopping_net       555719 non-null  uint8  \n",
            " 15  category_shopping_pos       555719 non-null  uint8  \n",
            " 16  category_travel             555719 non-null  uint8  \n",
            " 17  state_AL                    555719 non-null  uint8  \n",
            " 18  state_AR                    555719 non-null  uint8  \n",
            " 19  state_AZ                    555719 non-null  uint8  \n",
            " 20  state_CA                    555719 non-null  uint8  \n",
            " 21  state_CO                    555719 non-null  uint8  \n",
            " 22  state_CT                    555719 non-null  uint8  \n",
            " 23  state_DC                    555719 non-null  uint8  \n",
            " 24  state_FL                    555719 non-null  uint8  \n",
            " 25  state_GA                    555719 non-null  uint8  \n",
            " 26  state_HI                    555719 non-null  uint8  \n",
            " 27  state_IA                    555719 non-null  uint8  \n",
            " 28  state_ID                    555719 non-null  uint8  \n",
            " 29  state_IL                    555719 non-null  uint8  \n",
            " 30  state_IN                    555719 non-null  uint8  \n",
            " 31  state_KS                    555719 non-null  uint8  \n",
            " 32  state_KY                    555719 non-null  uint8  \n",
            " 33  state_LA                    555719 non-null  uint8  \n",
            " 34  state_MA                    555719 non-null  uint8  \n",
            " 35  state_MD                    555719 non-null  uint8  \n",
            " 36  state_ME                    555719 non-null  uint8  \n",
            " 37  state_MI                    555719 non-null  uint8  \n",
            " 38  state_MN                    555719 non-null  uint8  \n",
            " 39  state_MO                    555719 non-null  uint8  \n",
            " 40  state_MS                    555719 non-null  uint8  \n",
            " 41  state_MT                    555719 non-null  uint8  \n",
            " 42  state_NC                    555719 non-null  uint8  \n",
            " 43  state_ND                    555719 non-null  uint8  \n",
            " 44  state_NE                    555719 non-null  uint8  \n",
            " 45  state_NH                    555719 non-null  uint8  \n",
            " 46  state_NJ                    555719 non-null  uint8  \n",
            " 47  state_NM                    555719 non-null  uint8  \n",
            " 48  state_NV                    555719 non-null  uint8  \n",
            " 49  state_NY                    555719 non-null  uint8  \n",
            " 50  state_OH                    555719 non-null  uint8  \n",
            " 51  state_OK                    555719 non-null  uint8  \n",
            " 52  state_OR                    555719 non-null  uint8  \n",
            " 53  state_PA                    555719 non-null  uint8  \n",
            " 54  state_RI                    555719 non-null  uint8  \n",
            " 55  state_SC                    555719 non-null  uint8  \n",
            " 56  state_SD                    555719 non-null  uint8  \n",
            " 57  state_TN                    555719 non-null  uint8  \n",
            " 58  state_TX                    555719 non-null  uint8  \n",
            " 59  state_UT                    555719 non-null  uint8  \n",
            " 60  state_VA                    555719 non-null  uint8  \n",
            " 61  state_VT                    555719 non-null  uint8  \n",
            " 62  state_WA                    555719 non-null  uint8  \n",
            " 63  state_WI                    555719 non-null  uint8  \n",
            " 64  state_WV                    555719 non-null  uint8  \n",
            " 65  state_WY                    555719 non-null  uint8  \n",
            " 66  age_cat_teenager            555719 non-null  uint8  \n",
            " 67  age_cat_working population  555719 non-null  uint8  \n",
            " 68  trans_month_December        555719 non-null  uint8  \n",
            " 69  trans_month_July            555719 non-null  uint8  \n",
            " 70  trans_month_June            555719 non-null  uint8  \n",
            " 71  trans_month_November        555719 non-null  uint8  \n",
            " 72  trans_month_October         555719 non-null  uint8  \n",
            " 73  trans_month_September       555719 non-null  uint8  \n",
            "dtypes: float64(1), int64(3), uint8(70)\n",
            "memory usage: 54.1 MB\n"
          ]
        }
      ]
    },
    {
      "cell_type": "code",
      "metadata": {
        "id": "WKE_gdBKnQR7"
      },
      "source": [
        "from sklearn.preprocessing import StandardScaler"
      ],
      "execution_count": null,
      "outputs": []
    },
    {
      "cell_type": "code",
      "metadata": {
        "id": "afEVqrhsnQR8"
      },
      "source": [
        "scaler = StandardScaler()"
      ],
      "execution_count": null,
      "outputs": []
    },
    {
      "cell_type": "code",
      "metadata": {
        "id": "amO_59CdnQR9"
      },
      "source": [
        "X_col=['amt','city_pop']"
      ],
      "execution_count": null,
      "outputs": []
    },
    {
      "cell_type": "code",
      "metadata": {
        "id": "nfPMQYQNnQR9"
      },
      "source": [
        "df_train[X_col]=scaler.fit_transform(df_train[X_col])\n",
        "df_test[X_col]=scaler.transform(df_test[X_col])"
      ],
      "execution_count": null,
      "outputs": []
    },
    {
      "cell_type": "code",
      "metadata": {
        "id": "eszcpu6bnQR-"
      },
      "source": [
        "X_train = df_train.drop(['is_fraud'],axis=1)\n",
        "y_train = df_train['is_fraud']\n",
        "\n",
        "X_test = df_test.drop(['is_fraud'],axis=1)\n",
        "y_test = df_test['is_fraud']"
      ],
      "execution_count": null,
      "outputs": []
    },
    {
      "cell_type": "code",
      "metadata": {
        "id": "pGfTRMGJnQR_"
      },
      "source": [
        "# treating imbalnced data"
      ],
      "execution_count": null,
      "outputs": []
    },
    {
      "cell_type": "markdown",
      "metadata": {
        "id": "-rgiWLZynQR_"
      },
      "source": [
        "### Using ADASYN"
      ]
    },
    {
      "cell_type": "code",
      "metadata": {
        "colab": {
          "base_uri": "https://localhost:8080/"
        },
        "id": "vtWVPoGjnQSA",
        "outputId": "b6c8e5f5-bc54-45ff-b08c-0c381e84fa81"
      },
      "source": [
        "\n",
        "# Using ADASYN to oversample\n",
        "\n",
        "from imblearn.over_sampling import ADASYN\n",
        "X_train_res, y_train_res = ADASYN().fit_resample(X_train, y_train)\n",
        "\n",
        "from collections import Counter\n",
        "print(sorted(Counter(y_train_res).items()))"
      ],
      "execution_count": null,
      "outputs": [
        {
          "name": "stdout",
          "output_type": "stream",
          "text": [
            "[(0, 1289169), (1, 1288968)]\n"
          ]
        }
      ]
    },
    {
      "cell_type": "markdown",
      "metadata": {
        "id": "UPoz0WihnQSC"
      },
      "source": [
        "# MODEL BUILDING"
      ]
    },
    {
      "cell_type": "markdown",
      "metadata": {
        "id": "p5mOntAsnQSD"
      },
      "source": [
        "## Using Logistic Reason"
      ]
    },
    {
      "cell_type": "code",
      "metadata": {
        "id": "p2KwFG8enQSG"
      },
      "source": [
        "from sklearn.linear_model import LogisticRegression\n",
        "logreg = LogisticRegression(random_state=42)"
      ],
      "execution_count": null,
      "outputs": []
    },
    {
      "cell_type": "code",
      "metadata": {
        "colab": {
          "base_uri": "https://localhost:8080/"
        },
        "id": "QDBkB9Gsivv9",
        "outputId": "ddbf20d4-0cc3-4f05-ed45-87ed292277a4"
      },
      "source": [
        "#Building Logistic Regression  Model\n",
        "logreg.fit(X_train_res, y_train_res)"
      ],
      "execution_count": null,
      "outputs": [
        {
          "data": {
            "text/plain": [
              "LogisticRegression(C=1.0, class_weight=None, dual=False, fit_intercept=True,\n",
              "                   intercept_scaling=1, l1_ratio=None, max_iter=100,\n",
              "                   multi_class='auto', n_jobs=None, penalty='l2',\n",
              "                   random_state=42, solver='lbfgs', tol=0.0001, verbose=0,\n",
              "                   warm_start=False)"
            ]
          },
          "execution_count": 64,
          "metadata": {},
          "output_type": "execute_result"
        }
      ]
    },
    {
      "cell_type": "code",
      "metadata": {
        "id": "qoxo9M69izAL"
      },
      "source": [
        "#Model Evaluation\n",
        "y_train_pred = logreg.predict(X_train)\n",
        "y_test_pred = logreg.predict(X_test)"
      ],
      "execution_count": null,
      "outputs": []
    },
    {
      "cell_type": "code",
      "metadata": {
        "id": "T7FRaoECjTN6"
      },
      "source": [
        "y_train_pred = logreg.predict(X_train_res)\n",
        "y_test_pred = logreg.predict(X_test)"
      ],
      "execution_count": null,
      "outputs": []
    },
    {
      "cell_type": "code",
      "metadata": {
        "colab": {
          "base_uri": "https://localhost:8080/"
        },
        "id": "c6dPVNW-jG6Q",
        "outputId": "2c9932a0-5856-4820-af3e-c66f9e81b794"
      },
      "source": [
        "print(confusion_matrix(y_train_res, y_train_pred))\n",
        "print(classification_report(y_train_res, y_train_pred))"
      ],
      "execution_count": null,
      "outputs": [
        {
          "name": "stdout",
          "output_type": "stream",
          "text": [
            "[[998149 291020]\n",
            " [380330 908638]]\n",
            "              precision    recall  f1-score   support\n",
            "\n",
            "           0       0.72      0.77      0.75   1289169\n",
            "           1       0.76      0.70      0.73   1288968\n",
            "\n",
            "    accuracy                           0.74   2578137\n",
            "   macro avg       0.74      0.74      0.74   2578137\n",
            "weighted avg       0.74      0.74      0.74   2578137\n",
            "\n"
          ]
        }
      ]
    },
    {
      "cell_type": "code",
      "metadata": {
        "colab": {
          "base_uri": "https://localhost:8080/"
        },
        "id": "GP512HHuj-RX",
        "outputId": "6d338ea2-bd36-4d35-ba88-6135ff01f889"
      },
      "source": [
        "print(confusion_matrix(y_test, y_test_pred))\n",
        "print(classification_report(y_test, y_test_pred))"
      ],
      "execution_count": null,
      "outputs": [
        {
          "name": "stdout",
          "output_type": "stream",
          "text": [
            "[[455241  98333]\n",
            " [   497   1648]]\n",
            "              precision    recall  f1-score   support\n",
            "\n",
            "           0       1.00      0.82      0.90    553574\n",
            "           1       0.02      0.77      0.03      2145\n",
            "\n",
            "    accuracy                           0.82    555719\n",
            "   macro avg       0.51      0.80      0.47    555719\n",
            "weighted avg       1.00      0.82      0.90    555719\n",
            "\n"
          ]
        }
      ]
    },
    {
      "cell_type": "markdown",
      "metadata": {
        "id": "KrL-ZyxbkrYM"
      },
      "source": [
        "**Building a Decision Tree Model**"
      ]
    },
    {
      "cell_type": "code",
      "metadata": {
        "colab": {
          "base_uri": "https://localhost:8080/"
        },
        "id": "hYOLX2aHk6sg",
        "outputId": "c58cb590-b01d-4d28-ee06-c0a16c112547"
      },
      "source": [
        "#Building Decision Tree Model\n",
        "from sklearn.tree import DecisionTreeClassifier\n",
        "dt_clf = DecisionTreeClassifier(criterion = 'gini', max_depth = 20, random_state=0)\n",
        "dt_clf.fit(X_train_res, y_train_res)"
      ],
      "execution_count": null,
      "outputs": [
        {
          "data": {
            "text/plain": [
              "DecisionTreeClassifier(ccp_alpha=0.0, class_weight=None, criterion='gini',\n",
              "                       max_depth=20, max_features=None, max_leaf_nodes=None,\n",
              "                       min_impurity_decrease=0.0, min_impurity_split=None,\n",
              "                       min_samples_leaf=1, min_samples_split=2,\n",
              "                       min_weight_fraction_leaf=0.0, presort='deprecated',\n",
              "                       random_state=0, splitter='best')"
            ]
          },
          "execution_count": 69,
          "metadata": {},
          "output_type": "execute_result"
        }
      ]
    },
    {
      "cell_type": "code",
      "metadata": {
        "colab": {
          "base_uri": "https://localhost:8080/"
        },
        "id": "rOAgusV6lpjO",
        "outputId": "7034f2ab-a476-4c20-c376-052953d064eb"
      },
      "source": [
        "#Model Evaluation\n",
        "print(\"Train Results\")\n",
        "pred_train = dt_clf.predict(X_train_res)\n",
        "\n",
        "print(confusion_matrix(y_train_res, pred_train))\n",
        "print(classification_report(y_train_res, pred_train))"
      ],
      "execution_count": null,
      "outputs": [
        {
          "name": "stdout",
          "output_type": "stream",
          "text": [
            "Train Results\n",
            "[[1261602   27567]\n",
            " [   3343 1285625]]\n",
            "              precision    recall  f1-score   support\n",
            "\n",
            "           0       1.00      0.98      0.99   1289169\n",
            "           1       0.98      1.00      0.99   1288968\n",
            "\n",
            "    accuracy                           0.99   2578137\n",
            "   macro avg       0.99      0.99      0.99   2578137\n",
            "weighted avg       0.99      0.99      0.99   2578137\n",
            "\n"
          ]
        }
      ]
    },
    {
      "cell_type": "code",
      "metadata": {
        "colab": {
          "base_uri": "https://localhost:8080/"
        },
        "id": "jrexMBY7l26f",
        "outputId": "2c8696d9-8429-4f8e-cf72-c643670f0b0b"
      },
      "source": [
        "print(\"Test Results\")\n",
        "pred_test = dt_clf.predict(X_test)\n",
        "\n",
        "print(confusion_matrix(y_test, pred_test))\n",
        "print(classification_report(y_test, pred_test))"
      ],
      "execution_count": null,
      "outputs": [
        {
          "name": "stdout",
          "output_type": "stream",
          "text": [
            "Test Results\n",
            "[[542678  10896]\n",
            " [   363   1782]]\n",
            "              precision    recall  f1-score   support\n",
            "\n",
            "           0       1.00      0.98      0.99    553574\n",
            "           1       0.14      0.83      0.24      2145\n",
            "\n",
            "    accuracy                           0.98    555719\n",
            "   macro avg       0.57      0.91      0.62    555719\n",
            "weighted avg       1.00      0.98      0.99    555719\n",
            "\n"
          ]
        }
      ]
    },
    {
      "cell_type": "code",
      "metadata": {
        "colab": {
          "base_uri": "https://localhost:8080/",
          "height": 278
        },
        "id": "-PDF7MmRl7kR",
        "outputId": "942ddb43-a3f8-49ec-8c8b-3ed753476ee7"
      },
      "source": [
        "from sklearn.metrics import plot_roc_curve\n",
        "plot_roc_curve(dt_clf, X_train_res, y_train_res, drop_intermediate=False)\n",
        "plt.show()"
      ],
      "execution_count": null,
      "outputs": [
        {
          "data": {
            "image/png": "[encoded data removed]",
            "text/plain": [
              "<Figure size 432x288 with 1 Axes>"
            ]
          },
          "metadata": {},
          "output_type": "display_data"
        }
      ]
    },
    {
      "cell_type": "markdown",
      "metadata": {
        "id": "3U3f9w4hN2pQ"
      },
      "source": [
        "**Building a Random Forest Model**"
      ]
    },
    {
      "cell_type": "code",
      "metadata": {
        "id": "ykljMhMfnQSK"
      },
      "source": [
        "# Importing required library\n",
        "\n",
        "from sklearn.ensemble import RandomForestClassifier\n",
        "from sklearn.metrics import plot_roc_curve\n",
        "from sklearn.model_selection import GridSearchCV"
      ],
      "execution_count": null,
      "outputs": []
    },
    {
      "cell_type": "code",
      "metadata": {
        "id": "SYjMBXcdN-Xj"
      },
      "source": [
        "rf = RandomForestClassifier(n_estimators=10, max_depth=5, max_features=12, min_samples_leaf=100, random_state=100, oob_score=True)"
      ],
      "execution_count": null,
      "outputs": []
    },
    {
      "cell_type": "code",
      "metadata": {
        "colab": {
          "base_uri": "https://localhost:8080/"
        },
        "id": "4nb6Y2DBOEgi",
        "outputId": "ba5205cd-e22a-45b1-ee6f-d0e415da8158"
      },
      "source": [
        "rf.fit(X_train_res, y_train_res)"
      ],
      "execution_count": null,
      "outputs": [
        {
          "data": {
            "text/plain": [
              "RandomForestClassifier(bootstrap=True, ccp_alpha=0.0, class_weight=None,\n",
              "                       criterion='gini', max_depth=5, max_features=12,\n",
              "                       max_leaf_nodes=None, max_samples=None,\n",
              "                       min_impurity_decrease=0.0, min_impurity_split=None,\n",
              "                       min_samples_leaf=100, min_samples_split=2,\n",
              "                       min_weight_fraction_leaf=0.0, n_estimators=10,\n",
              "                       n_jobs=None, oob_score=True, random_state=100, verbose=0,\n",
              "                       warm_start=False)"
            ]
          },
          "execution_count": 75,
          "metadata": {},
          "output_type": "execute_result"
        }
      ]
    },
    {
      "cell_type": "code",
      "metadata": {
        "colab": {
          "base_uri": "https://localhost:8080/"
        },
        "id": "RGHevkpUO3z1",
        "outputId": "14aa2dcc-a776-42b7-ead6-7e93d50acc64"
      },
      "source": [
        "rf.oob_score_"
      ],
      "execution_count": null,
      "outputs": [
        {
          "data": {
            "text/plain": [
              "0.7904238603301531"
            ]
          },
          "execution_count": 76,
          "metadata": {},
          "output_type": "execute_result"
        }
      ]
    },
    {
      "cell_type": "code",
      "metadata": {
        "colab": {
          "base_uri": "https://localhost:8080/",
          "height": 278
        },
        "id": "ZvAUxsW3O4EB",
        "outputId": "6a1bdcba-9b8a-4703-b9de-677dbf223671"
      },
      "source": [
        "plot_roc_curve(rf, X_train_res, y_train_res)\n",
        "plt.show()"
      ],
      "execution_count": null,
      "outputs": [
        {
          "data": {
            "image/png": "[encoded data removed]",
            "text/plain": [
              "<Figure size 432x288 with 1 Axes>"
            ]
          },
          "metadata": {},
          "output_type": "display_data"
        }
      ]
    },
    {
      "cell_type": "code",
      "metadata": {
        "colab": {
          "base_uri": "https://localhost:8080/"
        },
        "id": "iiQUZBd3X6W5",
        "outputId": "494a5a48-1c80-4863-9f5b-542bc74006f5"
      },
      "source": [
        "(rf.feature_importances_)"
      ],
      "execution_count": null,
      "outputs": [
        {
          "data": {
            "text/plain": [
              "array([5.26674974e-01, 7.45619113e-02, 4.48996053e-02, 7.23791658e-03,\n",
              "       9.97221523e-03, 2.51673070e-03, 9.75767778e-05, 1.47155662e-02,\n",
              "       4.92228853e-02, 1.03167512e-02, 3.07110609e-02, 3.17682040e-03,\n",
              "       5.69663511e-04, 1.18138554e-02, 7.11737559e-03, 1.60610460e-03,\n",
              "       2.31996762e-03, 1.47585209e-07, 1.62612208e-03, 2.11115854e-04,\n",
              "       3.04017720e-07, 3.90643800e-03, 5.46949182e-05, 0.00000000e+00,\n",
              "       2.70911980e-03, 3.02649354e-05, 0.00000000e+00, 0.00000000e+00,\n",
              "       3.57283115e-03, 1.59913677e-03, 2.70762344e-03, 6.37711355e-05,\n",
              "       1.34050256e-03, 0.00000000e+00, 1.46408751e-03, 1.33634006e-06,\n",
              "       3.30331620e-03, 4.99584197e-04, 1.91497267e-03, 0.00000000e+00,\n",
              "       5.85972499e-04, 0.00000000e+00, 0.00000000e+00, 1.23859956e-03,\n",
              "       0.00000000e+00, 0.00000000e+00, 6.20740067e-07, 0.00000000e+00,\n",
              "       7.90878746e-06, 3.62553807e-06, 5.35508367e-03, 0.00000000e+00,\n",
              "       3.81082703e-03, 0.00000000e+00, 2.54071371e-03, 0.00000000e+00,\n",
              "       2.20557769e-03, 8.04151173e-08, 1.43549884e-03, 2.67308959e-06,\n",
              "       0.00000000e+00, 0.00000000e+00, 0.00000000e+00, 2.90351613e-03,\n",
              "       1.22762864e-03, 1.14459917e-03, 2.35316191e-02, 4.90093825e-02,\n",
              "       1.51915889e-02, 6.02293375e-02, 0.00000000e+00, 3.62105567e-03,\n",
              "       3.41774095e-03])"
            ]
          },
          "execution_count": 78,
          "metadata": {},
          "output_type": "execute_result"
        }
      ]
    },
    {
      "cell_type": "code",
      "metadata": {
        "id": "PUB3LdCAO4Id"
      },
      "source": [
        "\n",
        "imp_df = pd.DataFrame({\n",
        "    \"Varname\": pd.DataFrame(X_train).columns,\n",
        "    \"Imp\": rf.feature_importances_\n",
        "})"
      ],
      "execution_count": null,
      "outputs": []
    },
    {
      "cell_type": "code",
      "metadata": {
        "colab": {
          "base_uri": "https://localhost:8080/",
          "height": 424
        },
        "id": "MNfpzEg7O4R5",
        "outputId": "0b6fbfd0-00fd-4ee3-a3e9-733561623990"
      },
      "source": [
        "imp_df.sort_values(by=\"Imp\", ascending=False)"
      ],
      "execution_count": null,
      "outputs": [
        {
          "data": {
            "text/html": [
              "<div>\n",
              "<style scoped>\n",
              "    .dataframe tbody tr th:only-of-type {\n",
              "        vertical-align: middle;\n",
              "    }\n",
              "\n",
              "    .dataframe tbody tr th {\n",
              "        vertical-align: top;\n",
              "    }\n",
              "\n",
              "    .dataframe thead th {\n",
              "        text-align: right;\n",
              "    }\n",
              "</style>\n",
              "<table border=\"1\" class=\"dataframe\">\n",
              "  <thead>\n",
              "    <tr style=\"text-align: right;\">\n",
              "      <th></th>\n",
              "      <th>Varname</th>\n",
              "      <th>Imp</th>\n",
              "    </tr>\n",
              "  </thead>\n",
              "  <tbody>\n",
              "    <tr>\n",
              "      <th>0</th>\n",
              "      <td>amt</td>\n",
              "      <td>0.526675</td>\n",
              "    </tr>\n",
              "    <tr>\n",
              "      <th>1</th>\n",
              "      <td>gender</td>\n",
              "      <td>0.074562</td>\n",
              "    </tr>\n",
              "    <tr>\n",
              "      <th>69</th>\n",
              "      <td>trans_month_June</td>\n",
              "      <td>0.060229</td>\n",
              "    </tr>\n",
              "    <tr>\n",
              "      <th>8</th>\n",
              "      <td>category_home</td>\n",
              "      <td>0.049223</td>\n",
              "    </tr>\n",
              "    <tr>\n",
              "      <th>67</th>\n",
              "      <td>trans_month_December</td>\n",
              "      <td>0.049009</td>\n",
              "    </tr>\n",
              "    <tr>\n",
              "      <th>...</th>\n",
              "      <td>...</td>\n",
              "      <td>...</td>\n",
              "    </tr>\n",
              "    <tr>\n",
              "      <th>61</th>\n",
              "      <td>state_WA</td>\n",
              "      <td>0.000000</td>\n",
              "    </tr>\n",
              "    <tr>\n",
              "      <th>60</th>\n",
              "      <td>state_VT</td>\n",
              "      <td>0.000000</td>\n",
              "    </tr>\n",
              "    <tr>\n",
              "      <th>45</th>\n",
              "      <td>state_NJ</td>\n",
              "      <td>0.000000</td>\n",
              "    </tr>\n",
              "    <tr>\n",
              "      <th>51</th>\n",
              "      <td>state_OR</td>\n",
              "      <td>0.000000</td>\n",
              "    </tr>\n",
              "    <tr>\n",
              "      <th>47</th>\n",
              "      <td>state_NV</td>\n",
              "      <td>0.000000</td>\n",
              "    </tr>\n",
              "  </tbody>\n",
              "</table>\n",
              "<p>73 rows × 2 columns</p>\n",
              "</div>"
            ],
            "text/plain": [
              "                 Varname       Imp\n",
              "0                    amt  0.526675\n",
              "1                 gender  0.074562\n",
              "69      trans_month_June  0.060229\n",
              "8          category_home  0.049223\n",
              "67  trans_month_December  0.049009\n",
              "..                   ...       ...\n",
              "61              state_WA  0.000000\n",
              "60              state_VT  0.000000\n",
              "45              state_NJ  0.000000\n",
              "51              state_OR  0.000000\n",
              "47              state_NV  0.000000\n",
              "\n",
              "[73 rows x 2 columns]"
            ]
          },
          "execution_count": 80,
          "metadata": {},
          "output_type": "execute_result"
        }
      ]
    },
    {
      "cell_type": "code",
      "metadata": {
        "colab": {
          "base_uri": "https://localhost:8080/"
        },
        "id": "BDiEv8yCO4pj",
        "outputId": "03897fb1-823a-4837-f651-5e1e7df63351"
      },
      "source": [
        "y_train_pred = rf.predict(X_train_res)\n",
        "y_train_pred[:10]"
      ],
      "execution_count": null,
      "outputs": [
        {
          "data": {
            "text/plain": [
              "array([0, 0, 0, 0, 0, 0, 0, 0, 1, 0])"
            ]
          },
          "execution_count": 81,
          "metadata": {},
          "output_type": "execute_result"
        }
      ]
    },
    {
      "cell_type": "code",
      "metadata": {
        "colab": {
          "base_uri": "https://localhost:8080/"
        },
        "id": "r68wESdwO4t2",
        "outputId": "232647c2-d1ba-4c72-a9b1-011c45ebceab"
      },
      "source": [
        "from sklearn.metrics import classification_report\n",
        "print(classification_report(y_train_res, y_train_pred))"
      ],
      "execution_count": null,
      "outputs": [
        {
          "name": "stdout",
          "output_type": "stream",
          "text": [
            "              precision    recall  f1-score   support\n",
            "\n",
            "           0       0.81      0.93      0.87   1289169\n",
            "           1       0.92      0.78      0.85   1288968\n",
            "\n",
            "    accuracy                           0.86   2578137\n",
            "   macro avg       0.87      0.86      0.86   2578137\n",
            "weighted avg       0.87      0.86      0.86   2578137\n",
            "\n"
          ]
        }
      ]
    },
    {
      "cell_type": "markdown",
      "metadata": {
        "id": "8zi7Xeu_idps"
      },
      "source": [
        "**Hyperparameter** **tuning**\n"
      ]
    },
    {
      "cell_type": "code",
      "metadata": {
        "id": "uj1M_XRDicTJ"
      },
      "source": [
        "from sklearn.model_selection import RandomizedSearchCV"
      ],
      "execution_count": null,
      "outputs": []
    },
    {
      "cell_type": "code",
      "metadata": {
        "id": "EmPbbMH5inmz"
      },
      "source": [
        "hyper_params = {'max_depth': range(2,10,3),\n",
        "                'max_features': range(2,11),\n",
        "                'min_samples_leaf': range(15,100,30),\n",
        "                'n_estimators': range(9,50,6)}"
      ],
      "execution_count": null,
      "outputs": []
    },
    {
      "cell_type": "code",
      "metadata": {
        "id": "NUB_Gi6Pinp6"
      },
      "source": [
        "model_rcv = RandomizedSearchCV(estimator=rf, \n",
        "                              param_distributions=hyper_params,\n",
        "                              verbose=1,\n",
        "                              cv=2,\n",
        "                              return_train_score=True,\n",
        "                              n_jobs=-1,\n",
        "                              n_iter=10)"
      ],
      "execution_count": null,
      "outputs": []
    },
    {
      "cell_type": "code",
      "metadata": {
        "colab": {
          "background_save": true,
          "base_uri": "https://localhost:8080/"
        },
        "id": "1D2h376linur",
        "outputId": "8d93c58d-0acf-4a9e-b740-364a41f93c4e"
      },
      "source": [
        "%%time\n",
        "model_rcv.fit(X_train_res, y_train_res)"
      ],
      "execution_count": null,
      "outputs": [
        {
          "name": "stdout",
          "output_type": "stream",
          "text": [
            "Fitting 2 folds for each of 10 candidates, totalling 20 fits\n"
          ]
        },
        {
          "name": "stderr",
          "output_type": "stream",
          "text": [
            "[Parallel(n_jobs=-1)]: Using backend LokyBackend with 2 concurrent workers.\n",
            "[Parallel(n_jobs=-1)]: Done  20 out of  20 | elapsed:  8.5min finished\n"
          ]
        },
        {
          "name": "stdout",
          "output_type": "stream",
          "text": [
            "CPU times: user 2min 54s, sys: 2.38 s, total: 2min 57s\n",
            "Wall time: 11min 24s\n"
          ]
        },
        {
          "data": {
            "text/plain": [
              "RandomizedSearchCV(cv=2, error_score=nan,\n",
              "                   estimator=RandomForestClassifier(bootstrap=True,\n",
              "                                                    ccp_alpha=0.0,\n",
              "                                                    class_weight=None,\n",
              "                                                    criterion='gini',\n",
              "                                                    max_depth=5,\n",
              "                                                    max_features=12,\n",
              "                                                    max_leaf_nodes=None,\n",
              "                                                    max_samples=None,\n",
              "                                                    min_impurity_decrease=0.0,\n",
              "                                                    min_impurity_split=None,\n",
              "                                                    min_samples_leaf=100,\n",
              "                                                    min_samples_split=2,\n",
              "                                                    min_weight_fraction_leaf=0.0,\n",
              "                                                    n_estimators=10,\n",
              "                                                    n_jobs=None, oob_score=True,\n",
              "                                                    random_state=100, verbose=0,\n",
              "                                                    warm_start=False),\n",
              "                   iid='deprecated', n_iter=10, n_jobs=-1,\n",
              "                   param_distributions={'max_depth': range(2, 10, 3),\n",
              "                                        'max_features': range(2, 11),\n",
              "                                        'min_samples_leaf': range(15, 100, 30),\n",
              "                                        'n_estimators': range(9, 50, 6)},\n",
              "                   pre_dispatch='2*n_jobs', random_state=None, refit=True,\n",
              "                   return_train_score=True, scoring=None, verbose=1)"
            ]
          },
          "execution_count": null,
          "metadata": {},
          "output_type": "execute_result"
        }
      ]
    },
    {
      "cell_type": "code",
      "metadata": {
        "colab": {
          "background_save": true
        },
        "id": "vAQMggqtekh7",
        "outputId": "3487e8d7-024f-4bcf-88c5-1005147e3f67"
      },
      "source": [
        "model_rcv.best_score_"
      ],
      "execution_count": null,
      "outputs": [
        {
          "data": {
            "text/plain": [
              "0.86396649822208"
            ]
          },
          "execution_count": null,
          "metadata": {},
          "output_type": "execute_result"
        }
      ]
    },
    {
      "cell_type": "code",
      "metadata": {
        "colab": {
          "background_save": true
        },
        "id": "L7QBkrGPepzr",
        "outputId": "82953798-685d-4e5e-9526-8df7e16e7d8c"
      },
      "source": [
        "rf_best = model_rcv.best_estimator_\n",
        "rf_best"
      ],
      "execution_count": null,
      "outputs": [
        {
          "data": {
            "text/plain": [
              "RandomForestClassifier(bootstrap=True, ccp_alpha=0.0, class_weight=None,\n",
              "                       criterion='gini', max_depth=8, max_features=8,\n",
              "                       max_leaf_nodes=None, max_samples=None,\n",
              "                       min_impurity_decrease=0.0, min_impurity_split=None,\n",
              "                       min_samples_leaf=45, min_samples_split=2,\n",
              "                       min_weight_fraction_leaf=0.0, n_estimators=33,\n",
              "                       n_jobs=None, oob_score=True, random_state=100, verbose=0,\n",
              "                       warm_start=False)"
            ]
          },
          "execution_count": null,
          "metadata": {},
          "output_type": "execute_result"
        }
      ]
    },
    {
      "cell_type": "code",
      "metadata": {
        "colab": {
          "background_save": true
        },
        "id": "wQLPAxFher-z",
        "outputId": "6f508c82-c0a8-41e0-d828-f2caecdd6057"
      },
      "source": [
        "plot_roc_curve(rf_best, X_train, y_train)\n",
        "plt.show()"
      ],
      "execution_count": null,
      "outputs": [
        {
          "data": {
            "image/png": "[encoded data removed]",
            "text/plain": [
              "<Figure size 432x288 with 1 Axes>"
            ]
          },
          "metadata": {},
          "output_type": "display_data"
        }
      ]
    },
    {
      "cell_type": "code",
      "metadata": {
        "colab": {
          "background_save": true
        },
        "id": "cW5utMj6e0rw",
        "outputId": "8c6e49ca-2850-4840-9643-b769246b5346"
      },
      "source": [
        "plot_roc_curve(rf_best,X_train_res, y_train_res)\n",
        "plt.show()\n",
        "\n"
      ],
      "execution_count": null,
      "outputs": [
        {
          "data": {
            "image/png": "[encoded data removed]",
            "text/plain": [
              "<Figure size 432x288 with 1 Axes>"
            ]
          },
          "metadata": {},
          "output_type": "display_data"
        }
      ]
    },
    {
      "cell_type": "markdown",
      "metadata": {
        "id": "-UtdcHzfutkb"
      },
      "source": [
        "**Predicting on test set**"
      ]
    },
    {
      "cell_type": "code",
      "metadata": {
        "colab": {
          "background_save": true
        },
        "id": "zInXzVsKfBX3",
        "outputId": "51d396bf-aa2b-4bed-bc21-08d64e8aaae0"
      },
      "source": [
        "y_test_pred = rf_best.predict(X_test)\n",
        "y_test_pred[:10]"
      ],
      "execution_count": null,
      "outputs": [
        {
          "data": {
            "text/plain": [
              "array([0, 0, 0, 0, 0, 0, 0, 0, 0, 0])"
            ]
          },
          "execution_count": null,
          "metadata": {},
          "output_type": "execute_result"
        }
      ]
    },
    {
      "cell_type": "code",
      "metadata": {
        "colab": {
          "background_save": true
        },
        "id": "443dbQq4O4x7",
        "outputId": "889b3939-c4ea-405d-e8c9-e6eb93914b42"
      },
      "source": [
        "y_test_pred = rf.predict(X_test)\n",
        "y_test_pred[:10]"
      ],
      "execution_count": null,
      "outputs": [
        {
          "data": {
            "text/plain": [
              "array([0, 0, 0, 0, 0, 0, 0, 0, 0, 0])"
            ]
          },
          "execution_count": null,
          "metadata": {},
          "output_type": "execute_result"
        }
      ]
    },
    {
      "cell_type": "code",
      "metadata": {
        "colab": {
          "background_save": true
        },
        "id": "0Rz_FsZ9X-hl",
        "outputId": "919b0b93-02cf-42dd-ce9e-e3103e7395fb"
      },
      "source": [
        "\n",
        "print ('Accuracy: ', accuracy_score(y_test, y_test_pred))\n",
        "print ('F1 score: ', f1_score(y_test, y_test_pred))\n",
        "print ('Recall: ', recall_score(y_test, y_test_pred))\n",
        "print ('Precision: ', precision_score(y_test, y_test_pred))\n",
        "print ('ROC_AUC_SCORE: ', roc_auc_score(y_test, y_test_pred))\n",
        "print ('\\n clasification report:\\n', classification_report(y_test,y_test_pred))\n",
        "print ('\\n confussion matrix:\\n',confusion_matrix(y_test, y_test_pred))"
      ],
      "execution_count": null,
      "outputs": [
        {
          "name": "stdout",
          "output_type": "stream",
          "text": [
            "Accuracy:  0.9440184697661947\n",
            "F1 score:  0.10154219372725698\n",
            "Recall:  0.8195804195804196\n",
            "Precision:  0.054123949385794776\n",
            "ROC_AUC_SCORE:  0.8820405322403249\n",
            "\n",
            " clasification report:\n",
            "               precision    recall  f1-score   support\n",
            "\n",
            "           0       1.00      0.94      0.97    553574\n",
            "           1       0.05      0.82      0.10      2145\n",
            "\n",
            "    accuracy                           0.94    555719\n",
            "   macro avg       0.53      0.88      0.54    555719\n",
            "weighted avg       1.00      0.94      0.97    555719\n",
            "\n",
            "\n",
            " confussion matrix:\n",
            " [[522851  30723]\n",
            " [   387   1758]]\n"
          ]
        }
      ]
    },
    {
      "cell_type": "code",
      "metadata": {
        "colab": {
          "background_save": true
        },
        "id": "oTsI4LuleYGX",
        "outputId": "2ea82360-aa7f-498e-db09-391cd03f5dd4"
      },
      "source": [
        "rf_best.feature_importances_"
      ],
      "execution_count": null,
      "outputs": [
        {
          "data": {
            "text/plain": [
              "array([6.40880905e-01, 6.67894555e-02, 1.82554280e-02, 7.77577740e-03,\n",
              "       1.55492788e-02, 4.45816914e-03, 1.28774337e-02, 6.36878380e-03,\n",
              "       3.11882937e-02, 7.13815979e-03, 1.77730391e-02, 4.93631821e-03,\n",
              "       5.81832882e-03, 1.21469805e-02, 1.53419400e-02, 4.49995832e-03,\n",
              "       9.55535264e-04, 3.73583879e-04, 1.99216529e-04, 5.43553657e-04,\n",
              "       1.58706552e-03, 3.75814865e-05, 1.51695767e-04, 1.15711692e-04,\n",
              "       6.40457407e-04, 2.29760089e-04, 4.43160903e-05, 1.41634955e-04,\n",
              "       1.10148860e-03, 9.17884240e-04, 9.60961849e-04, 9.02869916e-04,\n",
              "       1.01788874e-04, 1.70044513e-04, 1.35142498e-03, 3.68897953e-04,\n",
              "       3.46174073e-04, 2.31277732e-04, 1.24425159e-03, 5.20297907e-04,\n",
              "       2.19132206e-04, 1.40411590e-04, 1.22874881e-03, 5.44781057e-04,\n",
              "       5.80766020e-05, 2.70171384e-05, 1.62849667e-04, 3.20671110e-04,\n",
              "       1.23382104e-03, 2.03919950e-03, 2.72607764e-03, 2.62514443e-04,\n",
              "       1.18847504e-03, 9.45986350e-05, 2.42467428e-04, 3.59455838e-05,\n",
              "       1.36850594e-03, 1.14630831e-04, 6.44545385e-04, 9.80775870e-05,\n",
              "       6.78748804e-04, 4.27874502e-04, 3.31688961e-04, 4.97233468e-03,\n",
              "       2.66925538e-04, 6.55695861e-04, 1.09553425e-02, 3.57323787e-02,\n",
              "       1.34773466e-02, 1.96376292e-02, 5.01827032e-03, 4.21167313e-03,\n",
              "       5.84781940e-03])"
            ]
          },
          "execution_count": null,
          "metadata": {},
          "output_type": "execute_result"
        }
      ]
    },
    {
      "cell_type": "code",
      "metadata": {
        "colab": {
          "background_save": true
        },
        "id": "kyd-GntMSuZ9"
      },
      "source": [
        "\n",
        "imp_df = pd.DataFrame({\n",
        "    \"Varname\": X_train.columns,\n",
        "    \"Imp\": rf_best.feature_importances_\n",
        "})"
      ],
      "execution_count": null,
      "outputs": []
    },
    {
      "cell_type": "code",
      "metadata": {
        "colab": {
          "background_save": true
        },
        "id": "g30xoS4uVFUP",
        "outputId": "8fff8119-4983-457b-980a-96d84792fe5d"
      },
      "source": [
        "imp_df.sort_values(by=\"Imp\", ascending=False).head(10)"
      ],
      "execution_count": null,
      "outputs": [
        {
          "data": {
            "text/html": [
              "<div>\n",
              "<style scoped>\n",
              "    .dataframe tbody tr th:only-of-type {\n",
              "        vertical-align: middle;\n",
              "    }\n",
              "\n",
              "    .dataframe tbody tr th {\n",
              "        vertical-align: top;\n",
              "    }\n",
              "\n",
              "    .dataframe thead th {\n",
              "        text-align: right;\n",
              "    }\n",
              "</style>\n",
              "<table border=\"1\" class=\"dataframe\">\n",
              "  <thead>\n",
              "    <tr style=\"text-align: right;\">\n",
              "      <th></th>\n",
              "      <th>Varname</th>\n",
              "      <th>Imp</th>\n",
              "    </tr>\n",
              "  </thead>\n",
              "  <tbody>\n",
              "    <tr>\n",
              "      <th>0</th>\n",
              "      <td>amt</td>\n",
              "      <td>0.640881</td>\n",
              "    </tr>\n",
              "    <tr>\n",
              "      <th>1</th>\n",
              "      <td>gender</td>\n",
              "      <td>0.066789</td>\n",
              "    </tr>\n",
              "    <tr>\n",
              "      <th>67</th>\n",
              "      <td>trans_month_December</td>\n",
              "      <td>0.035732</td>\n",
              "    </tr>\n",
              "    <tr>\n",
              "      <th>8</th>\n",
              "      <td>category_home</td>\n",
              "      <td>0.031188</td>\n",
              "    </tr>\n",
              "    <tr>\n",
              "      <th>69</th>\n",
              "      <td>trans_month_June</td>\n",
              "      <td>0.019638</td>\n",
              "    </tr>\n",
              "    <tr>\n",
              "      <th>2</th>\n",
              "      <td>city_pop</td>\n",
              "      <td>0.018255</td>\n",
              "    </tr>\n",
              "    <tr>\n",
              "      <th>10</th>\n",
              "      <td>category_misc_net</td>\n",
              "      <td>0.017773</td>\n",
              "    </tr>\n",
              "    <tr>\n",
              "      <th>4</th>\n",
              "      <td>category_gas_transport</td>\n",
              "      <td>0.015549</td>\n",
              "    </tr>\n",
              "    <tr>\n",
              "      <th>14</th>\n",
              "      <td>category_shopping_pos</td>\n",
              "      <td>0.015342</td>\n",
              "    </tr>\n",
              "    <tr>\n",
              "      <th>68</th>\n",
              "      <td>trans_month_July</td>\n",
              "      <td>0.013477</td>\n",
              "    </tr>\n",
              "  </tbody>\n",
              "</table>\n",
              "</div>"
            ],
            "text/plain": [
              "                   Varname       Imp\n",
              "0                      amt  0.640881\n",
              "1                   gender  0.066789\n",
              "67    trans_month_December  0.035732\n",
              "8            category_home  0.031188\n",
              "69        trans_month_June  0.019638\n",
              "2                 city_pop  0.018255\n",
              "10       category_misc_net  0.017773\n",
              "4   category_gas_transport  0.015549\n",
              "14   category_shopping_pos  0.015342\n",
              "68        trans_month_July  0.013477"
            ]
          },
          "execution_count": null,
          "metadata": {},
          "output_type": "execute_result"
        }
      ]
    },
    {
      "cell_type": "markdown",
      "metadata": {
        "id": "4gOxXTf9gwZp"
      },
      "source": [
        "Testing on original data without oversampling"
      ]
    },
    {
      "cell_type": "code",
      "metadata": {
        "colab": {
          "background_save": true
        },
        "id": "cExWGIUOg4Aq",
        "outputId": "2e5e7eb4-7d47-45d8-e2e2-2a1706b4de59"
      },
      "source": [
        "y_train_pred = rf.predict(X_train)\n",
        "y_test_pred = rf.predict(X_test)\n",
        "\n",
        "print(classification_report(y_train, y_train_pred))\n",
        "print(classification_report(y_test, y_test_pred))\n"
      ],
      "execution_count": null,
      "outputs": [
        {
          "name": "stdout",
          "output_type": "stream",
          "text": [
            "              precision    recall  f1-score   support\n",
            "\n",
            "           0       1.00      0.93      0.96   1289169\n",
            "           1       0.07      0.84      0.12      7506\n",
            "\n",
            "    accuracy                           0.93   1296675\n",
            "   macro avg       0.53      0.89      0.54   1296675\n",
            "weighted avg       0.99      0.93      0.96   1296675\n",
            "\n",
            "              precision    recall  f1-score   support\n",
            "\n",
            "           0       1.00      0.94      0.97    553574\n",
            "           1       0.05      0.82      0.10      2145\n",
            "\n",
            "    accuracy                           0.94    555719\n",
            "   macro avg       0.53      0.88      0.54    555719\n",
            "weighted avg       1.00      0.94      0.97    555719\n",
            "\n"
          ]
        }
      ]
    },
    {
      "cell_type": "code",
      "metadata": {
        "colab": {
          "background_save": true
        },
        "id": "4eeYiSxQnQJu"
      },
      "source": [
        ""
      ],
      "execution_count": null,
      "outputs": []
    },
    {
      "cell_type": "markdown",
      "metadata": {
        "id": "jntr_8UWn1V3"
      },
      "source": [
        "**TOP 10 IMPORTANT VARIABLES**"
      ]
    },
    {
      "cell_type": "markdown",
      "metadata": {
        "id": "nmkb3S2qnnx7"
      },
      "source": [
        "- amt\t\n",
        "- gender\n",
        "- category_gas_transport\n",
        "- trans_month_July\n",
        "- category_home\t\n",
        "- trans_month_December\n",
        "- category_misc_net\n",
        "- category_shopping_net\n",
        "- city_pop"
      ]
    },
    {
      "cell_type": "markdown",
      "metadata": {
        "id": "gnNF_esRx2tE"
      },
      "source": [
        "## Cost benefit Analysis\n",
        "\n",
        "\n"
      ]
    },
    {
      "cell_type": "code",
      "metadata": {
        "id": "gQMFa9bt0kUw"
      },
      "source": [
        "df_train1=pd.read_csv('/content/drive/MyDrive/Colab Notebooks/fraud detection case study/fraudTrain.csv')"
      ],
      "execution_count": 105,
      "outputs": []
    },
    {
      "cell_type": "code",
      "metadata": {
        "colab": {
          "base_uri": "https://localhost:8080/",
          "height": 206
        },
        "id": "T-wT62gpx1fM",
        "outputId": "390d4b47-7318-4af9-ce91-77bfe85e3267"
      },
      "source": [
        "df_train_merge = df_train1[['trans_date_trans_time','amt','trans_num','is_fraud']]\n",
        "df_train_merge.head()"
      ],
      "execution_count": 106,
      "outputs": [
        {
          "output_type": "execute_result",
          "data": {
            "text/html": [
              "<div>\n",
              "<style scoped>\n",
              "    .dataframe tbody tr th:only-of-type {\n",
              "        vertical-align: middle;\n",
              "    }\n",
              "\n",
              "    .dataframe tbody tr th {\n",
              "        vertical-align: top;\n",
              "    }\n",
              "\n",
              "    .dataframe thead th {\n",
              "        text-align: right;\n",
              "    }\n",
              "</style>\n",
              "<table border=\"1\" class=\"dataframe\">\n",
              "  <thead>\n",
              "    <tr style=\"text-align: right;\">\n",
              "      <th></th>\n",
              "      <th>trans_date_trans_time</th>\n",
              "      <th>amt</th>\n",
              "      <th>trans_num</th>\n",
              "      <th>is_fraud</th>\n",
              "    </tr>\n",
              "  </thead>\n",
              "  <tbody>\n",
              "    <tr>\n",
              "      <th>0</th>\n",
              "      <td>2019-01-01 00:00:18</td>\n",
              "      <td>4.97</td>\n",
              "      <td>0b242abb623afc578575680df30655b9</td>\n",
              "      <td>0</td>\n",
              "    </tr>\n",
              "    <tr>\n",
              "      <th>1</th>\n",
              "      <td>2019-01-01 00:00:44</td>\n",
              "      <td>107.23</td>\n",
              "      <td>1f76529f8574734946361c461b024d99</td>\n",
              "      <td>0</td>\n",
              "    </tr>\n",
              "    <tr>\n",
              "      <th>2</th>\n",
              "      <td>2019-01-01 00:00:51</td>\n",
              "      <td>220.11</td>\n",
              "      <td>a1a22d70485983eac12b5b88dad1cf95</td>\n",
              "      <td>0</td>\n",
              "    </tr>\n",
              "    <tr>\n",
              "      <th>3</th>\n",
              "      <td>2019-01-01 00:01:16</td>\n",
              "      <td>45.00</td>\n",
              "      <td>6b849c168bdad6f867558c3793159a81</td>\n",
              "      <td>0</td>\n",
              "    </tr>\n",
              "    <tr>\n",
              "      <th>4</th>\n",
              "      <td>2019-01-01 00:03:06</td>\n",
              "      <td>41.96</td>\n",
              "      <td>a41d7549acf90789359a9aa5346dcb46</td>\n",
              "      <td>0</td>\n",
              "    </tr>\n",
              "  </tbody>\n",
              "</table>\n",
              "</div>"
            ],
            "text/plain": [
              "  trans_date_trans_time     amt                         trans_num  is_fraud\n",
              "0   2019-01-01 00:00:18    4.97  0b242abb623afc578575680df30655b9         0\n",
              "1   2019-01-01 00:00:44  107.23  1f76529f8574734946361c461b024d99         0\n",
              "2   2019-01-01 00:00:51  220.11  a1a22d70485983eac12b5b88dad1cf95         0\n",
              "3   2019-01-01 00:01:16   45.00  6b849c168bdad6f867558c3793159a81         0\n",
              "4   2019-01-01 00:03:06   41.96  a41d7549acf90789359a9aa5346dcb46         0"
            ]
          },
          "metadata": {},
          "execution_count": 106
        }
      ]
    },
    {
      "cell_type": "code",
      "metadata": {
        "colab": {
          "base_uri": "https://localhost:8080/",
          "height": 206
        },
        "id": "nzhHHGjV0PE0",
        "outputId": "6002ca1a-f299-44dc-e03c-7eb695c62c5a"
      },
      "source": [
        "# Creating dataframe of y_train_pred\n",
        "\n",
        "df_train_pred = pd.DataFrame(y_train_pred)\n",
        "df_train_pred.head()"
      ],
      "execution_count": 103,
      "outputs": [
        {
          "output_type": "execute_result",
          "data": {
            "text/html": [
              "<div>\n",
              "<style scoped>\n",
              "    .dataframe tbody tr th:only-of-type {\n",
              "        vertical-align: middle;\n",
              "    }\n",
              "\n",
              "    .dataframe tbody tr th {\n",
              "        vertical-align: top;\n",
              "    }\n",
              "\n",
              "    .dataframe thead th {\n",
              "        text-align: right;\n",
              "    }\n",
              "</style>\n",
              "<table border=\"1\" class=\"dataframe\">\n",
              "  <thead>\n",
              "    <tr style=\"text-align: right;\">\n",
              "      <th></th>\n",
              "      <th>0</th>\n",
              "    </tr>\n",
              "  </thead>\n",
              "  <tbody>\n",
              "    <tr>\n",
              "      <th>0</th>\n",
              "      <td>0</td>\n",
              "    </tr>\n",
              "    <tr>\n",
              "      <th>1</th>\n",
              "      <td>0</td>\n",
              "    </tr>\n",
              "    <tr>\n",
              "      <th>2</th>\n",
              "      <td>0</td>\n",
              "    </tr>\n",
              "    <tr>\n",
              "      <th>3</th>\n",
              "      <td>0</td>\n",
              "    </tr>\n",
              "    <tr>\n",
              "      <th>4</th>\n",
              "      <td>0</td>\n",
              "    </tr>\n",
              "  </tbody>\n",
              "</table>\n",
              "</div>"
            ],
            "text/plain": [
              "   0\n",
              "0  0\n",
              "1  0\n",
              "2  0\n",
              "3  0\n",
              "4  0"
            ]
          },
          "metadata": {},
          "execution_count": 103
        }
      ]
    },
    {
      "cell_type": "code",
      "metadata": {
        "colab": {
          "base_uri": "https://localhost:8080/",
          "height": 206
        },
        "id": "sp9qKK_p0S9D",
        "outputId": "2232769c-230a-4784-8a9b-3ef3ce7d1786"
      },
      "source": [
        "# Merging the two dataframes\n",
        "\n",
        "df_train_final = pd.concat([df_train_merge, df_train_pred],axis=1)\n",
        "df_train_final.head()"
      ],
      "execution_count": 107,
      "outputs": [
        {
          "output_type": "execute_result",
          "data": {
            "text/html": [
              "<div>\n",
              "<style scoped>\n",
              "    .dataframe tbody tr th:only-of-type {\n",
              "        vertical-align: middle;\n",
              "    }\n",
              "\n",
              "    .dataframe tbody tr th {\n",
              "        vertical-align: top;\n",
              "    }\n",
              "\n",
              "    .dataframe thead th {\n",
              "        text-align: right;\n",
              "    }\n",
              "</style>\n",
              "<table border=\"1\" class=\"dataframe\">\n",
              "  <thead>\n",
              "    <tr style=\"text-align: right;\">\n",
              "      <th></th>\n",
              "      <th>trans_date_trans_time</th>\n",
              "      <th>amt</th>\n",
              "      <th>trans_num</th>\n",
              "      <th>is_fraud</th>\n",
              "      <th>0</th>\n",
              "    </tr>\n",
              "  </thead>\n",
              "  <tbody>\n",
              "    <tr>\n",
              "      <th>0</th>\n",
              "      <td>2019-01-01 00:00:18</td>\n",
              "      <td>4.97</td>\n",
              "      <td>0b242abb623afc578575680df30655b9</td>\n",
              "      <td>0</td>\n",
              "      <td>0</td>\n",
              "    </tr>\n",
              "    <tr>\n",
              "      <th>1</th>\n",
              "      <td>2019-01-01 00:00:44</td>\n",
              "      <td>107.23</td>\n",
              "      <td>1f76529f8574734946361c461b024d99</td>\n",
              "      <td>0</td>\n",
              "      <td>0</td>\n",
              "    </tr>\n",
              "    <tr>\n",
              "      <th>2</th>\n",
              "      <td>2019-01-01 00:00:51</td>\n",
              "      <td>220.11</td>\n",
              "      <td>a1a22d70485983eac12b5b88dad1cf95</td>\n",
              "      <td>0</td>\n",
              "      <td>0</td>\n",
              "    </tr>\n",
              "    <tr>\n",
              "      <th>3</th>\n",
              "      <td>2019-01-01 00:01:16</td>\n",
              "      <td>45.00</td>\n",
              "      <td>6b849c168bdad6f867558c3793159a81</td>\n",
              "      <td>0</td>\n",
              "      <td>0</td>\n",
              "    </tr>\n",
              "    <tr>\n",
              "      <th>4</th>\n",
              "      <td>2019-01-01 00:03:06</td>\n",
              "      <td>41.96</td>\n",
              "      <td>a41d7549acf90789359a9aa5346dcb46</td>\n",
              "      <td>0</td>\n",
              "      <td>0</td>\n",
              "    </tr>\n",
              "  </tbody>\n",
              "</table>\n",
              "</div>"
            ],
            "text/plain": [
              "  trans_date_trans_time     amt                         trans_num  is_fraud  0\n",
              "0   2019-01-01 00:00:18    4.97  0b242abb623afc578575680df30655b9         0  0\n",
              "1   2019-01-01 00:00:44  107.23  1f76529f8574734946361c461b024d99         0  0\n",
              "2   2019-01-01 00:00:51  220.11  a1a22d70485983eac12b5b88dad1cf95         0  0\n",
              "3   2019-01-01 00:01:16   45.00  6b849c168bdad6f867558c3793159a81         0  0\n",
              "4   2019-01-01 00:03:06   41.96  a41d7549acf90789359a9aa5346dcb46         0  0"
            ]
          },
          "metadata": {},
          "execution_count": 107
        }
      ]
    },
    {
      "cell_type": "code",
      "metadata": {
        "colab": {
          "base_uri": "https://localhost:8080/",
          "height": 206
        },
        "id": "OSGMSXCj1Ytb",
        "outputId": "abea08ec-6eac-4528-be1e-cc8925e7bc00"
      },
      "source": [
        "\n",
        "# Renaming column\n",
        "\n",
        "df_train_final= df_train_final.rename(columns={ 0 : 'is_fraud_pred'})\n",
        "df_train_final.head()"
      ],
      "execution_count": 108,
      "outputs": [
        {
          "output_type": "execute_result",
          "data": {
            "text/html": [
              "<div>\n",
              "<style scoped>\n",
              "    .dataframe tbody tr th:only-of-type {\n",
              "        vertical-align: middle;\n",
              "    }\n",
              "\n",
              "    .dataframe tbody tr th {\n",
              "        vertical-align: top;\n",
              "    }\n",
              "\n",
              "    .dataframe thead th {\n",
              "        text-align: right;\n",
              "    }\n",
              "</style>\n",
              "<table border=\"1\" class=\"dataframe\">\n",
              "  <thead>\n",
              "    <tr style=\"text-align: right;\">\n",
              "      <th></th>\n",
              "      <th>trans_date_trans_time</th>\n",
              "      <th>amt</th>\n",
              "      <th>trans_num</th>\n",
              "      <th>is_fraud</th>\n",
              "      <th>is_fraud_pred</th>\n",
              "    </tr>\n",
              "  </thead>\n",
              "  <tbody>\n",
              "    <tr>\n",
              "      <th>0</th>\n",
              "      <td>2019-01-01 00:00:18</td>\n",
              "      <td>4.97</td>\n",
              "      <td>0b242abb623afc578575680df30655b9</td>\n",
              "      <td>0</td>\n",
              "      <td>0</td>\n",
              "    </tr>\n",
              "    <tr>\n",
              "      <th>1</th>\n",
              "      <td>2019-01-01 00:00:44</td>\n",
              "      <td>107.23</td>\n",
              "      <td>1f76529f8574734946361c461b024d99</td>\n",
              "      <td>0</td>\n",
              "      <td>0</td>\n",
              "    </tr>\n",
              "    <tr>\n",
              "      <th>2</th>\n",
              "      <td>2019-01-01 00:00:51</td>\n",
              "      <td>220.11</td>\n",
              "      <td>a1a22d70485983eac12b5b88dad1cf95</td>\n",
              "      <td>0</td>\n",
              "      <td>0</td>\n",
              "    </tr>\n",
              "    <tr>\n",
              "      <th>3</th>\n",
              "      <td>2019-01-01 00:01:16</td>\n",
              "      <td>45.00</td>\n",
              "      <td>6b849c168bdad6f867558c3793159a81</td>\n",
              "      <td>0</td>\n",
              "      <td>0</td>\n",
              "    </tr>\n",
              "    <tr>\n",
              "      <th>4</th>\n",
              "      <td>2019-01-01 00:03:06</td>\n",
              "      <td>41.96</td>\n",
              "      <td>a41d7549acf90789359a9aa5346dcb46</td>\n",
              "      <td>0</td>\n",
              "      <td>0</td>\n",
              "    </tr>\n",
              "  </tbody>\n",
              "</table>\n",
              "</div>"
            ],
            "text/plain": [
              "  trans_date_trans_time     amt  ... is_fraud  is_fraud_pred\n",
              "0   2019-01-01 00:00:18    4.97  ...        0              0\n",
              "1   2019-01-01 00:00:44  107.23  ...        0              0\n",
              "2   2019-01-01 00:00:51  220.11  ...        0              0\n",
              "3   2019-01-01 00:01:16   45.00  ...        0              0\n",
              "4   2019-01-01 00:03:06   41.96  ...        0              0\n",
              "\n",
              "[5 rows x 5 columns]"
            ]
          },
          "metadata": {},
          "execution_count": 108
        }
      ]
    },
    {
      "cell_type": "code",
      "metadata": {
        "colab": {
          "base_uri": "https://localhost:8080/"
        },
        "id": "h7aVISRO1YxD",
        "outputId": "236599d6-735c-4f2e-c672-fc29222ec49b"
      },
      "source": [
        "df_train_final.groupby('is_fraud')['is_fraud'].count()"
      ],
      "execution_count": 109,
      "outputs": [
        {
          "output_type": "execute_result",
          "data": {
            "text/plain": [
              "is_fraud\n",
              "0    1289169\n",
              "1       7506\n",
              "Name: is_fraud, dtype: int64"
            ]
          },
          "metadata": {},
          "execution_count": 109
        }
      ]
    },
    {
      "cell_type": "code",
      "metadata": {
        "colab": {
          "base_uri": "https://localhost:8080/"
        },
        "id": "2uUukvlg1Y01",
        "outputId": "27811f0b-b341-45ba-dbdc-d2884005194a"
      },
      "source": [
        "\n",
        "df_train_final.groupby('is_fraud_pred')['is_fraud_pred'].count()"
      ],
      "execution_count": 110,
      "outputs": [
        {
          "output_type": "execute_result",
          "data": {
            "text/plain": [
              "is_fraud_pred\n",
              "0    1202983\n",
              "1      93692\n",
              "Name: is_fraud_pred, dtype: int64"
            ]
          },
          "metadata": {},
          "execution_count": 110
        }
      ]
    },
    {
      "cell_type": "code",
      "metadata": {
        "id": "vmx8IQE-17vv"
      },
      "source": [
        "df_test1=pd.read_csv('/content/drive/MyDrive/Colab Notebooks/fraud detection case study/fraudTest.csv')"
      ],
      "execution_count": 118,
      "outputs": []
    },
    {
      "cell_type": "code",
      "metadata": {
        "colab": {
          "base_uri": "https://localhost:8080/",
          "height": 206
        },
        "id": "BDL02j2P2ZD2",
        "outputId": "ae85d07b-93a2-468b-cdb6-1cb572edc80f"
      },
      "source": [
        "df_test_merge = df_test1[['trans_date_trans_time','amt','trans_num','is_fraud']]\n",
        "df_test_merge.head()"
      ],
      "execution_count": 117,
      "outputs": [
        {
          "output_type": "execute_result",
          "data": {
            "text/html": [
              "<div>\n",
              "<style scoped>\n",
              "    .dataframe tbody tr th:only-of-type {\n",
              "        vertical-align: middle;\n",
              "    }\n",
              "\n",
              "    .dataframe tbody tr th {\n",
              "        vertical-align: top;\n",
              "    }\n",
              "\n",
              "    .dataframe thead th {\n",
              "        text-align: right;\n",
              "    }\n",
              "</style>\n",
              "<table border=\"1\" class=\"dataframe\">\n",
              "  <thead>\n",
              "    <tr style=\"text-align: right;\">\n",
              "      <th></th>\n",
              "      <th>trans_date_trans_time</th>\n",
              "      <th>amt</th>\n",
              "      <th>trans_num</th>\n",
              "      <th>is_fraud</th>\n",
              "    </tr>\n",
              "  </thead>\n",
              "  <tbody>\n",
              "    <tr>\n",
              "      <th>0</th>\n",
              "      <td>2020-06-21 12:14:25</td>\n",
              "      <td>2.86</td>\n",
              "      <td>2da90c7d74bd46a0caf3777415b3ebd3</td>\n",
              "      <td>0</td>\n",
              "    </tr>\n",
              "    <tr>\n",
              "      <th>1</th>\n",
              "      <td>2020-06-21 12:14:33</td>\n",
              "      <td>29.84</td>\n",
              "      <td>324cc204407e99f51b0d6ca0055005e7</td>\n",
              "      <td>0</td>\n",
              "    </tr>\n",
              "    <tr>\n",
              "      <th>2</th>\n",
              "      <td>2020-06-21 12:14:53</td>\n",
              "      <td>41.28</td>\n",
              "      <td>c81755dbbbea9d5c77f094348a7579be</td>\n",
              "      <td>0</td>\n",
              "    </tr>\n",
              "    <tr>\n",
              "      <th>3</th>\n",
              "      <td>2020-06-21 12:15:15</td>\n",
              "      <td>60.05</td>\n",
              "      <td>2159175b9efe66dc301f149d3d5abf8c</td>\n",
              "      <td>0</td>\n",
              "    </tr>\n",
              "    <tr>\n",
              "      <th>4</th>\n",
              "      <td>2020-06-21 12:15:17</td>\n",
              "      <td>3.19</td>\n",
              "      <td>57ff021bd3f328f8738bb535c302a31b</td>\n",
              "      <td>0</td>\n",
              "    </tr>\n",
              "  </tbody>\n",
              "</table>\n",
              "</div>"
            ],
            "text/plain": [
              "  trans_date_trans_time    amt                         trans_num  is_fraud\n",
              "0   2020-06-21 12:14:25   2.86  2da90c7d74bd46a0caf3777415b3ebd3         0\n",
              "1   2020-06-21 12:14:33  29.84  324cc204407e99f51b0d6ca0055005e7         0\n",
              "2   2020-06-21 12:14:53  41.28  c81755dbbbea9d5c77f094348a7579be         0\n",
              "3   2020-06-21 12:15:15  60.05  2159175b9efe66dc301f149d3d5abf8c         0\n",
              "4   2020-06-21 12:15:17   3.19  57ff021bd3f328f8738bb535c302a31b         0"
            ]
          },
          "metadata": {},
          "execution_count": 117
        }
      ]
    },
    {
      "cell_type": "code",
      "metadata": {
        "colab": {
          "base_uri": "https://localhost:8080/",
          "height": 206
        },
        "id": "6hCpwPCz1Y4q",
        "outputId": "550817dc-7486-4edd-b12c-7c6206383d39"
      },
      "source": [
        "# Subset of df_test\n",
        "\n",
        "df_test_merge = df_test1[['trans_date_trans_time','amt','trans_num','is_fraud']]\n",
        "df_test_merge.head()"
      ],
      "execution_count": 119,
      "outputs": [
        {
          "output_type": "execute_result",
          "data": {
            "text/html": [
              "<div>\n",
              "<style scoped>\n",
              "    .dataframe tbody tr th:only-of-type {\n",
              "        vertical-align: middle;\n",
              "    }\n",
              "\n",
              "    .dataframe tbody tr th {\n",
              "        vertical-align: top;\n",
              "    }\n",
              "\n",
              "    .dataframe thead th {\n",
              "        text-align: right;\n",
              "    }\n",
              "</style>\n",
              "<table border=\"1\" class=\"dataframe\">\n",
              "  <thead>\n",
              "    <tr style=\"text-align: right;\">\n",
              "      <th></th>\n",
              "      <th>trans_date_trans_time</th>\n",
              "      <th>amt</th>\n",
              "      <th>trans_num</th>\n",
              "      <th>is_fraud</th>\n",
              "    </tr>\n",
              "  </thead>\n",
              "  <tbody>\n",
              "    <tr>\n",
              "      <th>0</th>\n",
              "      <td>2020-06-21 12:14:25</td>\n",
              "      <td>2.86</td>\n",
              "      <td>2da90c7d74bd46a0caf3777415b3ebd3</td>\n",
              "      <td>0</td>\n",
              "    </tr>\n",
              "    <tr>\n",
              "      <th>1</th>\n",
              "      <td>2020-06-21 12:14:33</td>\n",
              "      <td>29.84</td>\n",
              "      <td>324cc204407e99f51b0d6ca0055005e7</td>\n",
              "      <td>0</td>\n",
              "    </tr>\n",
              "    <tr>\n",
              "      <th>2</th>\n",
              "      <td>2020-06-21 12:14:53</td>\n",
              "      <td>41.28</td>\n",
              "      <td>c81755dbbbea9d5c77f094348a7579be</td>\n",
              "      <td>0</td>\n",
              "    </tr>\n",
              "    <tr>\n",
              "      <th>3</th>\n",
              "      <td>2020-06-21 12:15:15</td>\n",
              "      <td>60.05</td>\n",
              "      <td>2159175b9efe66dc301f149d3d5abf8c</td>\n",
              "      <td>0</td>\n",
              "    </tr>\n",
              "    <tr>\n",
              "      <th>4</th>\n",
              "      <td>2020-06-21 12:15:17</td>\n",
              "      <td>3.19</td>\n",
              "      <td>57ff021bd3f328f8738bb535c302a31b</td>\n",
              "      <td>0</td>\n",
              "    </tr>\n",
              "  </tbody>\n",
              "</table>\n",
              "</div>"
            ],
            "text/plain": [
              "  trans_date_trans_time    amt                         trans_num  is_fraud\n",
              "0   2020-06-21 12:14:25   2.86  2da90c7d74bd46a0caf3777415b3ebd3         0\n",
              "1   2020-06-21 12:14:33  29.84  324cc204407e99f51b0d6ca0055005e7         0\n",
              "2   2020-06-21 12:14:53  41.28  c81755dbbbea9d5c77f094348a7579be         0\n",
              "3   2020-06-21 12:15:15  60.05  2159175b9efe66dc301f149d3d5abf8c         0\n",
              "4   2020-06-21 12:15:17   3.19  57ff021bd3f328f8738bb535c302a31b         0"
            ]
          },
          "metadata": {},
          "execution_count": 119
        }
      ]
    },
    {
      "cell_type": "code",
      "metadata": {
        "colab": {
          "base_uri": "https://localhost:8080/",
          "height": 206
        },
        "id": "X1vMWjPp3x5i",
        "outputId": "ba42dca5-0c13-4841-89a7-505a9a312cb5"
      },
      "source": [
        "# Creating dataframe of y_test_pred\n",
        "\n",
        "df_test_pred = pd.DataFrame(y_test_pred)\n",
        "df_test_pred.head()"
      ],
      "execution_count": 121,
      "outputs": [
        {
          "output_type": "execute_result",
          "data": {
            "text/html": [
              "<div>\n",
              "<style scoped>\n",
              "    .dataframe tbody tr th:only-of-type {\n",
              "        vertical-align: middle;\n",
              "    }\n",
              "\n",
              "    .dataframe tbody tr th {\n",
              "        vertical-align: top;\n",
              "    }\n",
              "\n",
              "    .dataframe thead th {\n",
              "        text-align: right;\n",
              "    }\n",
              "</style>\n",
              "<table border=\"1\" class=\"dataframe\">\n",
              "  <thead>\n",
              "    <tr style=\"text-align: right;\">\n",
              "      <th></th>\n",
              "      <th>0</th>\n",
              "    </tr>\n",
              "  </thead>\n",
              "  <tbody>\n",
              "    <tr>\n",
              "      <th>0</th>\n",
              "      <td>0</td>\n",
              "    </tr>\n",
              "    <tr>\n",
              "      <th>1</th>\n",
              "      <td>0</td>\n",
              "    </tr>\n",
              "    <tr>\n",
              "      <th>2</th>\n",
              "      <td>0</td>\n",
              "    </tr>\n",
              "    <tr>\n",
              "      <th>3</th>\n",
              "      <td>0</td>\n",
              "    </tr>\n",
              "    <tr>\n",
              "      <th>4</th>\n",
              "      <td>0</td>\n",
              "    </tr>\n",
              "  </tbody>\n",
              "</table>\n",
              "</div>"
            ],
            "text/plain": [
              "   0\n",
              "0  0\n",
              "1  0\n",
              "2  0\n",
              "3  0\n",
              "4  0"
            ]
          },
          "metadata": {},
          "execution_count": 121
        }
      ]
    },
    {
      "cell_type": "code",
      "metadata": {
        "colab": {
          "base_uri": "https://localhost:8080/",
          "height": 206
        },
        "id": "jqrhm1yE30zM",
        "outputId": "5535e1a2-f701-4225-fccd-e778c416a59f"
      },
      "source": [
        "# Merging the two dataframes\n",
        "\n",
        "df_test_final = pd.concat([df_test_merge, df_test_pred],axis=1)\n",
        "df_test_final.head()"
      ],
      "execution_count": 122,
      "outputs": [
        {
          "output_type": "execute_result",
          "data": {
            "text/html": [
              "<div>\n",
              "<style scoped>\n",
              "    .dataframe tbody tr th:only-of-type {\n",
              "        vertical-align: middle;\n",
              "    }\n",
              "\n",
              "    .dataframe tbody tr th {\n",
              "        vertical-align: top;\n",
              "    }\n",
              "\n",
              "    .dataframe thead th {\n",
              "        text-align: right;\n",
              "    }\n",
              "</style>\n",
              "<table border=\"1\" class=\"dataframe\">\n",
              "  <thead>\n",
              "    <tr style=\"text-align: right;\">\n",
              "      <th></th>\n",
              "      <th>trans_date_trans_time</th>\n",
              "      <th>amt</th>\n",
              "      <th>trans_num</th>\n",
              "      <th>is_fraud</th>\n",
              "      <th>0</th>\n",
              "    </tr>\n",
              "  </thead>\n",
              "  <tbody>\n",
              "    <tr>\n",
              "      <th>0</th>\n",
              "      <td>2020-06-21 12:14:25</td>\n",
              "      <td>2.86</td>\n",
              "      <td>2da90c7d74bd46a0caf3777415b3ebd3</td>\n",
              "      <td>0</td>\n",
              "      <td>0</td>\n",
              "    </tr>\n",
              "    <tr>\n",
              "      <th>1</th>\n",
              "      <td>2020-06-21 12:14:33</td>\n",
              "      <td>29.84</td>\n",
              "      <td>324cc204407e99f51b0d6ca0055005e7</td>\n",
              "      <td>0</td>\n",
              "      <td>0</td>\n",
              "    </tr>\n",
              "    <tr>\n",
              "      <th>2</th>\n",
              "      <td>2020-06-21 12:14:53</td>\n",
              "      <td>41.28</td>\n",
              "      <td>c81755dbbbea9d5c77f094348a7579be</td>\n",
              "      <td>0</td>\n",
              "      <td>0</td>\n",
              "    </tr>\n",
              "    <tr>\n",
              "      <th>3</th>\n",
              "      <td>2020-06-21 12:15:15</td>\n",
              "      <td>60.05</td>\n",
              "      <td>2159175b9efe66dc301f149d3d5abf8c</td>\n",
              "      <td>0</td>\n",
              "      <td>0</td>\n",
              "    </tr>\n",
              "    <tr>\n",
              "      <th>4</th>\n",
              "      <td>2020-06-21 12:15:17</td>\n",
              "      <td>3.19</td>\n",
              "      <td>57ff021bd3f328f8738bb535c302a31b</td>\n",
              "      <td>0</td>\n",
              "      <td>0</td>\n",
              "    </tr>\n",
              "  </tbody>\n",
              "</table>\n",
              "</div>"
            ],
            "text/plain": [
              "  trans_date_trans_time    amt                         trans_num  is_fraud  0\n",
              "0   2020-06-21 12:14:25   2.86  2da90c7d74bd46a0caf3777415b3ebd3         0  0\n",
              "1   2020-06-21 12:14:33  29.84  324cc204407e99f51b0d6ca0055005e7         0  0\n",
              "2   2020-06-21 12:14:53  41.28  c81755dbbbea9d5c77f094348a7579be         0  0\n",
              "3   2020-06-21 12:15:15  60.05  2159175b9efe66dc301f149d3d5abf8c         0  0\n",
              "4   2020-06-21 12:15:17   3.19  57ff021bd3f328f8738bb535c302a31b         0  0"
            ]
          },
          "metadata": {},
          "execution_count": 122
        }
      ]
    },
    {
      "cell_type": "code",
      "metadata": {
        "colab": {
          "base_uri": "https://localhost:8080/",
          "height": 206
        },
        "id": "tErSSPqp303j",
        "outputId": "01a031d5-5519-494d-9e3f-92a58b1129ae"
      },
      "source": [
        "# Renaming column\n",
        "\n",
        "df_test_final= df_test_final.rename(columns={ 0 : 'is_fraud_pred'})\n",
        "df_test_final.head()"
      ],
      "execution_count": 123,
      "outputs": [
        {
          "output_type": "execute_result",
          "data": {
            "text/html": [
              "<div>\n",
              "<style scoped>\n",
              "    .dataframe tbody tr th:only-of-type {\n",
              "        vertical-align: middle;\n",
              "    }\n",
              "\n",
              "    .dataframe tbody tr th {\n",
              "        vertical-align: top;\n",
              "    }\n",
              "\n",
              "    .dataframe thead th {\n",
              "        text-align: right;\n",
              "    }\n",
              "</style>\n",
              "<table border=\"1\" class=\"dataframe\">\n",
              "  <thead>\n",
              "    <tr style=\"text-align: right;\">\n",
              "      <th></th>\n",
              "      <th>trans_date_trans_time</th>\n",
              "      <th>amt</th>\n",
              "      <th>trans_num</th>\n",
              "      <th>is_fraud</th>\n",
              "      <th>is_fraud_pred</th>\n",
              "    </tr>\n",
              "  </thead>\n",
              "  <tbody>\n",
              "    <tr>\n",
              "      <th>0</th>\n",
              "      <td>2020-06-21 12:14:25</td>\n",
              "      <td>2.86</td>\n",
              "      <td>2da90c7d74bd46a0caf3777415b3ebd3</td>\n",
              "      <td>0</td>\n",
              "      <td>0</td>\n",
              "    </tr>\n",
              "    <tr>\n",
              "      <th>1</th>\n",
              "      <td>2020-06-21 12:14:33</td>\n",
              "      <td>29.84</td>\n",
              "      <td>324cc204407e99f51b0d6ca0055005e7</td>\n",
              "      <td>0</td>\n",
              "      <td>0</td>\n",
              "    </tr>\n",
              "    <tr>\n",
              "      <th>2</th>\n",
              "      <td>2020-06-21 12:14:53</td>\n",
              "      <td>41.28</td>\n",
              "      <td>c81755dbbbea9d5c77f094348a7579be</td>\n",
              "      <td>0</td>\n",
              "      <td>0</td>\n",
              "    </tr>\n",
              "    <tr>\n",
              "      <th>3</th>\n",
              "      <td>2020-06-21 12:15:15</td>\n",
              "      <td>60.05</td>\n",
              "      <td>2159175b9efe66dc301f149d3d5abf8c</td>\n",
              "      <td>0</td>\n",
              "      <td>0</td>\n",
              "    </tr>\n",
              "    <tr>\n",
              "      <th>4</th>\n",
              "      <td>2020-06-21 12:15:17</td>\n",
              "      <td>3.19</td>\n",
              "      <td>57ff021bd3f328f8738bb535c302a31b</td>\n",
              "      <td>0</td>\n",
              "      <td>0</td>\n",
              "    </tr>\n",
              "  </tbody>\n",
              "</table>\n",
              "</div>"
            ],
            "text/plain": [
              "  trans_date_trans_time    amt  ... is_fraud  is_fraud_pred\n",
              "0   2020-06-21 12:14:25   2.86  ...        0              0\n",
              "1   2020-06-21 12:14:33  29.84  ...        0              0\n",
              "2   2020-06-21 12:14:53  41.28  ...        0              0\n",
              "3   2020-06-21 12:15:15  60.05  ...        0              0\n",
              "4   2020-06-21 12:15:17   3.19  ...        0              0\n",
              "\n",
              "[5 rows x 5 columns]"
            ]
          },
          "metadata": {},
          "execution_count": 123
        }
      ]
    },
    {
      "cell_type": "code",
      "metadata": {
        "colab": {
          "base_uri": "https://localhost:8080/"
        },
        "id": "Xs4VZrju309a",
        "outputId": "3fb52bfe-46e9-41bb-8246-f698a8c45c1a"
      },
      "source": [
        "df_test_final.groupby('is_fraud')['is_fraud'].count()"
      ],
      "execution_count": 124,
      "outputs": [
        {
          "output_type": "execute_result",
          "data": {
            "text/plain": [
              "is_fraud\n",
              "0    553574\n",
              "1      2145\n",
              "Name: is_fraud, dtype: int64"
            ]
          },
          "metadata": {},
          "execution_count": 124
        }
      ]
    },
    {
      "cell_type": "code",
      "metadata": {
        "colab": {
          "base_uri": "https://localhost:8080/"
        },
        "id": "cwXPLg8336oB",
        "outputId": "705ea383-3937-4813-a900-e86d7b956d29"
      },
      "source": [
        "df_test_final.groupby('is_fraud_pred')['is_fraud_pred'].count()"
      ],
      "execution_count": 125,
      "outputs": [
        {
          "output_type": "execute_result",
          "data": {
            "text/plain": [
              "is_fraud_pred\n",
              "0    523238\n",
              "1     32481\n",
              "Name: is_fraud_pred, dtype: int64"
            ]
          },
          "metadata": {},
          "execution_count": 125
        }
      ]
    },
    {
      "cell_type": "code",
      "metadata": {
        "colab": {
          "base_uri": "https://localhost:8080/",
          "height": 206
        },
        "id": "Kiq1oMfQ36xP",
        "outputId": "302be4c0-ba8c-46d6-fb9b-b76232a1ea5d"
      },
      "source": [
        "# Merging train and test dataset for cost benefit analysis\n",
        "\n",
        "df_merge_final = pd.concat([df_train_final, df_test_final],axis=0)\n",
        "df_merge_final.head()"
      ],
      "execution_count": 126,
      "outputs": [
        {
          "output_type": "execute_result",
          "data": {
            "text/html": [
              "<div>\n",
              "<style scoped>\n",
              "    .dataframe tbody tr th:only-of-type {\n",
              "        vertical-align: middle;\n",
              "    }\n",
              "\n",
              "    .dataframe tbody tr th {\n",
              "        vertical-align: top;\n",
              "    }\n",
              "\n",
              "    .dataframe thead th {\n",
              "        text-align: right;\n",
              "    }\n",
              "</style>\n",
              "<table border=\"1\" class=\"dataframe\">\n",
              "  <thead>\n",
              "    <tr style=\"text-align: right;\">\n",
              "      <th></th>\n",
              "      <th>trans_date_trans_time</th>\n",
              "      <th>amt</th>\n",
              "      <th>trans_num</th>\n",
              "      <th>is_fraud</th>\n",
              "      <th>is_fraud_pred</th>\n",
              "    </tr>\n",
              "  </thead>\n",
              "  <tbody>\n",
              "    <tr>\n",
              "      <th>0</th>\n",
              "      <td>2019-01-01 00:00:18</td>\n",
              "      <td>4.97</td>\n",
              "      <td>0b242abb623afc578575680df30655b9</td>\n",
              "      <td>0</td>\n",
              "      <td>0</td>\n",
              "    </tr>\n",
              "    <tr>\n",
              "      <th>1</th>\n",
              "      <td>2019-01-01 00:00:44</td>\n",
              "      <td>107.23</td>\n",
              "      <td>1f76529f8574734946361c461b024d99</td>\n",
              "      <td>0</td>\n",
              "      <td>0</td>\n",
              "    </tr>\n",
              "    <tr>\n",
              "      <th>2</th>\n",
              "      <td>2019-01-01 00:00:51</td>\n",
              "      <td>220.11</td>\n",
              "      <td>a1a22d70485983eac12b5b88dad1cf95</td>\n",
              "      <td>0</td>\n",
              "      <td>0</td>\n",
              "    </tr>\n",
              "    <tr>\n",
              "      <th>3</th>\n",
              "      <td>2019-01-01 00:01:16</td>\n",
              "      <td>45.00</td>\n",
              "      <td>6b849c168bdad6f867558c3793159a81</td>\n",
              "      <td>0</td>\n",
              "      <td>0</td>\n",
              "    </tr>\n",
              "    <tr>\n",
              "      <th>4</th>\n",
              "      <td>2019-01-01 00:03:06</td>\n",
              "      <td>41.96</td>\n",
              "      <td>a41d7549acf90789359a9aa5346dcb46</td>\n",
              "      <td>0</td>\n",
              "      <td>0</td>\n",
              "    </tr>\n",
              "  </tbody>\n",
              "</table>\n",
              "</div>"
            ],
            "text/plain": [
              "  trans_date_trans_time     amt  ... is_fraud  is_fraud_pred\n",
              "0   2019-01-01 00:00:18    4.97  ...        0              0\n",
              "1   2019-01-01 00:00:44  107.23  ...        0              0\n",
              "2   2019-01-01 00:00:51  220.11  ...        0              0\n",
              "3   2019-01-01 00:01:16   45.00  ...        0              0\n",
              "4   2019-01-01 00:03:06   41.96  ...        0              0\n",
              "\n",
              "[5 rows x 5 columns]"
            ]
          },
          "metadata": {},
          "execution_count": 126
        }
      ]
    },
    {
      "cell_type": "code",
      "metadata": {
        "colab": {
          "base_uri": "https://localhost:8080/"
        },
        "id": "W7O-89B_37Cj",
        "outputId": "a7f4a427-3743-4d4d-b375-1b59099b808b"
      },
      "source": [
        "\n",
        "df_merge_final.shape"
      ],
      "execution_count": 127,
      "outputs": [
        {
          "output_type": "execute_result",
          "data": {
            "text/plain": [
              "(1852394, 5)"
            ]
          },
          "metadata": {},
          "execution_count": 127
        }
      ]
    },
    {
      "cell_type": "code",
      "metadata": {
        "colab": {
          "base_uri": "https://localhost:8080/",
          "height": 206
        },
        "id": "1HkQtt2J37NA",
        "outputId": "dc8ada4b-2721-4a21-9694-190fafe4df5a"
      },
      "source": [
        "# Creating month and year columns\n",
        "\n",
        "df_merge_final['month'] = pd.DatetimeIndex(df_merge_final['trans_date_trans_time']).month\n",
        "df_merge_final['year'] = pd.DatetimeIndex(df_merge_final['trans_date_trans_time']).year\n",
        "df_merge_final.head()"
      ],
      "execution_count": 128,
      "outputs": [
        {
          "output_type": "execute_result",
          "data": {
            "text/html": [
              "<div>\n",
              "<style scoped>\n",
              "    .dataframe tbody tr th:only-of-type {\n",
              "        vertical-align: middle;\n",
              "    }\n",
              "\n",
              "    .dataframe tbody tr th {\n",
              "        vertical-align: top;\n",
              "    }\n",
              "\n",
              "    .dataframe thead th {\n",
              "        text-align: right;\n",
              "    }\n",
              "</style>\n",
              "<table border=\"1\" class=\"dataframe\">\n",
              "  <thead>\n",
              "    <tr style=\"text-align: right;\">\n",
              "      <th></th>\n",
              "      <th>trans_date_trans_time</th>\n",
              "      <th>amt</th>\n",
              "      <th>trans_num</th>\n",
              "      <th>is_fraud</th>\n",
              "      <th>is_fraud_pred</th>\n",
              "      <th>month</th>\n",
              "      <th>year</th>\n",
              "    </tr>\n",
              "  </thead>\n",
              "  <tbody>\n",
              "    <tr>\n",
              "      <th>0</th>\n",
              "      <td>2019-01-01 00:00:18</td>\n",
              "      <td>4.97</td>\n",
              "      <td>0b242abb623afc578575680df30655b9</td>\n",
              "      <td>0</td>\n",
              "      <td>0</td>\n",
              "      <td>1</td>\n",
              "      <td>2019</td>\n",
              "    </tr>\n",
              "    <tr>\n",
              "      <th>1</th>\n",
              "      <td>2019-01-01 00:00:44</td>\n",
              "      <td>107.23</td>\n",
              "      <td>1f76529f8574734946361c461b024d99</td>\n",
              "      <td>0</td>\n",
              "      <td>0</td>\n",
              "      <td>1</td>\n",
              "      <td>2019</td>\n",
              "    </tr>\n",
              "    <tr>\n",
              "      <th>2</th>\n",
              "      <td>2019-01-01 00:00:51</td>\n",
              "      <td>220.11</td>\n",
              "      <td>a1a22d70485983eac12b5b88dad1cf95</td>\n",
              "      <td>0</td>\n",
              "      <td>0</td>\n",
              "      <td>1</td>\n",
              "      <td>2019</td>\n",
              "    </tr>\n",
              "    <tr>\n",
              "      <th>3</th>\n",
              "      <td>2019-01-01 00:01:16</td>\n",
              "      <td>45.00</td>\n",
              "      <td>6b849c168bdad6f867558c3793159a81</td>\n",
              "      <td>0</td>\n",
              "      <td>0</td>\n",
              "      <td>1</td>\n",
              "      <td>2019</td>\n",
              "    </tr>\n",
              "    <tr>\n",
              "      <th>4</th>\n",
              "      <td>2019-01-01 00:03:06</td>\n",
              "      <td>41.96</td>\n",
              "      <td>a41d7549acf90789359a9aa5346dcb46</td>\n",
              "      <td>0</td>\n",
              "      <td>0</td>\n",
              "      <td>1</td>\n",
              "      <td>2019</td>\n",
              "    </tr>\n",
              "  </tbody>\n",
              "</table>\n",
              "</div>"
            ],
            "text/plain": [
              "  trans_date_trans_time     amt  ... month  year\n",
              "0   2019-01-01 00:00:18    4.97  ...     1  2019\n",
              "1   2019-01-01 00:00:44  107.23  ...     1  2019\n",
              "2   2019-01-01 00:00:51  220.11  ...     1  2019\n",
              "3   2019-01-01 00:01:16   45.00  ...     1  2019\n",
              "4   2019-01-01 00:03:06   41.96  ...     1  2019\n",
              "\n",
              "[5 rows x 7 columns]"
            ]
          },
          "metadata": {},
          "execution_count": 128
        }
      ]
    },
    {
      "cell_type": "code",
      "metadata": {
        "id": "UTOZP1vr31B8"
      },
      "source": [
        "# Group by variable creation\n",
        "\n",
        "g = df_merge_final.groupby([\"year\",\"month\"])"
      ],
      "execution_count": 129,
      "outputs": []
    },
    {
      "cell_type": "code",
      "metadata": {
        "colab": {
          "base_uri": "https://localhost:8080/"
        },
        "id": "fmRKeG1z4EQg",
        "outputId": "530ca37d-1db2-431a-e0b1-19b383d25da9"
      },
      "source": [
        "\n",
        "# Number of transactions per month\n",
        "\n",
        "g.trans_num.count()"
      ],
      "execution_count": 130,
      "outputs": [
        {
          "output_type": "execute_result",
          "data": {
            "text/plain": [
              "year  month\n",
              "2019  1         52525\n",
              "      2         49866\n",
              "      3         70939\n",
              "      4         68078\n",
              "      5         72532\n",
              "      6         86064\n",
              "      7         86596\n",
              "      8         87359\n",
              "      9         70652\n",
              "      10        68758\n",
              "      11        70421\n",
              "      12       141060\n",
              "2020  1         52202\n",
              "      2         47791\n",
              "      3         72850\n",
              "      4         66892\n",
              "      5         74343\n",
              "      6         87805\n",
              "      7         85848\n",
              "      8         88759\n",
              "      9         69533\n",
              "      10        69348\n",
              "      11        72635\n",
              "      12       139538\n",
              "Name: trans_num, dtype: int64"
            ]
          },
          "metadata": {},
          "execution_count": 130
        }
      ]
    },
    {
      "cell_type": "code",
      "metadata": {
        "colab": {
          "base_uri": "https://localhost:8080/"
        },
        "id": "HxhzJlfg4EXt",
        "outputId": "80d93c92-ae72-48e9-bf35-a53ef2bef785"
      },
      "source": [
        "\n",
        "# Average number of transactions per month\n",
        "\n",
        "df_merge_final.trans_num.count()/24"
      ],
      "execution_count": 131,
      "outputs": [
        {
          "output_type": "execute_result",
          "data": {
            "text/plain": [
              "77183.08333333333"
            ]
          },
          "metadata": {},
          "execution_count": 131
        }
      ]
    },
    {
      "cell_type": "code",
      "metadata": {
        "colab": {
          "base_uri": "https://localhost:8080/"
        },
        "id": "1_7LtdrH4EuB",
        "outputId": "43f09dca-600f-4e15-ca28-0e1ffd4fb353"
      },
      "source": [
        "# Average Number of fraudulent transactions per month\n",
        "\n",
        "df_merge_final[df_merge_final['is_fraud']==1].trans_num.count()/24"
      ],
      "execution_count": 132,
      "outputs": [
        {
          "output_type": "execute_result",
          "data": {
            "text/plain": [
              "402.125"
            ]
          },
          "metadata": {},
          "execution_count": 132
        }
      ]
    },
    {
      "cell_type": "code",
      "metadata": {
        "colab": {
          "base_uri": "https://localhost:8080/"
        },
        "id": "X9xyM7st4E2R",
        "outputId": "94044639-f3b8-4ef1-b7ed-c54930519862"
      },
      "source": [
        "# Average amount per fraud transaction\n",
        "\n",
        "df_merge_final[df_merge_final['is_fraud']==1].amt.mean()"
      ],
      "execution_count": 133,
      "outputs": [
        {
          "output_type": "execute_result",
          "data": {
            "text/plain": [
              "530.6614122888789"
            ]
          },
          "metadata": {},
          "execution_count": 133
        }
      ]
    },
    {
      "cell_type": "code",
      "metadata": {
        "colab": {
          "base_uri": "https://localhost:8080/"
        },
        "id": "63M1c6vE4E-w",
        "outputId": "50c12ddc-d2f9-48f9-d72b-8adfc4cb0b4e"
      },
      "source": [
        "# Average number of transactions per month detected as fraud by the model\n",
        "\n",
        "df_merge_final[df_merge_final['is_fraud_pred']==1].trans_num.count()/24"
      ],
      "execution_count": 134,
      "outputs": [
        {
          "output_type": "execute_result",
          "data": {
            "text/plain": [
              "5257.208333333333"
            ]
          },
          "metadata": {},
          "execution_count": 134
        }
      ]
    },
    {
      "cell_type": "code",
      "metadata": {
        "colab": {
          "base_uri": "https://localhost:8080/"
        },
        "id": "LCFvwpRk4Omv",
        "outputId": "d8446989-50bc-4326-ece0-7c08932b4802"
      },
      "source": [
        "\n",
        "# Average number of transactions per month that are fraudulent but are not detected by the model\n",
        "\n",
        "Undetected_frauds = df_merge_final.loc[(df_merge_final.is_fraud_pred==0) & (df_merge_final.is_fraud==1)]\n",
        "Undetected_frauds.trans_num.count()/24"
      ],
      "execution_count": 135,
      "outputs": [
        {
          "output_type": "execute_result",
          "data": {
            "text/plain": [
              "65.83333333333333"
            ]
          },
          "metadata": {},
          "execution_count": 135
        }
      ]
    }
  ]
}