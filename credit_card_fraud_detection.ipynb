{
 "cells": [
  {
   "cell_type": "markdown",
   "metadata": {
    "id": "uNgzu2443d2O"
   },
   "source": [
    "# Capstone Project: Credit card fraud detection using ML\n",
    "# Understanding data"
   ]
  },
  {
   "cell_type": "code",
   "execution_count": 1,
   "metadata": {},
   "outputs": [],
   "source": [
    "#pip install haversine"
   ]
  },
  {
   "cell_type": "code",
   "execution_count": 2,
   "metadata": {
    "_cell_guid": "b1076dfc-b9ad-4769-8c92-a6c4dae69d19",
    "_uuid": "8f2839f25d086af736a60e9eeb907d3b93b6e0e5",
    "execution": {
     "iopub.execute_input": "2021-07-11T08:16:30.123462Z",
     "iopub.status.busy": "2021-07-11T08:16:30.123074Z",
     "iopub.status.idle": "2021-07-11T08:16:30.134089Z",
     "shell.execute_reply": "2021-07-11T08:16:30.133232Z",
     "shell.execute_reply.started": "2021-07-11T08:16:30.123426Z"
    },
    "id": "pse6Cz5d3d2S"
   },
   "outputs": [],
   "source": [
    "# This Python 3 environment comes with many helpful analytics libraries installed\n",
    "# It is defined by the kaggle/python Docker image: https://github.com/kaggle/docker-python\n",
    "# For example, here's several helpful packages to load\n",
    "\n",
    "import numpy as np # linear algebra\n",
    "import pandas as pd # data processing, CSV file I/O (e.g. pd.read_csv)\n",
    "\n",
    "# Input data files are available in the read-only \"../input/\" directory\n",
    "# For example, running this (by clicking run or pressing Shift+Enter) will list all files under the input directory\n",
    "import math\n",
    "import matplotlib.pyplot as plt\n",
    "import matplotlib.ticker as mtick\n",
    "from datetime import datetime, date\n",
    "from pylab import rcParams\n",
    "import seaborn as sns\n",
    "import haversine as hs\n",
    "import warnings\n",
    "warnings.filterwarnings('ignore')\n",
    "\n",
    "\n"
   ]
  },
  {
   "cell_type": "code",
   "execution_count": 3,
   "metadata": {
    "colab": {
     "base_uri": "https://localhost:8080/"
    },
    "id": "oWEb7xFs3nLz",
    "outputId": "7f02edf5-a5d4-4d52-897f-28239901cad5"
   },
   "outputs": [],
   "source": [
    "#from google.colab import drive\n",
    "#drive.mount('/content/drive/')"
   ]
  },
  {
   "cell_type": "code",
   "execution_count": 4,
   "metadata": {
    "colab": {
     "base_uri": "https://localhost:8080/"
    },
    "id": "5IKSQE0y3ojy",
    "outputId": "45b9ac0b-d3e4-4d2c-ca00-52fc62c17f48"
   },
   "outputs": [],
   "source": [
    "#%cd /content/drive/My Drive/Colab Notebooks/"
   ]
  },
  {
   "cell_type": "code",
   "execution_count": 5,
   "metadata": {
    "execution": {
     "iopub.execute_input": "2021-07-11T08:16:30.165563Z",
     "iopub.status.busy": "2021-07-11T08:16:30.165205Z",
     "iopub.status.idle": "2021-07-11T08:16:43.639180Z",
     "shell.execute_reply": "2021-07-11T08:16:43.638041Z",
     "shell.execute_reply.started": "2021-07-11T08:16:30.165535Z"
    },
    "id": "vdwNegBa3d2U"
   },
   "outputs": [],
   "source": [
    "# load the data\n",
    "fraudtest = pd.read_csv(r'D:\\archive\\fraudTest.csv')\n",
    "fraudtrain = pd.read_csv(r'D:\\archive\\fraudTrain.csv')\n",
    "\n",
    "# drop the unnamed column\n",
    "fraudtest.drop('Unnamed: 0', axis=1, inplace=True)\n",
    "fraudtrain.drop('Unnamed: 0', axis=1, inplace=True)\n",
    "\n",
    "# concanate both \n",
    "data = pd.concat([fraudtrain,fraudtest])"
   ]
  },
  {
   "cell_type": "code",
   "execution_count": 6,
   "metadata": {
    "execution": {
     "iopub.execute_input": "2021-07-11T08:16:43.641069Z",
     "iopub.status.busy": "2021-07-11T08:16:43.640751Z",
     "iopub.status.idle": "2021-07-11T08:16:43.653986Z",
     "shell.execute_reply": "2021-07-11T08:16:43.653089Z",
     "shell.execute_reply.started": "2021-07-11T08:16:43.641028Z"
    },
    "id": "-zEDY8Nm3d2U"
   },
   "outputs": [],
   "source": [
    "def dataset_overview(df):\n",
    "    display(df.head())\n",
    "    variables = df.shape[1]\n",
    "    observations = df.shape[0]\n",
    "    missings = df.isnull().sum().sum()\n",
    "    missings_per = round(100 * df.isnull().sum().sum()/len(df),3)\n",
    "    duplicated = df.duplicated().sum()\n",
    "    duplicated_per = round(100 * df.duplicated().sum()/len(df),3)\n",
    "    categ = len(df.select_dtypes(include=[np.number]).columns.values)\n",
    "    numer = len(df.select_dtypes(exclude=[np.number]).columns.values)\n",
    "    #names = ['Variables', 'Observations', 'Missings cells', 'Missing cells(%)','Duplicated rows','Duplicated rows(%)','Num cols','Categ cols']\n",
    "    stats = list([variables, observations, missings, missings_per,duplicated,duplicated_per, categ, numer])\n",
    "    over_df = pd.DataFrame({'General Overview':['Variables', 'Observations', 'Missings cells', 'Missing cells(%)','Duplicated rows','Duplicated rows(%)','Num cols','Categ cols'],\n",
    "                           '': stats})\n",
    "    over_df = over_df.set_index('General Overview')\n",
    "    print(over_df)\n",
    "        #################### categorical columns  ###############################################################\n",
    "    print('\\nVariable overview\\n')\n",
    "    print('Categorical variables')\n",
    "    for x in list(data.select_dtypes(exclude=[np.number]).columns.values):\n",
    "        print(x,'\\n')\n",
    "        print(f'unique values:         {len(df[x].unique())}')\n",
    "        print(f'Missing values:        {df[x].isnull().sum()}')\n",
    "        print(f'Missing values(%):     {df[x].isnull().sum()/len(data[x])}%')\n",
    "        print(f'Mode:                  {df[x].mode()[0]}')\n",
    "        print(f'Frequency:             {df[x].value_counts()[0]}\\n')\n",
    "        print(f'Data type:             {df[x].dtype}')\n",
    "    \n",
    "    #################### numerical columns  ###############################################################\n",
    "    print('\\nNumerical variables\\n')\n",
    "    for y in list(data.select_dtypes(include=[np.number]).columns.values):\n",
    "        print(y,'\\n')\n",
    "        print(f'unique values:     {len(df[x].unique())}')\n",
    "        print(f'Missing values:    {df[y].isnull().sum()}')\n",
    "        print(f'Missing values(%): {df[y].isnull().sum()/len(data[y])}%')\n",
    "        print(f'Minimum:           {df[y].min()}')\n",
    "        print(f'Median:            {df[y].median()}')\n",
    "        print(f'Mean:              {df[y].mean()}')\n",
    "        print(f'Max:               {df[y].max()}')\n",
    "        print(f'Data type:         {df[x].dtype}')"
   ]
  },
  {
   "cell_type": "code",
   "execution_count": 7,
   "metadata": {
    "colab": {
     "base_uri": "https://localhost:8080/",
     "height": 1000
    },
    "execution": {
     "iopub.execute_input": "2021-07-11T08:16:43.656248Z",
     "iopub.status.busy": "2021-07-11T08:16:43.655730Z",
     "iopub.status.idle": "2021-07-11T08:17:42.964280Z",
     "shell.execute_reply": "2021-07-11T08:17:42.963084Z",
     "shell.execute_reply.started": "2021-07-11T08:16:43.656174Z"
    },
    "id": "WbpMorRG3d2V",
    "outputId": "2b3ae9cf-e8ee-4f3f-d845-297b83b36ec2"
   },
   "outputs": [
    {
     "data": {
      "text/html": [
       "<div>\n",
       "<style scoped>\n",
       "    .dataframe tbody tr th:only-of-type {\n",
       "        vertical-align: middle;\n",
       "    }\n",
       "\n",
       "    .dataframe tbody tr th {\n",
       "        vertical-align: top;\n",
       "    }\n",
       "\n",
       "    .dataframe thead th {\n",
       "        text-align: right;\n",
       "    }\n",
       "</style>\n",
       "<table border=\"1\" class=\"dataframe\">\n",
       "  <thead>\n",
       "    <tr style=\"text-align: right;\">\n",
       "      <th></th>\n",
       "      <th>trans_date_trans_time</th>\n",
       "      <th>cc_num</th>\n",
       "      <th>merchant</th>\n",
       "      <th>category</th>\n",
       "      <th>amt</th>\n",
       "      <th>first</th>\n",
       "      <th>last</th>\n",
       "      <th>gender</th>\n",
       "      <th>street</th>\n",
       "      <th>city</th>\n",
       "      <th>...</th>\n",
       "      <th>lat</th>\n",
       "      <th>long</th>\n",
       "      <th>city_pop</th>\n",
       "      <th>job</th>\n",
       "      <th>dob</th>\n",
       "      <th>trans_num</th>\n",
       "      <th>unix_time</th>\n",
       "      <th>merch_lat</th>\n",
       "      <th>merch_long</th>\n",
       "      <th>is_fraud</th>\n",
       "    </tr>\n",
       "  </thead>\n",
       "  <tbody>\n",
       "    <tr>\n",
       "      <th>0</th>\n",
       "      <td>2019-01-01 00:00:18</td>\n",
       "      <td>2703186189652095</td>\n",
       "      <td>fraud_Rippin, Kub and Mann</td>\n",
       "      <td>misc_net</td>\n",
       "      <td>4.97</td>\n",
       "      <td>Jennifer</td>\n",
       "      <td>Banks</td>\n",
       "      <td>F</td>\n",
       "      <td>561 Perry Cove</td>\n",
       "      <td>Moravian Falls</td>\n",
       "      <td>...</td>\n",
       "      <td>36.0788</td>\n",
       "      <td>-81.1781</td>\n",
       "      <td>3495</td>\n",
       "      <td>Psychologist, counselling</td>\n",
       "      <td>1988-03-09</td>\n",
       "      <td>0b242abb623afc578575680df30655b9</td>\n",
       "      <td>1325376018</td>\n",
       "      <td>36.011293</td>\n",
       "      <td>-82.048315</td>\n",
       "      <td>0</td>\n",
       "    </tr>\n",
       "    <tr>\n",
       "      <th>1</th>\n",
       "      <td>2019-01-01 00:00:44</td>\n",
       "      <td>630423337322</td>\n",
       "      <td>fraud_Heller, Gutmann and Zieme</td>\n",
       "      <td>grocery_pos</td>\n",
       "      <td>107.23</td>\n",
       "      <td>Stephanie</td>\n",
       "      <td>Gill</td>\n",
       "      <td>F</td>\n",
       "      <td>43039 Riley Greens Suite 393</td>\n",
       "      <td>Orient</td>\n",
       "      <td>...</td>\n",
       "      <td>48.8878</td>\n",
       "      <td>-118.2105</td>\n",
       "      <td>149</td>\n",
       "      <td>Special educational needs teacher</td>\n",
       "      <td>1978-06-21</td>\n",
       "      <td>1f76529f8574734946361c461b024d99</td>\n",
       "      <td>1325376044</td>\n",
       "      <td>49.159047</td>\n",
       "      <td>-118.186462</td>\n",
       "      <td>0</td>\n",
       "    </tr>\n",
       "    <tr>\n",
       "      <th>2</th>\n",
       "      <td>2019-01-01 00:00:51</td>\n",
       "      <td>38859492057661</td>\n",
       "      <td>fraud_Lind-Buckridge</td>\n",
       "      <td>entertainment</td>\n",
       "      <td>220.11</td>\n",
       "      <td>Edward</td>\n",
       "      <td>Sanchez</td>\n",
       "      <td>M</td>\n",
       "      <td>594 White Dale Suite 530</td>\n",
       "      <td>Malad City</td>\n",
       "      <td>...</td>\n",
       "      <td>42.1808</td>\n",
       "      <td>-112.2620</td>\n",
       "      <td>4154</td>\n",
       "      <td>Nature conservation officer</td>\n",
       "      <td>1962-01-19</td>\n",
       "      <td>a1a22d70485983eac12b5b88dad1cf95</td>\n",
       "      <td>1325376051</td>\n",
       "      <td>43.150704</td>\n",
       "      <td>-112.154481</td>\n",
       "      <td>0</td>\n",
       "    </tr>\n",
       "    <tr>\n",
       "      <th>3</th>\n",
       "      <td>2019-01-01 00:01:16</td>\n",
       "      <td>3534093764340240</td>\n",
       "      <td>fraud_Kutch, Hermiston and Farrell</td>\n",
       "      <td>gas_transport</td>\n",
       "      <td>45.00</td>\n",
       "      <td>Jeremy</td>\n",
       "      <td>White</td>\n",
       "      <td>M</td>\n",
       "      <td>9443 Cynthia Court Apt. 038</td>\n",
       "      <td>Boulder</td>\n",
       "      <td>...</td>\n",
       "      <td>46.2306</td>\n",
       "      <td>-112.1138</td>\n",
       "      <td>1939</td>\n",
       "      <td>Patent attorney</td>\n",
       "      <td>1967-01-12</td>\n",
       "      <td>6b849c168bdad6f867558c3793159a81</td>\n",
       "      <td>1325376076</td>\n",
       "      <td>47.034331</td>\n",
       "      <td>-112.561071</td>\n",
       "      <td>0</td>\n",
       "    </tr>\n",
       "    <tr>\n",
       "      <th>4</th>\n",
       "      <td>2019-01-01 00:03:06</td>\n",
       "      <td>375534208663984</td>\n",
       "      <td>fraud_Keeling-Crist</td>\n",
       "      <td>misc_pos</td>\n",
       "      <td>41.96</td>\n",
       "      <td>Tyler</td>\n",
       "      <td>Garcia</td>\n",
       "      <td>M</td>\n",
       "      <td>408 Bradley Rest</td>\n",
       "      <td>Doe Hill</td>\n",
       "      <td>...</td>\n",
       "      <td>38.4207</td>\n",
       "      <td>-79.4629</td>\n",
       "      <td>99</td>\n",
       "      <td>Dance movement psychotherapist</td>\n",
       "      <td>1986-03-28</td>\n",
       "      <td>a41d7549acf90789359a9aa5346dcb46</td>\n",
       "      <td>1325376186</td>\n",
       "      <td>38.674999</td>\n",
       "      <td>-78.632459</td>\n",
       "      <td>0</td>\n",
       "    </tr>\n",
       "  </tbody>\n",
       "</table>\n",
       "<p>5 rows × 22 columns</p>\n",
       "</div>"
      ],
      "text/plain": [
       "  trans_date_trans_time            cc_num                            merchant  \\\n",
       "0   2019-01-01 00:00:18  2703186189652095          fraud_Rippin, Kub and Mann   \n",
       "1   2019-01-01 00:00:44      630423337322     fraud_Heller, Gutmann and Zieme   \n",
       "2   2019-01-01 00:00:51    38859492057661                fraud_Lind-Buckridge   \n",
       "3   2019-01-01 00:01:16  3534093764340240  fraud_Kutch, Hermiston and Farrell   \n",
       "4   2019-01-01 00:03:06   375534208663984                 fraud_Keeling-Crist   \n",
       "\n",
       "        category     amt      first     last gender  \\\n",
       "0       misc_net    4.97   Jennifer    Banks      F   \n",
       "1    grocery_pos  107.23  Stephanie     Gill      F   \n",
       "2  entertainment  220.11     Edward  Sanchez      M   \n",
       "3  gas_transport   45.00     Jeremy    White      M   \n",
       "4       misc_pos   41.96      Tyler   Garcia      M   \n",
       "\n",
       "                         street            city  ...      lat      long  \\\n",
       "0                561 Perry Cove  Moravian Falls  ...  36.0788  -81.1781   \n",
       "1  43039 Riley Greens Suite 393          Orient  ...  48.8878 -118.2105   \n",
       "2      594 White Dale Suite 530      Malad City  ...  42.1808 -112.2620   \n",
       "3   9443 Cynthia Court Apt. 038         Boulder  ...  46.2306 -112.1138   \n",
       "4              408 Bradley Rest        Doe Hill  ...  38.4207  -79.4629   \n",
       "\n",
       "   city_pop                                job         dob  \\\n",
       "0      3495          Psychologist, counselling  1988-03-09   \n",
       "1       149  Special educational needs teacher  1978-06-21   \n",
       "2      4154        Nature conservation officer  1962-01-19   \n",
       "3      1939                    Patent attorney  1967-01-12   \n",
       "4        99     Dance movement psychotherapist  1986-03-28   \n",
       "\n",
       "                          trans_num   unix_time  merch_lat  merch_long  \\\n",
       "0  0b242abb623afc578575680df30655b9  1325376018  36.011293  -82.048315   \n",
       "1  1f76529f8574734946361c461b024d99  1325376044  49.159047 -118.186462   \n",
       "2  a1a22d70485983eac12b5b88dad1cf95  1325376051  43.150704 -112.154481   \n",
       "3  6b849c168bdad6f867558c3793159a81  1325376076  47.034331 -112.561071   \n",
       "4  a41d7549acf90789359a9aa5346dcb46  1325376186  38.674999  -78.632459   \n",
       "\n",
       "   is_fraud  \n",
       "0         0  \n",
       "1         0  \n",
       "2         0  \n",
       "3         0  \n",
       "4         0  \n",
       "\n",
       "[5 rows x 22 columns]"
      ]
     },
     "metadata": {},
     "output_type": "display_data"
    },
    {
     "name": "stdout",
     "output_type": "stream",
     "text": [
      "                             \n",
      "General Overview             \n",
      "Variables                22.0\n",
      "Observations        1852394.0\n",
      "Missings cells            0.0\n",
      "Missing cells(%)          0.0\n",
      "Duplicated rows           0.0\n",
      "Duplicated rows(%)        0.0\n",
      "Num cols                 10.0\n",
      "Categ cols               12.0\n",
      "\n",
      "Variable overview\n",
      "\n",
      "Categorical variables\n",
      "trans_date_trans_time \n",
      "\n",
      "unique values:         1819551\n",
      "Missing values:        0\n",
      "Missing values(%):     0.0%\n",
      "Mode:                  2019-04-22 16:02:01\n",
      "Frequency:             4\n",
      "\n",
      "Data type:             object\n",
      "merchant \n",
      "\n",
      "unique values:         693\n",
      "Missing values:        0\n",
      "Missing values(%):     0.0%\n",
      "Mode:                  fraud_Kilback LLC\n",
      "Frequency:             6262\n",
      "\n",
      "Data type:             object\n",
      "category \n",
      "\n",
      "unique values:         14\n",
      "Missing values:        0\n",
      "Missing values(%):     0.0%\n",
      "Mode:                  gas_transport\n",
      "Frequency:             188029\n",
      "\n",
      "Data type:             object\n",
      "first \n",
      "\n",
      "unique values:         355\n",
      "Missing values:        0\n",
      "Missing values(%):     0.0%\n",
      "Mode:                  Christopher\n",
      "Frequency:             38112\n",
      "\n",
      "Data type:             object\n",
      "last \n",
      "\n",
      "unique values:         486\n",
      "Missing values:        0\n",
      "Missing values(%):     0.0%\n",
      "Mode:                  Smith\n",
      "Frequency:             40940\n",
      "\n",
      "Data type:             object\n",
      "gender \n",
      "\n",
      "unique values:         2\n",
      "Missing values:        0\n",
      "Missing values(%):     0.0%\n",
      "Mode:                  F\n",
      "Frequency:             1014749\n",
      "\n",
      "Data type:             object\n",
      "street \n",
      "\n",
      "unique values:         999\n",
      "Missing values:        0\n",
      "Missing values(%):     0.0%\n",
      "Mode:                  444 Robert Mews\n",
      "Frequency:             4392\n",
      "\n",
      "Data type:             object\n",
      "city \n",
      "\n",
      "unique values:         906\n",
      "Missing values:        0\n",
      "Missing values(%):     0.0%\n",
      "Mode:                  Birmingham\n",
      "Frequency:             8040\n",
      "\n",
      "Data type:             object\n",
      "state \n",
      "\n",
      "unique values:         51\n",
      "Missing values:        0\n",
      "Missing values(%):     0.0%\n",
      "Mode:                  TX\n",
      "Frequency:             135269\n",
      "\n",
      "Data type:             object\n",
      "job \n",
      "\n",
      "unique values:         497\n",
      "Missing values:        0\n",
      "Missing values(%):     0.0%\n",
      "Mode:                  Film/video editor\n",
      "Frequency:             13898\n",
      "\n",
      "Data type:             object\n",
      "dob \n",
      "\n",
      "unique values:         984\n",
      "Missing values:        0\n",
      "Missing values(%):     0.0%\n",
      "Mode:                  1977-03-23\n",
      "Frequency:             8044\n",
      "\n",
      "Data type:             object\n",
      "trans_num \n",
      "\n",
      "unique values:         1852394\n",
      "Missing values:        0\n",
      "Missing values(%):     0.0%\n",
      "Mode:                  00000ecad06b03d3a8d34b4e30b5ce3b\n",
      "Frequency:             1\n",
      "\n",
      "Data type:             object\n",
      "\n",
      "Numerical variables\n",
      "\n",
      "cc_num \n",
      "\n",
      "unique values:     1852394\n",
      "Missing values:    0\n",
      "Missing values(%): 0.0%\n",
      "Minimum:           60416207185\n",
      "Median:            3521417320836166.0\n",
      "Mean:              4.1738603839400646e+17\n",
      "Max:               4992346398065154184\n",
      "Data type:         object\n",
      "amt \n",
      "\n",
      "unique values:     1852394\n",
      "Missing values:    0\n",
      "Missing values(%): 0.0%\n",
      "Minimum:           1.0\n",
      "Median:            47.45\n",
      "Mean:              70.06356747538582\n",
      "Max:               28948.9\n",
      "Data type:         object\n",
      "zip \n",
      "\n",
      "unique values:     1852394\n",
      "Missing values:    0\n",
      "Missing values(%): 0.0%\n",
      "Minimum:           1257\n",
      "Median:            48174.0\n",
      "Mean:              48813.25819075207\n",
      "Max:               99921\n",
      "Data type:         object\n",
      "lat \n",
      "\n",
      "unique values:     1852394\n",
      "Missing values:    0\n",
      "Missing values(%): 0.0%\n",
      "Minimum:           20.0271\n",
      "Median:            39.3543\n",
      "Mean:              38.53931097925852\n",
      "Max:               66.6933\n",
      "Data type:         object\n",
      "long \n",
      "\n",
      "unique values:     1852394\n",
      "Missing values:    0\n",
      "Missing values(%): 0.0%\n",
      "Minimum:           -165.6723\n",
      "Median:            -87.4769\n",
      "Mean:              -90.22783229063936\n",
      "Max:               -67.9503\n",
      "Data type:         object\n",
      "city_pop \n",
      "\n",
      "unique values:     1852394\n",
      "Missing values:    0\n",
      "Missing values(%): 0.0%\n",
      "Minimum:           23\n",
      "Median:            2443.0\n",
      "Mean:              88643.67450931066\n",
      "Max:               2906700\n",
      "Data type:         object\n",
      "unix_time \n",
      "\n",
      "unique values:     1852394\n",
      "Missing values:    0\n",
      "Missing values(%): 0.0%\n",
      "Minimum:           1325376018\n",
      "Median:            1357089331.0\n",
      "Mean:              1358674218.8343642\n",
      "Max:               1388534374\n",
      "Data type:         object\n",
      "merch_lat \n",
      "\n",
      "unique values:     1852394\n",
      "Missing values:    0\n",
      "Missing values(%): 0.0%\n",
      "Minimum:           19.027422\n",
      "Median:            39.368900499999995\n",
      "Mean:              38.53897596705935\n",
      "Max:               67.510267\n",
      "Data type:         object\n",
      "merch_long \n",
      "\n",
      "unique values:     1852394\n",
      "Missing values:    0\n",
      "Missing values(%): 0.0%\n",
      "Minimum:           -166.671575\n",
      "Median:            -87.44069350000001\n",
      "Mean:              -90.22793950913363\n",
      "Max:               -66.950902\n",
      "Data type:         object\n",
      "is_fraud \n",
      "\n",
      "unique values:     1852394\n",
      "Missing values:    0\n",
      "Missing values(%): 0.0%\n",
      "Minimum:           0\n",
      "Median:            0.0\n",
      "Mean:              0.005210014716091717\n",
      "Max:               1\n",
      "Data type:         object\n"
     ]
    }
   ],
   "source": [
    "dataset_overview(data)"
   ]
  },
  {
   "cell_type": "markdown",
   "metadata": {
    "id": "FyScxZK53d2V"
   },
   "source": [
    "From the above we can observe that we have 22 columns and 1852394 observations. \n",
    "\n",
    "No missing variables, no duplicates, having some data types that doesn't correspond to the variables for example on date columns (trans_date_trans_time and dob).\n",
    "\n",
    "The next step, will be to change those data types, and create some columns which can help us in our analysis"
   ]
  },
  {
   "cell_type": "markdown",
   "metadata": {
    "id": "LJUNqGrW3d2W"
   },
   "source": [
    "# Data Cleansing"
   ]
  },
  {
   "cell_type": "code",
   "execution_count": 8,
   "metadata": {
    "execution": {
     "iopub.execute_input": "2021-07-11T08:17:42.966749Z",
     "iopub.status.busy": "2021-07-11T08:17:42.966304Z",
     "iopub.status.idle": "2021-07-11T08:17:42.974028Z",
     "shell.execute_reply": "2021-07-11T08:17:42.972966Z",
     "shell.execute_reply.started": "2021-07-11T08:17:42.966694Z"
    },
    "id": "JYS4JXEv3d2W"
   },
   "outputs": [],
   "source": [
    "# Function to calculate the distance between two adress\n",
    "def haversine_vectorize(lon1, lat1, lon2, lat2):\n",
    "\n",
    "    lon1, lat1, lon2, lat2 = map(np.radians, [lon1, lat1, lon2, lat2])\n",
    "\n",
    "    newlon = lon2 - lon1\n",
    "    newlat = lat2 - lat1\n",
    "\n",
    "    haver_formula = np.sin(newlat/2.0)**2 + np.cos(lat1) * np.cos(lat2) * np.sin(newlon/2.0)**2\n",
    "\n",
    "    dist = 2 * np.arcsin(np.sqrt(haver_formula ))\n",
    "    km = 6367 * dist #6367 for distance in KM for miles use 3958\n",
    "    return km"
   ]
  },
  {
   "cell_type": "code",
   "execution_count": 9,
   "metadata": {
    "execution": {
     "iopub.execute_input": "2021-07-11T08:17:42.975915Z",
     "iopub.status.busy": "2021-07-11T08:17:42.975589Z",
     "iopub.status.idle": "2021-07-11T08:17:44.742454Z",
     "shell.execute_reply": "2021-07-11T08:17:44.741500Z",
     "shell.execute_reply.started": "2021-07-11T08:17:42.975881Z"
    },
    "id": "XJqMgO9M3d2X"
   },
   "outputs": [],
   "source": [
    "# clean date of DOB and trans_date_trans_time\n",
    "dates_list = ['trans_date_trans_time','dob']\n",
    "for x in dates_list:\n",
    "    data[x] = pd.to_datetime(data[x])"
   ]
  },
  {
   "cell_type": "code",
   "execution_count": 10,
   "metadata": {
    "execution": {
     "iopub.execute_input": "2021-07-11T08:17:44.746396Z",
     "iopub.status.busy": "2021-07-11T08:17:44.746032Z",
     "iopub.status.idle": "2021-07-11T08:17:58.642394Z",
     "shell.execute_reply": "2021-07-11T08:17:58.641370Z",
     "shell.execute_reply.started": "2021-07-11T08:17:44.746366Z"
    },
    "id": "xacROAic3d2X"
   },
   "outputs": [
    {
     "ename": "MemoryError",
     "evalue": "Unable to allocate 84.8 MiB for an array with shape (6, 1852394) and data type int64",
     "output_type": "error",
     "traceback": [
      "\u001b[1;31m---------------------------------------------------------------------------\u001b[0m",
      "\u001b[1;31mMemoryError\u001b[0m                               Traceback (most recent call last)",
      "Input \u001b[1;32mIn [10]\u001b[0m, in \u001b[0;36m<cell line: 11>\u001b[1;34m()\u001b[0m\n\u001b[0;32m      9\u001b[0m \u001b[38;5;66;03m# get the full name \u001b[39;00m\n\u001b[0;32m     10\u001b[0m data[\u001b[38;5;124m'\u001b[39m\u001b[38;5;124mnames\u001b[39m\u001b[38;5;124m'\u001b[39m] \u001b[38;5;241m=\u001b[39m data[\u001b[38;5;124m'\u001b[39m\u001b[38;5;124mfirst\u001b[39m\u001b[38;5;124m'\u001b[39m] \u001b[38;5;241m+\u001b[39m \u001b[38;5;124m'\u001b[39m\u001b[38;5;124m \u001b[39m\u001b[38;5;124m'\u001b[39m \u001b[38;5;241m+\u001b[39m data[\u001b[38;5;124m'\u001b[39m\u001b[38;5;124mlast\u001b[39m\u001b[38;5;124m'\u001b[39m]\n\u001b[1;32m---> 11\u001b[0m \u001b[43mdata\u001b[49m\u001b[38;5;241;43m.\u001b[39;49m\u001b[43mdrop\u001b[49m\u001b[43m(\u001b[49m\u001b[43m[\u001b[49m\u001b[38;5;124;43m'\u001b[39;49m\u001b[38;5;124;43mfirst\u001b[39;49m\u001b[38;5;124;43m'\u001b[39;49m\u001b[43m,\u001b[49m\u001b[38;5;124;43m'\u001b[39;49m\u001b[38;5;124;43mlast\u001b[39;49m\u001b[38;5;124;43m'\u001b[39;49m\u001b[43m]\u001b[49m\u001b[43m,\u001b[49m\u001b[43m \u001b[49m\u001b[43maxis\u001b[49m\u001b[38;5;241;43m=\u001b[39;49m\u001b[38;5;241;43m1\u001b[39;49m\u001b[43m,\u001b[49m\u001b[43m \u001b[49m\u001b[43minplace\u001b[49m\u001b[38;5;241;43m=\u001b[39;49m\u001b[38;5;28;43;01mTrue\u001b[39;49;00m\u001b[43m)\u001b[49m\n\u001b[0;32m     12\u001b[0m \u001b[38;5;66;03m# create the column where the if the population is less than 25% to be rural, 25-50% ssemi-urban, and more than 50% urban\u001b[39;00m\n\u001b[0;32m     13\u001b[0m data[\u001b[38;5;124m'\u001b[39m\u001b[38;5;124mresidence\u001b[39m\u001b[38;5;124m'\u001b[39m] \u001b[38;5;241m=\u001b[39m pd\u001b[38;5;241m.\u001b[39mqcut(data\u001b[38;5;241m.\u001b[39mcity_pop, q\u001b[38;5;241m=\u001b[39m[\u001b[38;5;241m0\u001b[39m, \u001b[38;5;241m.25\u001b[39m, \u001b[38;5;241m.75\u001b[39m, \u001b[38;5;241m1\u001b[39m], labels\u001b[38;5;241m=\u001b[39m[\u001b[38;5;124m'\u001b[39m\u001b[38;5;124mrural\u001b[39m\u001b[38;5;124m'\u001b[39m, \u001b[38;5;124m'\u001b[39m\u001b[38;5;124msemi_urban\u001b[39m\u001b[38;5;124m'\u001b[39m, \u001b[38;5;124m'\u001b[39m\u001b[38;5;124murban\u001b[39m\u001b[38;5;124m'\u001b[39m])\n",
      "File \u001b[1;32m~\\anaconda3\\lib\\site-packages\\pandas\\util\\_decorators.py:311\u001b[0m, in \u001b[0;36mdeprecate_nonkeyword_arguments.<locals>.decorate.<locals>.wrapper\u001b[1;34m(*args, **kwargs)\u001b[0m\n\u001b[0;32m    305\u001b[0m \u001b[38;5;28;01mif\u001b[39;00m \u001b[38;5;28mlen\u001b[39m(args) \u001b[38;5;241m>\u001b[39m num_allow_args:\n\u001b[0;32m    306\u001b[0m     warnings\u001b[38;5;241m.\u001b[39mwarn(\n\u001b[0;32m    307\u001b[0m         msg\u001b[38;5;241m.\u001b[39mformat(arguments\u001b[38;5;241m=\u001b[39marguments),\n\u001b[0;32m    308\u001b[0m         \u001b[38;5;167;01mFutureWarning\u001b[39;00m,\n\u001b[0;32m    309\u001b[0m         stacklevel\u001b[38;5;241m=\u001b[39mstacklevel,\n\u001b[0;32m    310\u001b[0m     )\n\u001b[1;32m--> 311\u001b[0m \u001b[38;5;28;01mreturn\u001b[39;00m func(\u001b[38;5;241m*\u001b[39margs, \u001b[38;5;241m*\u001b[39m\u001b[38;5;241m*\u001b[39mkwargs)\n",
      "File \u001b[1;32m~\\anaconda3\\lib\\site-packages\\pandas\\core\\frame.py:4954\u001b[0m, in \u001b[0;36mDataFrame.drop\u001b[1;34m(self, labels, axis, index, columns, level, inplace, errors)\u001b[0m\n\u001b[0;32m   4806\u001b[0m \u001b[38;5;129m@deprecate_nonkeyword_arguments\u001b[39m(version\u001b[38;5;241m=\u001b[39m\u001b[38;5;28;01mNone\u001b[39;00m, allowed_args\u001b[38;5;241m=\u001b[39m[\u001b[38;5;124m\"\u001b[39m\u001b[38;5;124mself\u001b[39m\u001b[38;5;124m\"\u001b[39m, \u001b[38;5;124m\"\u001b[39m\u001b[38;5;124mlabels\u001b[39m\u001b[38;5;124m\"\u001b[39m])\n\u001b[0;32m   4807\u001b[0m \u001b[38;5;28;01mdef\u001b[39;00m \u001b[38;5;21mdrop\u001b[39m(\n\u001b[0;32m   4808\u001b[0m     \u001b[38;5;28mself\u001b[39m,\n\u001b[1;32m   (...)\u001b[0m\n\u001b[0;32m   4815\u001b[0m     errors: \u001b[38;5;28mstr\u001b[39m \u001b[38;5;241m=\u001b[39m \u001b[38;5;124m\"\u001b[39m\u001b[38;5;124mraise\u001b[39m\u001b[38;5;124m\"\u001b[39m,\n\u001b[0;32m   4816\u001b[0m ):\n\u001b[0;32m   4817\u001b[0m     \u001b[38;5;124;03m\"\"\"\u001b[39;00m\n\u001b[0;32m   4818\u001b[0m \u001b[38;5;124;03m    Drop specified labels from rows or columns.\u001b[39;00m\n\u001b[0;32m   4819\u001b[0m \n\u001b[1;32m   (...)\u001b[0m\n\u001b[0;32m   4952\u001b[0m \u001b[38;5;124;03m            weight  1.0     0.8\u001b[39;00m\n\u001b[0;32m   4953\u001b[0m \u001b[38;5;124;03m    \"\"\"\u001b[39;00m\n\u001b[1;32m-> 4954\u001b[0m     \u001b[38;5;28;01mreturn\u001b[39;00m \u001b[38;5;28;43msuper\u001b[39;49m\u001b[43m(\u001b[49m\u001b[43m)\u001b[49m\u001b[38;5;241;43m.\u001b[39;49m\u001b[43mdrop\u001b[49m\u001b[43m(\u001b[49m\n\u001b[0;32m   4955\u001b[0m \u001b[43m        \u001b[49m\u001b[43mlabels\u001b[49m\u001b[38;5;241;43m=\u001b[39;49m\u001b[43mlabels\u001b[49m\u001b[43m,\u001b[49m\n\u001b[0;32m   4956\u001b[0m \u001b[43m        \u001b[49m\u001b[43maxis\u001b[49m\u001b[38;5;241;43m=\u001b[39;49m\u001b[43maxis\u001b[49m\u001b[43m,\u001b[49m\n\u001b[0;32m   4957\u001b[0m \u001b[43m        \u001b[49m\u001b[43mindex\u001b[49m\u001b[38;5;241;43m=\u001b[39;49m\u001b[43mindex\u001b[49m\u001b[43m,\u001b[49m\n\u001b[0;32m   4958\u001b[0m \u001b[43m        \u001b[49m\u001b[43mcolumns\u001b[49m\u001b[38;5;241;43m=\u001b[39;49m\u001b[43mcolumns\u001b[49m\u001b[43m,\u001b[49m\n\u001b[0;32m   4959\u001b[0m \u001b[43m        \u001b[49m\u001b[43mlevel\u001b[49m\u001b[38;5;241;43m=\u001b[39;49m\u001b[43mlevel\u001b[49m\u001b[43m,\u001b[49m\n\u001b[0;32m   4960\u001b[0m \u001b[43m        \u001b[49m\u001b[43minplace\u001b[49m\u001b[38;5;241;43m=\u001b[39;49m\u001b[43minplace\u001b[49m\u001b[43m,\u001b[49m\n\u001b[0;32m   4961\u001b[0m \u001b[43m        \u001b[49m\u001b[43merrors\u001b[49m\u001b[38;5;241;43m=\u001b[39;49m\u001b[43merrors\u001b[49m\u001b[43m,\u001b[49m\n\u001b[0;32m   4962\u001b[0m \u001b[43m    \u001b[49m\u001b[43m)\u001b[49m\n",
      "File \u001b[1;32m~\\anaconda3\\lib\\site-packages\\pandas\\core\\generic.py:4267\u001b[0m, in \u001b[0;36mNDFrame.drop\u001b[1;34m(self, labels, axis, index, columns, level, inplace, errors)\u001b[0m\n\u001b[0;32m   4265\u001b[0m \u001b[38;5;28;01mfor\u001b[39;00m axis, labels \u001b[38;5;129;01min\u001b[39;00m axes\u001b[38;5;241m.\u001b[39mitems():\n\u001b[0;32m   4266\u001b[0m     \u001b[38;5;28;01mif\u001b[39;00m labels \u001b[38;5;129;01mis\u001b[39;00m \u001b[38;5;129;01mnot\u001b[39;00m \u001b[38;5;28;01mNone\u001b[39;00m:\n\u001b[1;32m-> 4267\u001b[0m         obj \u001b[38;5;241m=\u001b[39m \u001b[43mobj\u001b[49m\u001b[38;5;241;43m.\u001b[39;49m\u001b[43m_drop_axis\u001b[49m\u001b[43m(\u001b[49m\u001b[43mlabels\u001b[49m\u001b[43m,\u001b[49m\u001b[43m \u001b[49m\u001b[43maxis\u001b[49m\u001b[43m,\u001b[49m\u001b[43m \u001b[49m\u001b[43mlevel\u001b[49m\u001b[38;5;241;43m=\u001b[39;49m\u001b[43mlevel\u001b[49m\u001b[43m,\u001b[49m\u001b[43m \u001b[49m\u001b[43merrors\u001b[49m\u001b[38;5;241;43m=\u001b[39;49m\u001b[43merrors\u001b[49m\u001b[43m)\u001b[49m\n\u001b[0;32m   4269\u001b[0m \u001b[38;5;28;01mif\u001b[39;00m inplace:\n\u001b[0;32m   4270\u001b[0m     \u001b[38;5;28mself\u001b[39m\u001b[38;5;241m.\u001b[39m_update_inplace(obj)\n",
      "File \u001b[1;32m~\\anaconda3\\lib\\site-packages\\pandas\\core\\generic.py:4350\u001b[0m, in \u001b[0;36mNDFrame._drop_axis\u001b[1;34m(self, labels, axis, level, errors, consolidate, only_slice)\u001b[0m\n\u001b[0;32m   4347\u001b[0m     new_axis \u001b[38;5;241m=\u001b[39m axis\u001b[38;5;241m.\u001b[39mtake(indexer)\n\u001b[0;32m   4349\u001b[0m bm_axis \u001b[38;5;241m=\u001b[39m \u001b[38;5;28mself\u001b[39m\u001b[38;5;241m.\u001b[39mndim \u001b[38;5;241m-\u001b[39m axis_num \u001b[38;5;241m-\u001b[39m \u001b[38;5;241m1\u001b[39m\n\u001b[1;32m-> 4350\u001b[0m new_mgr \u001b[38;5;241m=\u001b[39m \u001b[38;5;28;43mself\u001b[39;49m\u001b[38;5;241;43m.\u001b[39;49m\u001b[43m_mgr\u001b[49m\u001b[38;5;241;43m.\u001b[39;49m\u001b[43mreindex_indexer\u001b[49m\u001b[43m(\u001b[49m\n\u001b[0;32m   4351\u001b[0m \u001b[43m    \u001b[49m\u001b[43mnew_axis\u001b[49m\u001b[43m,\u001b[49m\n\u001b[0;32m   4352\u001b[0m \u001b[43m    \u001b[49m\u001b[43mindexer\u001b[49m\u001b[43m,\u001b[49m\n\u001b[0;32m   4353\u001b[0m \u001b[43m    \u001b[49m\u001b[43maxis\u001b[49m\u001b[38;5;241;43m=\u001b[39;49m\u001b[43mbm_axis\u001b[49m\u001b[43m,\u001b[49m\n\u001b[0;32m   4354\u001b[0m \u001b[43m    \u001b[49m\u001b[43mallow_dups\u001b[49m\u001b[38;5;241;43m=\u001b[39;49m\u001b[38;5;28;43;01mTrue\u001b[39;49;00m\u001b[43m,\u001b[49m\n\u001b[0;32m   4355\u001b[0m \u001b[43m    \u001b[49m\u001b[43mconsolidate\u001b[49m\u001b[38;5;241;43m=\u001b[39;49m\u001b[43mconsolidate\u001b[49m\u001b[43m,\u001b[49m\n\u001b[0;32m   4356\u001b[0m \u001b[43m    \u001b[49m\u001b[43monly_slice\u001b[49m\u001b[38;5;241;43m=\u001b[39;49m\u001b[43monly_slice\u001b[49m\u001b[43m,\u001b[49m\n\u001b[0;32m   4357\u001b[0m \u001b[43m\u001b[49m\u001b[43m)\u001b[49m\n\u001b[0;32m   4358\u001b[0m result \u001b[38;5;241m=\u001b[39m \u001b[38;5;28mself\u001b[39m\u001b[38;5;241m.\u001b[39m_constructor(new_mgr)\n\u001b[0;32m   4359\u001b[0m \u001b[38;5;28;01mif\u001b[39;00m \u001b[38;5;28mself\u001b[39m\u001b[38;5;241m.\u001b[39mndim \u001b[38;5;241m==\u001b[39m \u001b[38;5;241m1\u001b[39m:\n",
      "File \u001b[1;32m~\\anaconda3\\lib\\site-packages\\pandas\\core\\internals\\managers.py:675\u001b[0m, in \u001b[0;36mBaseBlockManager.reindex_indexer\u001b[1;34m(self, new_axis, indexer, axis, fill_value, allow_dups, copy, consolidate, only_slice, use_na_proxy)\u001b[0m\n\u001b[0;32m    672\u001b[0m     \u001b[38;5;28;01mreturn\u001b[39;00m result\n\u001b[0;32m    674\u001b[0m \u001b[38;5;28;01mif\u001b[39;00m consolidate:\n\u001b[1;32m--> 675\u001b[0m     \u001b[38;5;28;43mself\u001b[39;49m\u001b[38;5;241;43m.\u001b[39;49m\u001b[43m_consolidate_inplace\u001b[49m\u001b[43m(\u001b[49m\u001b[43m)\u001b[49m\n\u001b[0;32m    677\u001b[0m \u001b[38;5;66;03m# some axes don't allow reindexing with dups\u001b[39;00m\n\u001b[0;32m    678\u001b[0m \u001b[38;5;28;01mif\u001b[39;00m \u001b[38;5;129;01mnot\u001b[39;00m allow_dups:\n",
      "File \u001b[1;32m~\\anaconda3\\lib\\site-packages\\pandas\\core\\internals\\managers.py:1685\u001b[0m, in \u001b[0;36mBlockManager._consolidate_inplace\u001b[1;34m(self)\u001b[0m\n\u001b[0;32m   1683\u001b[0m \u001b[38;5;28;01mdef\u001b[39;00m \u001b[38;5;21m_consolidate_inplace\u001b[39m(\u001b[38;5;28mself\u001b[39m) \u001b[38;5;241m-\u001b[39m\u001b[38;5;241m>\u001b[39m \u001b[38;5;28;01mNone\u001b[39;00m:\n\u001b[0;32m   1684\u001b[0m     \u001b[38;5;28;01mif\u001b[39;00m \u001b[38;5;129;01mnot\u001b[39;00m \u001b[38;5;28mself\u001b[39m\u001b[38;5;241m.\u001b[39mis_consolidated():\n\u001b[1;32m-> 1685\u001b[0m         \u001b[38;5;28mself\u001b[39m\u001b[38;5;241m.\u001b[39mblocks \u001b[38;5;241m=\u001b[39m \u001b[38;5;28mtuple\u001b[39m(\u001b[43m_consolidate\u001b[49m\u001b[43m(\u001b[49m\u001b[38;5;28;43mself\u001b[39;49m\u001b[38;5;241;43m.\u001b[39;49m\u001b[43mblocks\u001b[49m\u001b[43m)\u001b[49m)\n\u001b[0;32m   1686\u001b[0m         \u001b[38;5;28mself\u001b[39m\u001b[38;5;241m.\u001b[39m_is_consolidated \u001b[38;5;241m=\u001b[39m \u001b[38;5;28;01mTrue\u001b[39;00m\n\u001b[0;32m   1687\u001b[0m         \u001b[38;5;28mself\u001b[39m\u001b[38;5;241m.\u001b[39m_known_consolidated \u001b[38;5;241m=\u001b[39m \u001b[38;5;28;01mTrue\u001b[39;00m\n",
      "File \u001b[1;32m~\\anaconda3\\lib\\site-packages\\pandas\\core\\internals\\managers.py:2084\u001b[0m, in \u001b[0;36m_consolidate\u001b[1;34m(blocks)\u001b[0m\n\u001b[0;32m   2082\u001b[0m new_blocks: \u001b[38;5;28mlist\u001b[39m[Block] \u001b[38;5;241m=\u001b[39m []\n\u001b[0;32m   2083\u001b[0m \u001b[38;5;28;01mfor\u001b[39;00m (_can_consolidate, dtype), group_blocks \u001b[38;5;129;01min\u001b[39;00m grouper:\n\u001b[1;32m-> 2084\u001b[0m     merged_blocks \u001b[38;5;241m=\u001b[39m \u001b[43m_merge_blocks\u001b[49m\u001b[43m(\u001b[49m\n\u001b[0;32m   2085\u001b[0m \u001b[43m        \u001b[49m\u001b[38;5;28;43mlist\u001b[39;49m\u001b[43m(\u001b[49m\u001b[43mgroup_blocks\u001b[49m\u001b[43m)\u001b[49m\u001b[43m,\u001b[49m\u001b[43m \u001b[49m\u001b[43mdtype\u001b[49m\u001b[38;5;241;43m=\u001b[39;49m\u001b[43mdtype\u001b[49m\u001b[43m,\u001b[49m\u001b[43m \u001b[49m\u001b[43mcan_consolidate\u001b[49m\u001b[38;5;241;43m=\u001b[39;49m\u001b[43m_can_consolidate\u001b[49m\n\u001b[0;32m   2086\u001b[0m \u001b[43m    \u001b[49m\u001b[43m)\u001b[49m\n\u001b[0;32m   2087\u001b[0m     new_blocks \u001b[38;5;241m=\u001b[39m extend_blocks(merged_blocks, new_blocks)\n\u001b[0;32m   2088\u001b[0m \u001b[38;5;28;01mreturn\u001b[39;00m new_blocks\n",
      "File \u001b[1;32m~\\anaconda3\\lib\\site-packages\\pandas\\core\\internals\\managers.py:2118\u001b[0m, in \u001b[0;36m_merge_blocks\u001b[1;34m(blocks, dtype, can_consolidate)\u001b[0m\n\u001b[0;32m   2115\u001b[0m     new_values \u001b[38;5;241m=\u001b[39m bvals2[\u001b[38;5;241m0\u001b[39m]\u001b[38;5;241m.\u001b[39m_concat_same_type(bvals2, axis\u001b[38;5;241m=\u001b[39m\u001b[38;5;241m0\u001b[39m)\n\u001b[0;32m   2117\u001b[0m argsort \u001b[38;5;241m=\u001b[39m np\u001b[38;5;241m.\u001b[39margsort(new_mgr_locs)\n\u001b[1;32m-> 2118\u001b[0m new_values \u001b[38;5;241m=\u001b[39m \u001b[43mnew_values\u001b[49m\u001b[43m[\u001b[49m\u001b[43margsort\u001b[49m\u001b[43m]\u001b[49m\n\u001b[0;32m   2119\u001b[0m new_mgr_locs \u001b[38;5;241m=\u001b[39m new_mgr_locs[argsort]\n\u001b[0;32m   2121\u001b[0m bp \u001b[38;5;241m=\u001b[39m BlockPlacement(new_mgr_locs)\n",
      "\u001b[1;31mMemoryError\u001b[0m: Unable to allocate 84.8 MiB for an array with shape (6, 1852394) and data type int64"
     ]
    }
   ],
   "source": [
    "# get hours from the transaction\n",
    "data['trans_hour'] = data['trans_date_trans_time'].dt.hour\n",
    "# days when the transaction occured \n",
    "data['day_of_week'] =data['trans_date_trans_time'].dt.day_name()\n",
    "# period when the transaction occured\n",
    "data['year_month'] =data['trans_date_trans_time'].dt.to_period('M')\n",
    "# the age of the client when the transaction occured\n",
    "data['age'] = (np.round((data['trans_date_trans_time'] - data['dob'])/np.timedelta64(1,'Y')))\n",
    "# get the full name \n",
    "data['names'] = data['first'] + ' ' + data['last']\n",
    "data.drop(['first','last'], axis=1, inplace=True)\n",
    "# create the column where the if the population is less than 25% to be rural, 25-50% ssemi-urban, and more than 50% urban\n",
    "data['residence'] = pd.qcut(data.city_pop, q=[0, .25, .75, 1], labels=['rural', 'semi_urban', 'urban'])\n",
    "\n",
    "# concanate the lat and longitude of client into one column and the same for the merchant location\n",
    "data['lat_long'] = tuple(zip(*data[['lat','long']].values.T))\n",
    "data['merch_ad'] = tuple(zip(*data[['merch_lat','merch_long']].values.T))"
   ]
  },
  {
   "cell_type": "code",
   "execution_count": null,
   "metadata": {
    "execution": {
     "iopub.execute_input": "2021-07-11T08:17:58.643946Z",
     "iopub.status.busy": "2021-07-11T08:17:58.643631Z",
     "iopub.status.idle": "2021-07-11T08:17:58.827344Z",
     "shell.execute_reply": "2021-07-11T08:17:58.826188Z",
     "shell.execute_reply.started": "2021-07-11T08:17:58.643914Z"
    },
    "id": "nePft13C3d2X"
   },
   "outputs": [],
   "source": [
    "# create the distance column\n",
    "data['distance'] = haversine_vectorize(data['long'],data['lat'],data['merch_long'],data['merch_lat'])"
   ]
  },
  {
   "cell_type": "markdown",
   "metadata": {
    "id": "E2JVIVME3d2Y"
   },
   "source": [
    "# Exploratory Data Analysis (EDA)\n",
    "## Univariate Analysis"
   ]
  },
  {
   "cell_type": "code",
   "execution_count": null,
   "metadata": {
    "execution": {
     "iopub.execute_input": "2021-07-11T08:17:58.830079Z",
     "iopub.status.busy": "2021-07-11T08:17:58.829753Z",
     "iopub.status.idle": "2021-07-11T08:17:58.840750Z",
     "shell.execute_reply": "2021-07-11T08:17:58.839590Z",
     "shell.execute_reply.started": "2021-07-11T08:17:58.830036Z"
    },
    "id": "g03fIirm3d2Y"
   },
   "outputs": [],
   "source": [
    "# Distribution graphs (histogram/bar graph) of column data\n",
    "def plotDistribution(df, nGraphShown, nGraphPerRow):\n",
    "    nunique = df.nunique()\n",
    "    df = df[[col for col in df if nunique[col] > 1 and nunique[col] < 30]] # For displaying purposes, pick columns that have between 1 and 30 unique values\n",
    "    nRow, nCol = df.shape\n",
    "    columnNames = list(df)\n",
    "    nGraphRow = (nCol + nGraphPerRow - 1) / nGraphPerRow\n",
    "    plt.figure(num = None, figsize = (6 * nGraphPerRow, 8 * nGraphRow), dpi = 80, facecolor = 'w', edgecolor = 'k')\n",
    "    for i in range(min(nCol, nGraphShown)):\n",
    "        plt.subplot(nGraphRow, nGraphPerRow, i + 1)\n",
    "        columnDf = df.iloc[:, i]\n",
    "        if (not np.issubdtype(type(columnDf.iloc[0]), np.number)):\n",
    "            valueCounts = columnDf.value_counts()\n",
    "            valueCounts.plot.bar()\n",
    "        else:\n",
    "            columnDf.hist()\n",
    "        plt.ylabel('counts')\n",
    "        plt.xticks(rotation = 90)\n",
    "        plt.title(f'{columnNames[i]} (column {i})')\n",
    "    plt.tight_layout(pad = 1.0, w_pad = 1.0, h_pad = 1.0)\n",
    "    plt.show()"
   ]
  },
  {
   "cell_type": "code",
   "execution_count": null,
   "metadata": {
    "colab": {
     "base_uri": "https://localhost:8080/",
     "height": 1000
    },
    "execution": {
     "iopub.execute_input": "2021-07-11T08:17:58.843884Z",
     "iopub.status.busy": "2021-07-11T08:17:58.843398Z",
     "iopub.status.idle": "2021-07-11T08:18:14.293667Z",
     "shell.execute_reply": "2021-07-11T08:18:14.292589Z",
     "shell.execute_reply.started": "2021-07-11T08:17:58.843837Z"
    },
    "id": "HGWCqUr93d2Y",
    "outputId": "316a7613-5dcc-491b-8209-5c5979b54f9d"
   },
   "outputs": [],
   "source": [
    "sns.set(style='whitegrid')\n",
    "plotDistribution(data, 10, 3)"
   ]
  },
  {
   "cell_type": "markdown",
   "metadata": {
    "id": "7n5Ty9u-3d2Z"
   },
   "source": [
    "- Gas and transport is where there was the highest number of transaction,  and travel the lowest\n",
    "- Female made fewer transaction than male\n",
    "- we can see that there are an imbalance between this dataset between the fraudulent and non-fraudulent transaction\n",
    "- we can see that more transaction are made in the night\n",
    "- during the week mre transaction are made monday and sunday\n",
    "- we can see that at the end of year there more transaction made\n",
    "- The last but not least we can see that our columns are all right skewed"
   ]
  },
  {
   "cell_type": "markdown",
   "metadata": {
    "id": "IbBBpxzZ3d2Z"
   },
   "source": [
    "## Bivariate Analysis¶"
   ]
  },
  {
   "cell_type": "code",
   "execution_count": null,
   "metadata": {
    "colab": {
     "base_uri": "https://localhost:8080/",
     "height": 338
    },
    "execution": {
     "iopub.execute_input": "2021-07-11T08:18:14.295361Z",
     "iopub.status.busy": "2021-07-11T08:18:14.294968Z",
     "iopub.status.idle": "2021-07-11T08:18:14.624412Z",
     "shell.execute_reply": "2021-07-11T08:18:14.623311Z",
     "shell.execute_reply.started": "2021-07-11T08:18:14.295329Z"
    },
    "id": "SpJaBK513d2Z",
    "outputId": "7e6af9df-b7b3-45d3-b6bf-b6d6c5041ef0"
   },
   "outputs": [],
   "source": [
    "data[(data['is_fraud']==1)].category.value_counts(normalize= True, ascending= False).plot(kind='bar');"
   ]
  },
  {
   "cell_type": "code",
   "execution_count": null,
   "metadata": {
    "colab": {
     "base_uri": "https://localhost:8080/",
     "height": 338
    },
    "execution": {
     "iopub.execute_input": "2021-07-11T08:18:14.626133Z",
     "iopub.status.busy": "2021-07-11T08:18:14.625833Z",
     "iopub.status.idle": "2021-07-11T08:18:15.880837Z",
     "shell.execute_reply": "2021-07-11T08:18:15.880094Z",
     "shell.execute_reply.started": "2021-07-11T08:18:14.626105Z"
    },
    "id": "R_gkr5Z53d2Z",
    "outputId": "ffd9a561-8d61-4a88-9a58-8260db9907f8"
   },
   "outputs": [],
   "source": [
    "data[(data['is_fraud']==0)].category.value_counts(normalize= True, ascending= False).plot(kind='bar');"
   ]
  },
  {
   "cell_type": "code",
   "execution_count": null,
   "metadata": {
    "colab": {
     "base_uri": "https://localhost:8080/",
     "height": 355
    },
    "execution": {
     "iopub.execute_input": "2021-07-11T08:18:15.882858Z",
     "iopub.status.busy": "2021-07-11T08:18:15.882250Z",
     "iopub.status.idle": "2021-07-11T08:18:17.781188Z",
     "shell.execute_reply": "2021-07-11T08:18:17.780131Z",
     "shell.execute_reply.started": "2021-07-11T08:18:15.882811Z"
    },
    "id": "aX0ltWgP3d2a",
    "outputId": "e8e56965-eed3-4130-b550-191a9a31b404"
   },
   "outputs": [],
   "source": [
    "\n",
    "fig, ax = plt.subplots(1,3,figsize=(20,5))\n",
    "ax[0].hist(data[data['amt']<=1000]['amt'], bins=50)\n",
    "ax[1].hist(data[(data['is_fraud']==0) & (data['amt']<=1000)]['amt'], bins=50)\n",
    "ax[2].hist(data[(data['is_fraud']==1) & (data['amt']<=1000)]['amt'], bins=50)\n",
    "\n",
    "ax[0].set_title('Overall Amount Distribution')\n",
    "ax[1].set_title('Non Fraud Amount Distribution')\n",
    "ax[2].set_title('Fraud Amount Distribution')\n",
    "\n",
    "ax[0].set_xlabel('Transaction Amount')\n",
    "ax[0].set_ylabel('number of Transactions')\n",
    "\n",
    "ax[1].set_xlabel('Transaction Amount')\n",
    "ax[2].set_xlabel('Transaction Amount')\n",
    "plt.show()"
   ]
  },
  {
   "cell_type": "code",
   "execution_count": null,
   "metadata": {
    "colab": {
     "base_uri": "https://localhost:8080/",
     "height": 301
    },
    "execution": {
     "iopub.execute_input": "2021-07-11T08:18:17.782645Z",
     "iopub.status.busy": "2021-07-11T08:18:17.782361Z",
     "iopub.status.idle": "2021-07-11T08:18:19.025597Z",
     "shell.execute_reply": "2021-07-11T08:18:19.024614Z",
     "shell.execute_reply.started": "2021-07-11T08:18:17.782618Z"
    },
    "id": "2nQgdNpH3d2a",
    "outputId": "7cd17719-4e5d-491d-a729-cdc22633713f"
   },
   "outputs": [],
   "source": [
    "bins = np.linspace(200, 2000, 100)\n",
    "plt.hist(data[(data['is_fraud']==0)]['amt'], bins,alpha=1, density=True, label='Non Fraud' )\n",
    "plt.hist(data[(data['is_fraud']==1)]['amt'], bins,alpha=1, density=True, label='Fraud')\n",
    "\n",
    "plt.title('Amount by percentage of transactions')\n",
    "\n",
    "plt.xlabel('Transaction Amount')\n",
    "plt.ylabel('Percentage of Transactions')\n",
    "plt.show()"
   ]
  },
  {
   "cell_type": "code",
   "execution_count": null,
   "metadata": {
    "colab": {
     "base_uri": "https://localhost:8080/",
     "height": 355
    },
    "execution": {
     "iopub.execute_input": "2021-07-11T08:18:19.027113Z",
     "iopub.status.busy": "2021-07-11T08:18:19.026803Z",
     "iopub.status.idle": "2021-07-11T08:18:38.846404Z",
     "shell.execute_reply": "2021-07-11T08:18:38.845335Z",
     "shell.execute_reply.started": "2021-07-11T08:18:19.027085Z"
    },
    "id": "CTib9IFM3d2a",
    "outputId": "971078dc-1be9-4b1e-f058-0f3ef3a613e2"
   },
   "outputs": [],
   "source": [
    "fig, ax = plt.subplots(1,3,figsize=(20,5))\n",
    "sns.distplot(data['distance'], ax= ax[0])#age distributio\n",
    "sns.distplot(data[(data['is_fraud']==0)].distance, ax= ax[1]) # age distribution for fraudulent transaction\n",
    "sns.distplot(data[(data['is_fraud']==1)].distance, ax= ax[2]) # age distribution for non fraudulent transaction \n",
    "\n",
    "ax[0].set_title('Overall transaction vs distance Distribution')\n",
    "ax[1].set_title('Non Fraud transaction vs distance Distribution')\n",
    "ax[2].set_title('Fraud transaction vs distance Distribution')\n",
    "\n",
    "plt.show()"
   ]
  },
  {
   "cell_type": "code",
   "execution_count": null,
   "metadata": {
    "colab": {
     "base_uri": "https://localhost:8080/",
     "height": 355
    },
    "execution": {
     "iopub.execute_input": "2021-07-11T08:18:38.848036Z",
     "iopub.status.busy": "2021-07-11T08:18:38.847749Z",
     "iopub.status.idle": "2021-07-11T08:18:59.009774Z",
     "shell.execute_reply": "2021-07-11T08:18:59.008597Z",
     "shell.execute_reply.started": "2021-07-11T08:18:38.848008Z"
    },
    "id": "cIY3VIO13d2a",
    "outputId": "0bc1cffc-31b0-4d3d-f9f1-fca4e5c1ad9e"
   },
   "outputs": [],
   "source": [
    "fig, ax = plt.subplots(1,3,figsize=(20,5))\n",
    "sns.distplot(data['unix_time'], ax= ax[0])#age distributio\n",
    "sns.distplot(data[(data['is_fraud']==0)].unix_time, ax= ax[1]) # age distribution for fraudulent transaction\n",
    "sns.distplot(data[(data['is_fraud']==1)].unix_time, ax= ax[2])\n",
    "ax[0].set_title('Overall transaction vs time between another transaction Distribution')\n",
    "ax[1].set_title('Non Fraud transaction vs time between another transaction Distribution')\n",
    "ax[2].set_title('Fraud transaction vs time between another transaction Distribution')\n",
    "\n",
    "plt.show()"
   ]
  },
  {
   "cell_type": "code",
   "execution_count": null,
   "metadata": {
    "colab": {
     "base_uri": "https://localhost:8080/",
     "height": 1000
    },
    "execution": {
     "iopub.execute_input": "2021-07-11T08:18:59.012034Z",
     "iopub.status.busy": "2021-07-11T08:18:59.011596Z",
     "iopub.status.idle": "2021-07-11T08:19:02.914479Z",
     "shell.execute_reply": "2021-07-11T08:19:02.913235Z",
     "shell.execute_reply.started": "2021-07-11T08:18:59.011990Z"
    },
    "id": "uEWJLKbj3d2b",
    "outputId": "9694bc02-6f4e-474f-d327-d3095fb98b08"
   },
   "outputs": [],
   "source": [
    "fraud = data[(data['is_fraud']==1)] # fraud df\n",
    "not_fraud = data[(data['is_fraud']==0)] # non fraud dataframe\n",
    "\n",
    "ax = fraud.groupby(fraud['year_month'])['trans_num'].nunique().reset_index().set_index('year_month').plot.bar(figsize=(20,10))\n",
    "ax1 = not_fraud.groupby(not_fraud['year_month'])['trans_num'].nunique().reset_index().sort_values(by=['trans_num']).plot.bar(figsize=(20,10))\n",
    "\n",
    "for p in ax.patches:\n",
    "    height = p.get_height()\n",
    "    ax.text(p.get_x()+p.get_width()/2.,\n",
    "            height + 3,\n",
    "            '{:1.2f}%'.format(height/len(fraud)*100),\n",
    "            ha=\"center\", fontsize=12)\n",
    "    \n",
    "for t in ax1.patches:\n",
    "    height = t.get_height()\n",
    "    ax1.text(t.get_x()+t.get_width()/2.,\n",
    "            height + 3,\n",
    "            '{:1.2f}%'.format(height/len(not_fraud)*100),\n",
    "            ha=\"center\", fontsize=12) \n",
    "ax.set_title('fraudulent transaction by period')\n",
    "ax1.set_title('overall transaction by period')\n",
    "plt.show()"
   ]
  },
  {
   "cell_type": "code",
   "execution_count": null,
   "metadata": {
    "colab": {
     "base_uri": "https://localhost:8080/",
     "height": 681
    },
    "execution": {
     "iopub.execute_input": "2021-07-11T08:19:02.916431Z",
     "iopub.status.busy": "2021-07-11T08:19:02.916032Z",
     "iopub.status.idle": "2021-07-11T08:19:04.370930Z",
     "shell.execute_reply": "2021-07-11T08:19:04.369893Z",
     "shell.execute_reply.started": "2021-07-11T08:19:02.916398Z"
    },
    "id": "Lawet1nU3d2b",
    "outputId": "066b71f8-debe-4d8c-9ed3-e8b08cd44b86"
   },
   "outputs": [],
   "source": [
    "ax = data.groupby(data['day_of_week'])['trans_num'].nunique().reset_index().set_index('day_of_week').plot.bar(figsize=(20,10))\n",
    "ax.set_ylabel('# of all the transactions')\n",
    "ax.set_xlabel('days of a week')\n",
    "ax.set_title('Week days vs all transaction')\n",
    "\n",
    "for p in ax.patches:\n",
    "    height = p.get_height()\n",
    "    ax.text(p.get_x()+p.get_width()/2.,\n",
    "            height + 3,\n",
    "            '{:1.2f}%'.format(height/len(data)*100),\n",
    "            ha=\"center\", fontsize=15)\n",
    "plt.show()"
   ]
  },
  {
   "cell_type": "code",
   "execution_count": null,
   "metadata": {
    "colab": {
     "base_uri": "https://localhost:8080/",
     "height": 681
    },
    "execution": {
     "iopub.execute_input": "2021-07-11T08:19:04.372486Z",
     "iopub.status.busy": "2021-07-11T08:19:04.372190Z",
     "iopub.status.idle": "2021-07-11T08:19:04.664934Z",
     "shell.execute_reply": "2021-07-11T08:19:04.663863Z",
     "shell.execute_reply.started": "2021-07-11T08:19:04.372456Z"
    },
    "id": "xvWTx6h73d2b",
    "outputId": "76d76b0b-7d1d-4665-f1f0-7c4afbbab53e"
   },
   "outputs": [],
   "source": [
    "ax = fraud.groupby(fraud['day_of_week'])['trans_num'].nunique().reset_index().set_index('day_of_week').plot.bar(figsize=(20,10))\n",
    "ax.set_ylabel('# of fraudulent transactions')\n",
    "ax.set_xlabel('days of a week')\n",
    "ax.set_title('Week days vs fraudulent transaction')\n",
    "\n",
    "for p in ax.patches:\n",
    "    height = p.get_height()\n",
    "    ax.text(p.get_x()+p.get_width()/2.,\n",
    "            height + 3,\n",
    "            '{:1.2f}%'.format(height/len(fraud)*100),\n",
    "            ha=\"center\", fontsize=15)\n",
    "plt.show()"
   ]
  },
  {
   "cell_type": "code",
   "execution_count": null,
   "metadata": {
    "colab": {
     "base_uri": "https://localhost:8080/",
     "height": 681
    },
    "execution": {
     "iopub.execute_input": "2021-07-11T08:19:04.666718Z",
     "iopub.status.busy": "2021-07-11T08:19:04.666402Z",
     "iopub.status.idle": "2021-07-11T08:19:04.881839Z",
     "shell.execute_reply": "2021-07-11T08:19:04.880832Z",
     "shell.execute_reply.started": "2021-07-11T08:19:04.666686Z"
    },
    "id": "ALQOhtq63d2b",
    "outputId": "3b2b370e-1ae2-4575-9a60-af2ea43f2f39"
   },
   "outputs": [],
   "source": [
    "ax = fraud.groupby(fraud['residence'])['trans_num'].nunique().reset_index().set_index('residence').plot.bar(figsize=(20,10))\n",
    "for p in ax.patches:\n",
    "    height = p.get_height()\n",
    "    ax.text(p.get_x()+p.get_width()/2.,\n",
    "            height + 3,\n",
    "            '{:1.2f}%'.format(height/len(fraud)*100),\n",
    "            ha=\"center\", fontsize=15)\n",
    "ax.set_title('residence vs transaction numbers')\n",
    "plt.show()"
   ]
  },
  {
   "cell_type": "markdown",
   "metadata": {
    "id": "IBQPrvBH3d2b"
   },
   "source": [
    "- From the above figures we observed that the POS and ne t purchases have the high fraudulent compared o others \n",
    "- There are not a big difference on the distribution of the fraudulent transaction and non fraudulent transacation\n",
    "- From period transaction, there were more fraudulent transaction in 2019\n",
    "- In a week, there were  more fraudulent transaction on monday\n",
    "- In the comparison, using the area, there were more fraudulent transaction in the semi-urban than others"
   ]
  },
  {
   "cell_type": "markdown",
   "metadata": {
    "id": "ot5YGL3H3d2c"
   },
   "source": [
    "## Multivariate analysis"
   ]
  },
  {
   "cell_type": "code",
   "execution_count": null,
   "metadata": {
    "colab": {
     "base_uri": "https://localhost:8080/",
     "height": 1000
    },
    "execution": {
     "iopub.execute_input": "2021-07-11T08:19:04.883611Z",
     "iopub.status.busy": "2021-07-11T08:19:04.883304Z",
     "iopub.status.idle": "2021-07-11T08:19:07.001304Z",
     "shell.execute_reply": "2021-07-11T08:19:06.999905Z",
     "shell.execute_reply.started": "2021-07-11T08:19:04.883580Z"
    },
    "id": "F6qP7DJj3d2c",
    "outputId": "2313ded6-f199-4185-c45a-cf5cede010cf"
   },
   "outputs": [],
   "source": [
    "plt.figure(figsize=(20,20))\n",
    "sns.heatmap(data.corr(), annot=True,cmap=\"YlGnBu\")\n",
    "plt.show()"
   ]
  },
  {
   "cell_type": "markdown",
   "metadata": {
    "id": "NQ7Vs96L3d2c"
   },
   "source": [
    "as we can see here there are a high correlation between location (longititude and latitude of the clients and merchant location)"
   ]
  },
  {
   "cell_type": "code",
   "execution_count": null,
   "metadata": {
    "colab": {
     "base_uri": "https://localhost:8080/",
     "height": 517
    },
    "execution": {
     "iopub.execute_input": "2021-07-11T08:19:07.003327Z",
     "iopub.status.busy": "2021-07-11T08:19:07.002863Z",
     "iopub.status.idle": "2021-07-11T08:19:07.260515Z",
     "shell.execute_reply": "2021-07-11T08:19:07.259262Z",
     "shell.execute_reply.started": "2021-07-11T08:19:07.003277Z"
    },
    "id": "bE3TkiKK3d2c",
    "outputId": "954706ea-9c63-4c79-c901-af13f79a4a9c"
   },
   "outputs": [],
   "source": [
    "import plotly.express as px \n",
    "\n",
    "df2_fraud = data[data['is_fraud'] == 1]\n",
    "\n",
    "fig = px.scatter_mapbox(df2_fraud, lat=\"lat\", lon=\"long\", hover_name=\"city\",\n",
    "                         zoom=3, height=500,\n",
    "                         color=\"is_fraud\",  color_discrete_sequence=px.colors.cyclical.IceFire)\n",
    "fig.update_layout(mapbox_style=\"open-street-map\")\n",
    "fig.update_layout(margin={\"r\":0,\"t\":0,\"l\":0,\"b\":0})\n",
    "fig.show()"
   ]
  },
  {
   "cell_type": "code",
   "execution_count": null,
   "metadata": {
    "colab": {
     "base_uri": "https://localhost:8080/",
     "height": 517
    },
    "execution": {
     "iopub.execute_input": "2021-07-11T08:19:07.262786Z",
     "iopub.status.busy": "2021-07-11T08:19:07.262351Z",
     "iopub.status.idle": "2021-07-11T08:19:07.570572Z",
     "shell.execute_reply": "2021-07-11T08:19:07.569536Z",
     "shell.execute_reply.started": "2021-07-11T08:19:07.262737Z"
    },
    "id": "x4oze0c03d2c",
    "outputId": "de7da973-e938-4be9-8c9d-aff9800e5563"
   },
   "outputs": [],
   "source": [
    "dfm_fraud = data[data['is_fraud'] == 1]\n",
    "\n",
    "fig = px.scatter_mapbox(dfm_fraud, lat=\"merch_lat\", lon=\"merch_long\", hover_name=\"city\",\n",
    "                         zoom=3, height=500,\n",
    "                         color=\"is_fraud\",  color_discrete_sequence=px.colors.cyclical.IceFire)\n",
    "fig.update_layout(mapbox_style=\"open-street-map\")\n",
    "fig.update_layout(margin={\"r\":0,\"t\":0,\"l\":0,\"b\":0})\n",
    "fig.show()"
   ]
  },
  {
   "cell_type": "markdown",
   "metadata": {
    "id": "IJtDnAJm3d2c"
   },
   "source": [
    "What we can observe from the above plot is that more fraudulent transaction occurs in the east of the united states, where there were more merchant as well"
   ]
  },
  {
   "cell_type": "markdown",
   "metadata": {
    "id": "tsEfGkhm3d2d"
   },
   "source": [
    "# Data Preparation"
   ]
  },
  {
   "cell_type": "code",
   "execution_count": null,
   "metadata": {
    "execution": {
     "iopub.execute_input": "2021-07-11T08:19:07.574908Z",
     "iopub.status.busy": "2021-07-11T08:19:07.574575Z",
     "iopub.status.idle": "2021-07-11T08:19:08.154293Z",
     "shell.execute_reply": "2021-07-11T08:19:08.153137Z",
     "shell.execute_reply.started": "2021-07-11T08:19:07.574879Z"
    },
    "id": "PGbp7k0i3d2d"
   },
   "outputs": [],
   "source": [
    "dframe = data.copy()\n",
    "dframe = dframe.drop(['cc_num','trans_date_trans_time','names', 'merchant','trans_num','street', 'city', 'state', 'zip', 'lat', 'long', 'city_pop','dob', 'merch_lat', 'merch_long','lat_long',\n",
    "       'merch_ad','job','year_month'],axis=1)"
   ]
  },
  {
   "cell_type": "code",
   "execution_count": null,
   "metadata": {
    "execution": {
     "iopub.execute_input": "2021-07-11T08:19:08.156664Z",
     "iopub.status.busy": "2021-07-11T08:19:08.156340Z",
     "iopub.status.idle": "2021-07-11T08:19:09.308011Z",
     "shell.execute_reply": "2021-07-11T08:19:09.306899Z",
     "shell.execute_reply.started": "2021-07-11T08:19:08.156634Z"
    },
    "id": "CEDjQBLr3d2d"
   },
   "outputs": [],
   "source": [
    "# creating a dummy variable for ome of the categoorical variables and drop the first ones\n",
    "dummy_var1 = pd.get_dummies(dframe[['category', 'day_of_week', 'gender', 'residence']], drop_first= True)\n",
    "# adding the resultss to the master dataframe\n",
    "dframe = pd.concat([dframe, dummy_var1], axis=1)\n",
    "#dropping the repeated variables\n",
    "dframe = dframe.drop(['category', 'day_of_week', 'gender', 'residence'],1)"
   ]
  },
  {
   "cell_type": "code",
   "execution_count": null,
   "metadata": {
    "execution": {
     "iopub.execute_input": "2021-07-11T08:21:34.239932Z",
     "iopub.status.busy": "2021-07-11T08:21:34.239554Z",
     "iopub.status.idle": "2021-07-11T08:21:34.763928Z",
     "shell.execute_reply": "2021-07-11T08:21:34.762985Z",
     "shell.execute_reply.started": "2021-07-11T08:21:34.239901Z"
    },
    "id": "RCkHfbjY3d2d"
   },
   "outputs": [],
   "source": [
    "from sklearn.preprocessing import RobustScaler\n",
    "# select columns to scale \n",
    "to_scale = [col for col in dframe.columns if dframe[col].max()>1]\n",
    "scaler = RobustScaler()\n",
    "scaled =scaler.fit_transform(dframe[to_scale])\n",
    "scaled = pd.DataFrame(scaled, columns=to_scale)\n",
    "\n",
    "# replace original columns with scaled columns\n",
    "for col in scaled:\n",
    "    dframe[col] = scaled[col]"
   ]
  },
  {
   "cell_type": "code",
   "execution_count": null,
   "metadata": {
    "execution": {
     "iopub.execute_input": "2021-07-11T08:21:34.765555Z",
     "iopub.status.busy": "2021-07-11T08:21:34.765285Z",
     "iopub.status.idle": "2021-07-11T08:21:34.810487Z",
     "shell.execute_reply": "2021-07-11T08:21:34.809491Z",
     "shell.execute_reply.started": "2021-07-11T08:21:34.765529Z"
    },
    "id": "JyPH860o3d2d"
   },
   "outputs": [],
   "source": [
    "#make a copy of this dataframe\n",
    "df = dframe.copy()"
   ]
  },
  {
   "cell_type": "markdown",
   "metadata": {
    "id": "7q9eadiI3d2d"
   },
   "source": [
    "# Model Building\n",
    "__Attention:__ </br>Here,instead of Accuracy we are very much interested on the recall score, because that is the metric that will help us try to capture the most fraudulent transactions."
   ]
  },
  {
   "cell_type": "code",
   "execution_count": null,
   "metadata": {
    "execution": {
     "iopub.execute_input": "2021-07-11T08:21:34.932245Z",
     "iopub.status.busy": "2021-07-11T08:21:34.931875Z",
     "iopub.status.idle": "2021-07-11T08:21:36.355085Z",
     "shell.execute_reply": "2021-07-11T08:21:36.354071Z",
     "shell.execute_reply.started": "2021-07-11T08:21:34.932208Z"
    },
    "id": "Uhm9oRrd3d2d"
   },
   "outputs": [],
   "source": [
    "# import libraries needed for this step\n",
    "from sklearn.model_selection import train_test_split # train-test split\n",
    "from sklearn.metrics import confusion_matrix, classification_report,roc_auc_score,roc_curve # classification metrics\n",
    "from imblearn.over_sampling import SMOTE # SMOTE\n",
    "from sklearn.preprocessing import RobustScaler, MinMaxScaler, StandardScaler # scaling methods\n",
    "\n",
    "import sklearn.neighbors\n",
    "from sklearn.model_selection import GridSearchCV # grid search cross validation\n",
    "from sklearn.model_selection import RandomizedSearchCV # randomized search cross validation\n",
    "\n",
    "# supervised learning algorithms\n",
    "from sklearn.linear_model import LogisticRegression # Logistic Regression\n",
    "from sklearn.neighbors import KNeighborsClassifier # K-Nearest Neighbbors\n",
    "from sklearn.naive_bayes import GaussianNB # Gaussain Naive Bayes\n",
    "from sklearn.tree import DecisionTreeClassifier # Decision Tree\n",
    "from sklearn.ensemble import RandomForestClassifier # Random Forest\n",
    "from sklearn.ensemble import AdaBoostClassifier # Adaptive Boosting Classifier\n",
    "from sklearn.ensemble import BaggingClassifier # Bootstrap Aggregating Classifier\n",
    "from xgboost import XGBClassifier\n",
    "import statsmodels.api as sm # estimates statistical models\n",
    "from sklearn.feature_selection import RFE #Recursive Feature Elimination for feature selection\n",
    "from sklearn import metrics\n",
    "from sklearn.metrics import precision_recall_fscore_support as score\n",
    "from statsmodels.stats.outliers_influence import variance_inflation_factor"
   ]
  },
  {
   "cell_type": "code",
   "execution_count": null,
   "metadata": {
    "execution": {
     "iopub.execute_input": "2021-07-11T08:21:36.356756Z",
     "iopub.status.busy": "2021-07-11T08:21:36.356470Z",
     "iopub.status.idle": "2021-07-11T08:21:36.422568Z",
     "shell.execute_reply": "2021-07-11T08:21:36.421766Z",
     "shell.execute_reply.started": "2021-07-11T08:21:36.356729Z"
    },
    "id": "PHN-ognS3d2e"
   },
   "outputs": [],
   "source": [
    "X = df.drop(['is_fraud'],axis=1) \n",
    "y = df['is_fraud'] #target variable"
   ]
  },
  {
   "cell_type": "markdown",
   "metadata": {
    "id": "46Nh6PjO3d2e"
   },
   "source": [
    "## Test Train Split"
   ]
  },
  {
   "cell_type": "code",
   "execution_count": null,
   "metadata": {
    "execution": {
     "iopub.execute_input": "2021-07-11T08:21:36.425206Z",
     "iopub.status.busy": "2021-07-11T08:21:36.424305Z",
     "iopub.status.idle": "2021-07-11T08:21:37.155400Z",
     "shell.execute_reply": "2021-07-11T08:21:37.154442Z",
     "shell.execute_reply.started": "2021-07-11T08:21:36.425150Z"
    },
    "id": "50r7tLgx3d2e"
   },
   "outputs": [],
   "source": [
    "#split the dataset into training set and testing set\n",
    "X_train,X_test,y_train,y_test=train_test_split(X,y,test_size=0.3, random_state=42)"
   ]
  },
  {
   "cell_type": "markdown",
   "metadata": {
    "id": "JW-kRxJa3d2e"
   },
   "source": [
    "## resampling using SMOTE"
   ]
  },
  {
   "cell_type": "code",
   "execution_count": null,
   "metadata": {
    "colab": {
     "base_uri": "https://localhost:8080/",
     "height": 319
    },
    "execution": {
     "iopub.execute_input": "2021-07-11T08:21:37.157624Z",
     "iopub.status.busy": "2021-07-11T08:21:37.157240Z",
     "iopub.status.idle": "2021-07-11T08:21:40.144338Z",
     "shell.execute_reply": "2021-07-11T08:21:40.143315Z",
     "shell.execute_reply.started": "2021-07-11T08:21:37.157583Z"
    },
    "id": "k9ZYzQWr3d2e",
    "outputId": "bbb016aa-4111-4ca3-9621-a5d3ddd15067"
   },
   "outputs": [],
   "source": [
    "smote = SMOTE()\n",
    "X_train_new, y_train_new = smote.fit_resample(X_train, y_train.ravel())\n",
    "\n",
    "\n",
    "# to demonstrate the effect of SMOTE over imbalanced datasets\n",
    "fig, (ax1, ax2) = plt.subplots(ncols = 2, figsize =(15, 5))\n",
    "ax1.set_title('Before SMOTE')\n",
    "pd.Series(y_train).value_counts().plot.pie(autopct='%.1f%%',ax=ax1)\n",
    "ax1.yaxis.set_major_formatter(mtick.PercentFormatter())\n",
    "ax2.set_title('After SMOTE')  \n",
    "pd.Series(y_train_new).value_counts().plot.pie(autopct='%.1f%%',ax=ax2)\n",
    "ax2.yaxis.set_major_formatter(mtick.PercentFormatter())\n",
    "plt.show()"
   ]
  },
  {
   "cell_type": "code",
   "execution_count": null,
   "metadata": {
    "colab": {
     "base_uri": "https://localhost:8080/",
     "height": 627
    },
    "execution": {
     "iopub.execute_input": "2021-07-11T08:21:40.145955Z",
     "iopub.status.busy": "2021-07-11T08:21:40.145638Z"
    },
    "id": "U3prIQWx3d2e",
    "outputId": "03c2c25f-28ed-40c0-bb38-8766eaf4ef43"
   },
   "outputs": [],
   "source": [
    "# let's see the correlation matrix\n",
    "plt.figure(figsize= (30, 10))\n",
    "sns.heatmap(df.corr(), annot=True, cmap= 'GnBu')\n",
    "plt.show()"
   ]
  },
  {
   "cell_type": "markdown",
   "metadata": {
    "id": "53tC77CO3d2e"
   },
   "source": [
    "We can see that there arent any variable with a high correlation\n",
    "## Logistic Regression"
   ]
  },
  {
   "cell_type": "code",
   "execution_count": null,
   "metadata": {
    "colab": {
     "base_uri": "https://localhost:8080/",
     "height": 225
    },
    "execution": {
     "iopub.status.idle": "2021-07-11T08:22:28.828273Z",
     "shell.execute_reply": "2021-07-11T08:22:28.826816Z",
     "shell.execute_reply.started": "2021-07-11T08:21:48.513312Z"
    },
    "id": "Li0KWWqF3d2f",
    "outputId": "32e11e53-fbc8-4e8d-9986-cd4232344368"
   },
   "outputs": [],
   "source": [
    "# logistic regression model\n",
    "import statsmodels.api as sm\n",
    "logml = sm.GLM(y_train_new,(sm.add_constant(X_train_new)), family=sm.families.Binomial())\n",
    "logml.fit().summary()"
   ]
  },
  {
   "cell_type": "markdown",
   "metadata": {
    "id": "xTbzqn303d2f"
   },
   "source": [
    "The above all p values are statistically significant </br>\n",
    "The next step, we are going to check which variables that has high importance for this model than others"
   ]
  },
  {
   "cell_type": "markdown",
   "metadata": {
    "id": "Jzm0_X7M3d2f"
   },
   "source": [
    "### Feature selection using RFE"
   ]
  },
  {
   "cell_type": "code",
   "execution_count": null,
   "metadata": {
    "execution": {
     "iopub.execute_input": "2021-07-11T08:22:28.830590Z",
     "iopub.status.busy": "2021-07-11T08:22:28.830246Z",
     "iopub.status.idle": "2021-07-11T08:26:23.774762Z",
     "shell.execute_reply": "2021-07-11T08:26:23.773195Z",
     "shell.execute_reply.started": "2021-07-11T08:22:28.830547Z"
    },
    "id": "P2EmFMip3d2f"
   },
   "outputs": [],
   "source": [
    "# look for best describiing features for the logistic regression model using rfe\n",
    "logreg = LogisticRegression()\n",
    "rfe = RFE(logreg, 15)\n",
    "rfe = rfe.fit(X_train_new, y_train_new)"
   ]
  },
  {
   "cell_type": "code",
   "execution_count": null,
   "metadata": {
    "execution": {
     "iopub.execute_input": "2021-07-11T08:26:23.779749Z",
     "iopub.status.busy": "2021-07-11T08:26:23.779274Z",
     "iopub.status.idle": "2021-07-11T08:26:47.791002Z",
     "shell.execute_reply": "2021-07-11T08:26:47.789750Z",
     "shell.execute_reply.started": "2021-07-11T08:26:23.779701Z"
    },
    "id": "P6hQMm_k3d2f"
   },
   "outputs": [],
   "source": [
    "logreg.fit(X_train_new, y_train_new)\n",
    "y_test_pred = logreg.predict(X_test)"
   ]
  },
  {
   "cell_type": "code",
   "execution_count": null,
   "metadata": {
    "execution": {
     "iopub.execute_input": "2021-07-11T08:26:47.794594Z",
     "iopub.status.busy": "2021-07-11T08:26:47.793629Z",
     "iopub.status.idle": "2021-07-11T08:26:47.807048Z",
     "shell.execute_reply": "2021-07-11T08:26:47.806086Z",
     "shell.execute_reply.started": "2021-07-11T08:26:47.794531Z"
    },
    "id": "kP0Zaun_3d2f"
   },
   "outputs": [],
   "source": [
    "# have a look on the list of features and the ranking they gets \n",
    "list(zip(X_train_new.columns, rfe.support_, rfe.ranking_))"
   ]
  },
  {
   "cell_type": "code",
   "execution_count": null,
   "metadata": {
    "execution": {
     "iopub.execute_input": "2021-07-11T08:26:47.809432Z",
     "iopub.status.busy": "2021-07-11T08:26:47.808744Z",
     "iopub.status.idle": "2021-07-11T08:26:47.819369Z",
     "shell.execute_reply": "2021-07-11T08:26:47.818105Z",
     "shell.execute_reply.started": "2021-07-11T08:26:47.809384Z"
    },
    "id": "18YdbcWv3d2f"
   },
   "outputs": [],
   "source": [
    "# extract all the columns selected by rfe as best variable for our model\n",
    "col = X_train_new.columns[rfe.support_]"
   ]
  },
  {
   "cell_type": "code",
   "execution_count": null,
   "metadata": {
    "execution": {
     "iopub.execute_input": "2021-07-11T08:26:47.821597Z",
     "iopub.status.busy": "2021-07-11T08:26:47.821143Z",
     "iopub.status.idle": "2021-07-11T08:26:47.909086Z",
     "shell.execute_reply": "2021-07-11T08:26:47.908367Z",
     "shell.execute_reply.started": "2021-07-11T08:26:47.821552Z"
    },
    "id": "CXnk7m923d2g"
   },
   "outputs": [],
   "source": [
    "#remove those with less important features\n",
    "X_train_new.columns[~rfe.support_]"
   ]
  },
  {
   "cell_type": "code",
   "execution_count": null,
   "metadata": {
    "execution": {
     "iopub.execute_input": "2021-07-11T08:26:47.910759Z",
     "iopub.status.busy": "2021-07-11T08:26:47.910275Z",
     "iopub.status.idle": "2021-07-11T08:26:48.759870Z",
     "shell.execute_reply": "2021-07-11T08:26:48.757094Z",
     "shell.execute_reply.started": "2021-07-11T08:26:47.910727Z"
    },
    "id": "gbGunTti3d2g"
   },
   "outputs": [],
   "source": [
    "feature_imp = pd.DataFrame(list(zip(X_train_new.columns, rfe.support_, rfe.ranking_)), columns=['variables','selected','rank'])\n",
    "feature_imp = feature_imp.set_index('variables')\n",
    "\n",
    "plt.figure(figsize=[15,6])\n",
    "plt.title('Features Importance')\n",
    "sns.barplot(x='rank', y=feature_imp.index.values, data=feature_imp, \n",
    "            order=feature_imp.sort_values(by='rank', ascending=False).index.values, palette='rocket', )\n",
    "plt.xlabel('Feature Name');"
   ]
  },
  {
   "cell_type": "markdown",
   "metadata": {
    "id": "cW0xbqfB3d2g"
   },
   "source": [
    "From the code above we can observe that from the age variable is really important with the rank have over 12, and frim categorykids pets up to category misc pos have a really low rank"
   ]
  },
  {
   "cell_type": "code",
   "execution_count": null,
   "metadata": {
    "execution": {
     "iopub.execute_input": "2021-07-11T08:26:48.761598Z",
     "iopub.status.busy": "2021-07-11T08:26:48.761294Z",
     "iopub.status.idle": "2021-07-11T08:27:02.705966Z",
     "shell.execute_reply": "2021-07-11T08:27:02.704986Z",
     "shell.execute_reply.started": "2021-07-11T08:26:48.761567Z"
    },
    "id": "l1uqLoNf3d2g"
   },
   "outputs": [],
   "source": [
    "# build a logistic regression using only the variables selected using rfe\n",
    "X_train_sm = sm.add_constant(X_train_new[col])\n",
    "\n",
    "logml2 = sm.GLM(y_train_new, X_train_sm, family=sm.families.Binomial())\n",
    "\n",
    "res = logml2.fit()\n",
    "\n",
    "res.summary()"
   ]
  },
  {
   "cell_type": "code",
   "execution_count": null,
   "metadata": {
    "execution": {
     "iopub.execute_input": "2021-07-11T08:27:02.707405Z",
     "iopub.status.busy": "2021-07-11T08:27:02.707136Z",
     "iopub.status.idle": "2021-07-11T08:27:02.919988Z",
     "shell.execute_reply": "2021-07-11T08:27:02.918721Z",
     "shell.execute_reply.started": "2021-07-11T08:27:02.707379Z"
    },
    "id": "-lska2KD3d2g"
   },
   "outputs": [],
   "source": [
    "## getting the predicted values on the train set\n",
    "y_train_pred = res.predict(X_train_sm)\n",
    "y_train_pred =y_train_pred.values.reshape(-1)"
   ]
  },
  {
   "cell_type": "code",
   "execution_count": null,
   "metadata": {
    "execution": {
     "iopub.execute_input": "2021-07-11T08:27:02.922602Z",
     "iopub.status.busy": "2021-07-11T08:27:02.921828Z",
     "iopub.status.idle": "2021-07-11T08:27:02.943100Z",
     "shell.execute_reply": "2021-07-11T08:27:02.942217Z",
     "shell.execute_reply.started": "2021-07-11T08:27:02.922550Z"
    },
    "id": "ifqcFIIF3d2g"
   },
   "outputs": [],
   "source": [
    "# put in the dataframe the probability calculated for fraud\n",
    "y_train_pred_final = pd.DataFrame({'fraud':y_train_new, 'fraud_Prob': y_train_pred})\n",
    "y_train_pred_final.head()"
   ]
  },
  {
   "cell_type": "code",
   "execution_count": null,
   "metadata": {
    "execution": {
     "iopub.execute_input": "2021-07-11T08:27:02.944559Z",
     "iopub.status.busy": "2021-07-11T08:27:02.944271Z",
     "iopub.status.idle": "2021-07-11T08:27:04.791371Z",
     "shell.execute_reply": "2021-07-11T08:27:04.790439Z",
     "shell.execute_reply.started": "2021-07-11T08:27:02.944533Z"
    },
    "id": "wc_AemK83d2g"
   },
   "outputs": [],
   "source": [
    "# creating new column 'predicted' with 1 if churn_prob > 0.5 else 0\n",
    "# https://smallbiztrends.com/2019/12/payment-fraud-statistics.html\n",
    "y_train_pred_final['predicted'] = y_train_pred_final.fraud_Prob.map(lambda x: 1 if x > 0.5 else 0)\n",
    "y_train_pred_final.sample(50)"
   ]
  },
  {
   "cell_type": "code",
   "execution_count": null,
   "metadata": {
    "execution": {
     "iopub.execute_input": "2021-07-11T08:27:04.792874Z",
     "iopub.status.busy": "2021-07-11T08:27:04.792601Z",
     "iopub.status.idle": "2021-07-11T08:27:14.246300Z",
     "shell.execute_reply": "2021-07-11T08:27:14.245300Z",
     "shell.execute_reply.started": "2021-07-11T08:27:04.792848Z"
    },
    "id": "Qx4O3xtS3d2h"
   },
   "outputs": [],
   "source": [
    "print(confusion_matrix(y_train_pred_final.fraud, y_train_pred_final.predicted))\n",
    "print(classification_report(y_train_pred_final.fraud, y_train_pred_final.predicted))"
   ]
  },
  {
   "cell_type": "code",
   "execution_count": null,
   "metadata": {
    "execution": {
     "iopub.execute_input": "2021-07-11T08:27:14.248394Z",
     "iopub.status.busy": "2021-07-11T08:27:14.247911Z",
     "iopub.status.idle": "2021-07-11T08:27:16.070899Z",
     "shell.execute_reply": "2021-07-11T08:27:16.069799Z",
     "shell.execute_reply.started": "2021-07-11T08:27:14.248350Z"
    },
    "id": "6k2cOWi83d2h"
   },
   "outputs": [],
   "source": [
    "print(confusion_matrix(y_test, y_test_pred))\n",
    "print(classification_report(y_test, y_test_pred))"
   ]
  },
  {
   "cell_type": "markdown",
   "metadata": {
    "id": "b9FTpcBO3d2h"
   },
   "source": [
    "## Decision Tree"
   ]
  },
  {
   "cell_type": "code",
   "execution_count": null,
   "metadata": {
    "execution": {
     "iopub.execute_input": "2021-07-11T08:27:16.073050Z",
     "iopub.status.busy": "2021-07-11T08:27:16.072608Z",
     "iopub.status.idle": "2021-07-11T08:28:22.516365Z",
     "shell.execute_reply": "2021-07-11T08:28:22.515295Z",
     "shell.execute_reply.started": "2021-07-11T08:27:16.073003Z"
    },
    "id": "7_FufG-i3d2h"
   },
   "outputs": [],
   "source": [
    "#Building Decision Tree Model\n",
    "from sklearn.tree import DecisionTreeClassifier\n",
    "dt_clf = DecisionTreeClassifier(criterion = 'gini', max_depth = 20, random_state=0)\n",
    "dt_clf.fit(X_train_new, y_train_new)\n",
    "pred_train = dt_clf.predict(X_train_new)\n",
    "\n",
    "print(confusion_matrix(y_train_new, pred_train))\n",
    "print(classification_report(y_train_new, pred_train))"
   ]
  },
  {
   "cell_type": "code",
   "execution_count": null,
   "metadata": {
    "execution": {
     "iopub.execute_input": "2021-07-11T08:28:22.517986Z",
     "iopub.status.busy": "2021-07-11T08:28:22.517684Z",
     "iopub.status.idle": "2021-07-11T08:28:24.433292Z",
     "shell.execute_reply": "2021-07-11T08:28:24.432017Z",
     "shell.execute_reply.started": "2021-07-11T08:28:22.517958Z"
    },
    "id": "x8B88R6M3d2h"
   },
   "outputs": [],
   "source": [
    "pred_test = dt_clf.predict(X_test)\n",
    "\n",
    "print(confusion_matrix(y_test, pred_test))\n",
    "print(classification_report(y_test, pred_test))"
   ]
  },
  {
   "cell_type": "markdown",
   "metadata": {
    "id": "wv_KXEZw3d2h"
   },
   "source": [
    "## Random-Forest Classifier"
   ]
  },
  {
   "cell_type": "code",
   "execution_count": null,
   "metadata": {
    "execution": {
     "iopub.execute_input": "2021-07-11T08:28:24.434934Z",
     "iopub.status.busy": "2021-07-11T08:28:24.434627Z",
     "iopub.status.idle": "2021-07-11T08:35:40.005489Z",
     "shell.execute_reply": "2021-07-11T08:35:40.004185Z",
     "shell.execute_reply.started": "2021-07-11T08:28:24.434905Z"
    },
    "id": "IaiLHxaa3d2i"
   },
   "outputs": [],
   "source": [
    "#Building Random Forest Model\n",
    "rf_clf = RandomForestClassifier(n_estimators = 50,max_depth = 20,verbose = 1)\n",
    "rf_clf.fit(X_train_new, y_train_new)\n",
    "pred_train = rf_clf.predict(X_train_new)\n",
    "\n",
    "print(confusion_matrix(y_train_new, pred_train))\n",
    "print(classification_report(y_train_new, pred_train))"
   ]
  },
  {
   "cell_type": "code",
   "execution_count": null,
   "metadata": {
    "execution": {
     "iopub.execute_input": "2021-07-11T08:35:40.007608Z",
     "iopub.status.busy": "2021-07-11T08:35:40.007156Z",
     "iopub.status.idle": "2021-07-11T08:35:48.196002Z",
     "shell.execute_reply": "2021-07-11T08:35:48.194639Z",
     "shell.execute_reply.started": "2021-07-11T08:35:40.007561Z"
    },
    "id": "kt7uN1H73d2i"
   },
   "outputs": [],
   "source": [
    "pred_test = rf_clf.predict(X_test)\n",
    "\n",
    "print(confusion_matrix(y_test, pred_test))\n",
    "print(classification_report(y_test, pred_test))"
   ]
  },
  {
   "cell_type": "markdown",
   "metadata": {
    "id": "Yxar_4EV3d2i"
   },
   "source": [
    "### Gradient Boosting Model"
   ]
  },
  {
   "cell_type": "code",
   "execution_count": null,
   "metadata": {
    "execution": {
     "iopub.execute_input": "2021-07-11T08:35:48.200501Z",
     "iopub.status.busy": "2021-07-11T08:35:48.200157Z",
     "iopub.status.idle": "2021-07-11T08:38:37.158417Z",
     "shell.execute_reply": "2021-07-11T08:38:37.157286Z",
     "shell.execute_reply.started": "2021-07-11T08:35:48.200458Z"
    },
    "id": "lfkwvc4Y3d2i"
   },
   "outputs": [],
   "source": [
    "#Building XG Boost Model\n",
    "\n",
    "xbt_model = XGBClassifier(n_estimators = 100, learning_rate = 0.1, max_depth = 3, verbose = 1)\n",
    "xbt_model.fit(X_train_new, y_train_new)\n",
    "\n",
    "pred_train = xbt_model.predict(X_train_new)\n",
    "print(confusion_matrix(y_train_new, pred_train))\n",
    "print(classification_report(y_train_new, pred_train))"
   ]
  },
  {
   "cell_type": "code",
   "execution_count": null,
   "metadata": {
    "execution": {
     "iopub.execute_input": "2021-07-11T08:38:37.160204Z",
     "iopub.status.busy": "2021-07-11T08:38:37.159887Z",
     "iopub.status.idle": "2021-07-11T08:38:39.215232Z",
     "shell.execute_reply": "2021-07-11T08:38:39.214109Z",
     "shell.execute_reply.started": "2021-07-11T08:38:37.160172Z"
    },
    "id": "FzAu2lD13d2i"
   },
   "outputs": [],
   "source": [
    "pred_test = xbt_model.predict(X_test)\n",
    "print(confusion_matrix(y_test, pred_test))\n",
    "print(classification_report(y_test, pred_test))"
   ]
  },
  {
   "cell_type": "markdown",
   "metadata": {
    "id": "tN5fDekR3d2i"
   },
   "source": [
    "# Business Impact"
   ]
  },
  {
   "cell_type": "markdown",
   "metadata": {
    "id": "G1rwL5tS3d2j"
   },
   "source": [
    "## Cost Benefit Analysis"
   ]
  },
  {
   "cell_type": "code",
   "execution_count": null,
   "metadata": {
    "colab": {
     "base_uri": "https://localhost:8080/",
     "height": 171
    },
    "execution": {
     "iopub.execute_input": "2021-07-11T09:13:09.668363Z",
     "iopub.status.busy": "2021-07-11T09:13:09.667923Z",
     "iopub.status.idle": "2021-07-11T09:13:09.675393Z",
     "shell.execute_reply": "2021-07-11T09:13:09.674236Z",
     "shell.execute_reply.started": "2021-07-11T09:13:09.668328Z"
    },
    "id": "9X3SK4dk3d2j",
    "outputId": "0cacfd03-b821-43dd-eca8-0137d887dcc4"
   },
   "outputs": [],
   "source": [
    "data['ques'] = 1"
   ]
  },
  {
   "cell_type": "code",
   "execution_count": null,
   "metadata": {
    "colab": {
     "base_uri": "https://localhost:8080/",
     "height": 207
    },
    "execution": {
     "iopub.execute_input": "2021-07-11T10:30:16.145704Z",
     "iopub.status.busy": "2021-07-11T10:30:16.145342Z",
     "iopub.status.idle": "2021-07-11T10:30:16.386683Z",
     "shell.execute_reply": "2021-07-11T10:30:16.385655Z",
     "shell.execute_reply.started": "2021-07-11T10:30:16.145674Z"
    },
    "id": "iOePE9le3d2j",
    "outputId": "5732c1c5-3891-4ae5-ea0f-54c413104fd6"
   },
   "outputs": [],
   "source": [
    "print(f\"Average number of transactions per month: {round(data.groupby(['year_month','ques'])['ques'].sum().mean(),2)}\")\n",
    "print(f\"Average number of fraudulent transaction per month: {round(fraud.groupby(['year_month','is_fraud'])['is_fraud'].count().mean(),2)}\")\n",
    "print(f\"Average amount per fraud transaction: {round(fraud.amt.sum()/len(fraud),2)}\")"
   ]
  }
 ],
 "metadata": {
  "colab": {
   "provenance": []
  },
  "kernelspec": {
   "display_name": "Python 3 (ipykernel)",
   "language": "python",
   "name": "python3"
  },
  "language_info": {
   "codemirror_mode": {
    "name": "ipython",
    "version": 3
   },
   "file_extension": ".py",
   "mimetype": "text/x-python",
   "name": "python",
   "nbconvert_exporter": "python",
   "pygments_lexer": "ipython3",
   "version": "3.9.12"
  },
  "latex_envs": {
   "LaTeX_envs_menu_present": true,
   "autoclose": false,
   "autocomplete": true,
   "bibliofile": "biblio.bib",
   "cite_by": "apalike",
   "current_citInitial": 1,
   "eqLabelWithNumbers": true,
   "eqNumInitial": 1,
   "hotkeys": {
    "equation": "Ctrl-E",
    "itemize": "Ctrl-I"
   },
   "labels_anchors": false,
   "latex_user_defs": false,
   "report_style_numbering": false,
   "user_envs_cfg": false
  },
  "varInspector": {
   "cols": {
    "lenName": 16,
    "lenType": 16,
    "lenVar": 40
   },
   "kernels_config": {
    "python": {
     "delete_cmd_postfix": "",
     "delete_cmd_prefix": "del ",
     "library": "var_list.py",
     "varRefreshCmd": "print(var_dic_list())"
    },
    "r": {
     "delete_cmd_postfix": ") ",
     "delete_cmd_prefix": "rm(",
     "library": "var_list.r",
     "varRefreshCmd": "cat(var_dic_list()) "
    }
   },
   "types_to_exclude": [
    "module",
    "function",
    "builtin_function_or_method",
    "instance",
    "_Feature"
   ],
   "window_display": false
  }
 },
 "nbformat": 4,
 "nbformat_minor": 1
}
